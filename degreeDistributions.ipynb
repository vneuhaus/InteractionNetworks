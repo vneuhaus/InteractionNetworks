{
 "cells": [
  {
   "cell_type": "code",
   "execution_count": 2,
   "metadata": {},
   "outputs": [],
   "source": [
    "from pymongo import MongoClient\n",
    "import numpy as np \n",
    "import pandas as pd\n",
    "import matplotlib.pyplot as plt\n",
    "import matplotlib as mpl\n",
    "import networkx as nx\n",
    "from sympy import degree\n",
    "from tqdm import tqdm\n",
    "import math\n",
    "import seaborn as sns\n",
    "import powerlaw as plw\n",
    "import datetime\n",
    "import plotly.graph_objects as go\n",
    "from reddit import plotting, network\n",
    "from reddit import datahandling as dh\n",
    "%load_ext autoreload\n",
    "%autoreload 2"
   ]
  },
  {
   "cell_type": "code",
   "execution_count": 3,
   "metadata": {},
   "outputs": [],
   "source": [
    "client = MongoClient('localhost', 27017)\n",
    "db = client.reddit\n",
    "\n",
    "def getUTC(date):\n",
    "    return date.replace(tzinfo=datetime.timezone.utc).timestamp()"
   ]
  },
  {
   "cell_type": "code",
   "execution_count": 8,
   "metadata": {},
   "outputs": [],
   "source": [
    "def plotDegreedistr(data, axis):\n",
    "    edges = (np.vstack((data[:,3], data[:,4])))\n",
    "    G = network.genNewNet(edges=edges)\n",
    "    in_degr = np.array(G.in_degree())[:,1]\n",
    "    alpha = plotting.plotpowerlaw(in_degr, axis, show_fit=True, discrete=False, xmin=10)\n",
    "    return alpha\n"
   ]
  },
  {
   "cell_type": "code",
   "execution_count": 19,
   "metadata": {},
   "outputs": [
    {
     "name": "stderr",
     "output_type": "stream",
     "text": [
      "75697it [00:00, 173976.26it/s]\n"
     ]
    },
    {
     "name": "stdout",
     "output_type": "stream",
     "text": [
      "2.798721351053688\n",
      "None\n"
     ]
    },
    {
     "data": {
      "text/plain": [
       "<matplotlib.legend.Legend at 0x1e790a182e0>"
      ]
     },
     "execution_count": 19,
     "metadata": {},
     "output_type": "execute_result"
    },
    {
     "data": {
      "image/png": "[encoded data removed]",
      "text/plain": [
       "<Figure size 432x288 with 1 Axes>"
      ]
     },
     "metadata": {
      "needs_background": "light"
     },
     "output_type": "display_data"
    }
   ],
   "source": [
    "subreddits = ['politics', 'counting']\n",
    "fig, axis = plt.subplots(1)\n",
    "fig.set_figheight(4)\n",
    "fig.set_figwidth(6)\n",
    "fig.tight_layout()\n",
    "fig.subplots_adjust(hspace=0.4)\n",
    "color = ['blue', 'red', 'green']\n",
    "start = getUTC(datetime.datetime(2020,1,1))\n",
    "end = getUTC(datetime.datetime(2020,1,3))\n",
    "subreddit = subreddits[0]\n",
    "data = dh.getData(db,subreddit,start=start,end=end,which='comments', save=False)\n",
    "alpha = plotDegreedistr(data,axis)\n",
    "print(alpha)\n",
    "axis.loglog()\n",
    "axis.legend()"
   ]
  },
  {
   "cell_type": "code",
   "execution_count": null,
   "metadata": {},
   "outputs": [],
   "source": []
  }
 ],
 "metadata": {
  "kernelspec": {
   "display_name": "Python 3.9.7 ('base')",
   "language": "python",
   "name": "python3"
  },
  "language_info": {
   "codemirror_mode": {
    "name": "ipython",
    "version": 3
   },
   "file_extension": ".py",
   "mimetype": "text/x-python",
   "name": "python",
   "nbconvert_exporter": "python",
   "pygments_lexer": "ipython3",
   "version": "3.9.7"
  },
  "orig_nbformat": 4,
  "vscode": {
   "interpreter": {
    "hash": "77238a471535228e8cd55a3ca9e771a69c6c0bc66c44a56c972f9554a4042742"
   }
  }
 },
 "nbformat": 4,
 "nbformat_minor": 2
}
