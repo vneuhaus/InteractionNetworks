{
 "cells": [
  {
   "cell_type": "code",
   "execution_count": 1,
   "metadata": {},
   "outputs": [],
   "source": [
    "from pymongo import MongoClient\n",
    "import numpy as np \n",
    "import pandas as pd\n",
    "import matplotlib.pyplot as plt\n",
    "import matplotlib as mpl\n",
    "import networkx as nx\n",
    "from sympy import degree\n",
    "from tqdm import tqdm\n",
    "import math\n",
    "import seaborn as sns\n",
    "import powerlaw as plw\n",
    "import datetime\n",
    "from IPython.display import display, clear_output\n",
    "import plotly.graph_objects as go\n",
    "from reddit import plotting, network\n",
    "from reddit import datahandling as dh\n",
    "%load_ext autoreload\n",
    "%autoreload 2"
   ]
  },
  {
   "cell_type": "code",
   "execution_count": 2,
   "metadata": {},
   "outputs": [],
   "source": [
    "def add_data(db_from, db_to, collection_from, collection_to, fields_selection , subreddit, db_address='127.0.0.1:27017', ):\n",
    "\n",
    "    \"\"\"\n",
    "    Copies selected fields from a database collection to another.\n",
    "    Args:\n",
    "        db_from (str): origin database\n",
    "        db_to (str): target database\n",
    "        collection_from (str): origin collection\n",
    "        collection_to (str): target collection\n",
    "        fields_selection (str): Set of fields to copy. Valid options: 'comments','submissions'\n",
    "    Returns:\n",
    "        None\n",
    "    \"\"\"\n",
    "\n",
    "    global fields\n",
    "    if fields_selection == 'comments':\n",
    "        fields = ['author', 'created_utc', 'id', 'subreddit', 'score', 'link_id', 'parent_id']\n",
    "    elif fields_selection == 'submissions':\n",
    "        fields = ['author', 'created_utc', 'id', 'subreddit', 'score', 'domain', 'num_comments']\n",
    "    else:\n",
    "        raise ValueError('field_selection must be \"comments\" or \"submissions\"')\n",
    "    client = MongoClient('mongodb://' + db_address)\n",
    "    project = {field:1 for field in fields}\n",
    "    project['_id'] = 0\n",
    "\n",
    "    pipeline = [\n",
    "    {'$project': project},\n",
    "    {'$match': {'subreddit': subreddit}},\n",
    "    {'$merge':{'into':{'db': db_to, 'coll': collection_to}}}\n",
    "    ]\n",
    "    client[db_from][collection_from].aggregate(pipeline)"
   ]
  },
  {
   "cell_type": "code",
   "execution_count": 3,
   "metadata": {},
   "outputs": [],
   "source": [
    "db_from = 'reddit'\n",
    "db_to = 'reddit_subreddits'\n",
    "collection_from = 'comments'\n",
    "collection_to = 'politics'\n",
    "add_data(db_from, db_to, collection_from, collection_to, 'comments', subreddit='politics')\n"
   ]
  },
  {
   "cell_type": "code",
   "execution_count": 11,
   "metadata": {},
   "outputs": [],
   "source": [
    "db_from = 'reddit'\n",
    "db_to = 'reddit_subreddits'\n",
    "collection_from = 'comments'\n",
    "collection_to = 'AskReddit'\n",
    "add_data(db_from, db_to, collection_from, collection_to, 'comments', subreddit='AskReddit')\n"
   ]
  },
  {
   "cell_type": "code",
   "execution_count": null,
   "metadata": {},
   "outputs": [],
   "source": []
  }
 ],
 "metadata": {
  "kernelspec": {
   "display_name": "Python 3.9.7 ('base')",
   "language": "python",
   "name": "python3"
  },
  "language_info": {
   "codemirror_mode": {
    "name": "ipython",
    "version": 3
   },
   "file_extension": ".py",
   "mimetype": "text/x-python",
   "name": "python",
   "nbconvert_exporter": "python",
   "pygments_lexer": "ipython3",
   "version": "3.9.7"
  },
  "orig_nbformat": 4,
  "vscode": {
   "interpreter": {
    "hash": "77238a471535228e8cd55a3ca9e771a69c6c0bc66c44a56c972f9554a4042742"
   }
  }
 },
 "nbformat": 4,
 "nbformat_minor": 2
}
