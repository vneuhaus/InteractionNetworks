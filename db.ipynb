{
 "cells": [
  {
   "cell_type": "code",
   "execution_count": 7,
   "metadata": {},
   "outputs": [
    {
     "name": "stdout",
     "output_type": "stream",
     "text": [
      "The autoreload extension is already loaded. To reload it, use:\n",
      "  %reload_ext autoreload\n"
     ]
    }
   ],
   "source": [
    "from pymongo import MongoClient\n",
    "import numpy as np \n",
    "import pandas as pd\n",
    "import matplotlib.pyplot as plt\n",
    "import matplotlib as mpl\n",
    "import networkx as nx\n",
    "import sys\n",
    "from sympy import degree\n",
    "from tqdm import tqdm\n",
    "import math\n",
    "import seaborn as sns\n",
    "import powerlaw as plw\n",
    "import datetime\n",
    "import h5py\n",
    "from IPython.display import display, clear_output\n",
    "import plotly.graph_objects as go\n",
    "from reddit import plotting, network\n",
    "from reddit import datahandling as dh\n",
    "%load_ext autoreload\n",
    "%autoreload 2"
   ]
  },
  {
   "cell_type": "code",
   "execution_count": 2,
   "metadata": {},
   "outputs": [],
   "source": [
    "def add_data(db_from, db_to, collection_from, collection_to, fields_selection , subreddit, db_address='127.0.0.1:27017', ):\n",
    "\n",
    "    \"\"\"\n",
    "    Copies selected fields from a database collection to another.\n",
    "    Args:\n",
    "        db_from (str): origin database\n",
    "        db_to (str): target database\n",
    "        collection_from (str): origin collection\n",
    "        collection_to (str): target collection\n",
    "        fields_selection (str): Set of fields to copy. Valid options: 'comments','submissions'\n",
    "    Returns:\n",
    "        None\n",
    "    \"\"\"\n",
    "\n",
    "    global fields\n",
    "    if fields_selection == 'comments':\n",
    "        fields = ['author', 'created_utc', 'id', 'subreddit', 'score', 'link_id', 'parent_id']\n",
    "    elif fields_selection == 'submissions':\n",
    "        fields = ['author', 'created_utc', 'id', 'subreddit', 'score', 'domain', 'num_comments']\n",
    "    else:\n",
    "        raise ValueError('field_selection must be \"comments\" or \"submissions\"')\n",
    "    client = MongoClient('mongodb://' + db_address)\n",
    "    project = {field:1 for field in fields}\n",
    "    project['_id'] = 0\n",
    "\n",
    "    pipeline = [\n",
    "    {'$project': project},\n",
    "    {'$match': {'subreddit': subreddit}},\n",
    "    {'$merge':{'into':{'db': db_to, 'coll': collection_to}}}\n",
    "    ]\n",
    "    client[db_from][collection_from].aggregate(pipeline)"
   ]
  },
  {
   "cell_type": "code",
   "execution_count": 3,
   "metadata": {},
   "outputs": [],
   "source": [
    "db_from = 'reddit'\n",
    "db_to = 'reddit_subreddits'\n",
    "collection_from = 'comments'\n",
    "collection_to = 'politics'\n",
    "add_data(db_from, db_to, collection_from, collection_to, 'comments', subreddit='politics')\n"
   ]
  },
  {
   "cell_type": "code",
   "execution_count": 11,
   "metadata": {},
   "outputs": [],
   "source": [
    "db_from = 'reddit'\n",
    "db_to = 'reddit_subreddits'\n",
    "collection_from = 'comments'\n",
    "collection_to = 'AskReddit'\n",
    "add_data(db_from, db_to, collection_from, collection_to, 'comments', subreddit='AskReddit')\n"
   ]
  },
  {
   "cell_type": "code",
   "execution_count": 10,
   "metadata": {},
   "outputs": [],
   "source": [
    "client = MongoClient('localhost', 27017)\n",
    "db = client.reddit"
   ]
  },
  {
   "cell_type": "code",
   "execution_count": 11,
   "metadata": {},
   "outputs": [
    {
     "data": {
      "application/vnd.jupyter.widget-view+json": {
       "model_id": "fa98d6aeddc646fdb012abc2a918bd9f",
       "version_major": 2,
       "version_minor": 0
      },
      "text/plain": [
       "0it [00:00, ?it/s]"
      ]
     },
     "metadata": {},
     "output_type": "display_data"
    },
    {
     "data": {
      "application/vnd.jupyter.widget-view+json": {
       "model_id": "2907eae7e12a4352b9a9d09c543e0b28",
       "version_major": 2,
       "version_minor": 0
      },
      "text/plain": [
       "0it [00:00, ?it/s]"
      ]
     },
     "metadata": {},
     "output_type": "display_data"
    },
    {
     "data": {
      "application/vnd.jupyter.widget-view+json": {
       "model_id": "f24e3152d1a448dcad75875e1578b8c6",
       "version_major": 2,
       "version_minor": 0
      },
      "text/plain": [
       "0it [00:00, ?it/s]"
      ]
     },
     "metadata": {},
     "output_type": "display_data"
    },
    {
     "data": {
      "application/vnd.jupyter.widget-view+json": {
       "model_id": "67aee3116c9748a8974544b5e6af1f41",
       "version_major": 2,
       "version_minor": 0
      },
      "text/plain": [
       "0it [00:00, ?it/s]"
      ]
     },
     "metadata": {},
     "output_type": "display_data"
    },
    {
     "data": {
      "application/vnd.jupyter.widget-view+json": {
       "model_id": "6ff1033e30fb4d268df04b13d4447727",
       "version_major": 2,
       "version_minor": 0
      },
      "text/plain": [
       "0it [00:00, ?it/s]"
      ]
     },
     "metadata": {},
     "output_type": "display_data"
    },
    {
     "data": {
      "application/vnd.jupyter.widget-view+json": {
       "model_id": "44225c6e7e534a36ae6ea9161edf3b9f",
       "version_major": 2,
       "version_minor": 0
      },
      "text/plain": [
       "0it [00:00, ?it/s]"
      ]
     },
     "metadata": {},
     "output_type": "display_data"
    },
    {
     "data": {
      "application/vnd.jupyter.widget-view+json": {
       "model_id": "8981b18dd3d4466f9512a0d7e39ac748",
       "version_major": 2,
       "version_minor": 0
      },
      "text/plain": [
       "0it [00:00, ?it/s]"
      ]
     },
     "metadata": {},
     "output_type": "display_data"
    },
    {
     "data": {
      "application/vnd.jupyter.widget-view+json": {
       "model_id": "19f5f51b67cb4a7fa4f6667060f9cfba",
       "version_major": 2,
       "version_minor": 0
      },
      "text/plain": [
       "0it [00:00, ?it/s]"
      ]
     },
     "metadata": {},
     "output_type": "display_data"
    },
    {
     "data": {
      "application/vnd.jupyter.widget-view+json": {
       "model_id": "869bb1c5c1df4697aafe7d5bd8cac059",
       "version_major": 2,
       "version_minor": 0
      },
      "text/plain": [
       "0it [00:00, ?it/s]"
      ]
     },
     "metadata": {},
     "output_type": "display_data"
    },
    {
     "data": {
      "application/vnd.jupyter.widget-view+json": {
       "model_id": "cd7dd6c5afc64ccea7125c48317e17fc",
       "version_major": 2,
       "version_minor": 0
      },
      "text/plain": [
       "0it [00:00, ?it/s]"
      ]
     },
     "metadata": {},
     "output_type": "display_data"
    },
    {
     "data": {
      "application/vnd.jupyter.widget-view+json": {
       "model_id": "7f29e669586b434b88b6ff2da27e289d",
       "version_major": 2,
       "version_minor": 0
      },
      "text/plain": [
       "0it [00:00, ?it/s]"
      ]
     },
     "metadata": {},
     "output_type": "display_data"
    },
    {
     "data": {
      "application/vnd.jupyter.widget-view+json": {
       "model_id": "effc833f86c84789a0ee774b5ffc2c46",
       "version_major": 2,
       "version_minor": 0
      },
      "text/plain": [
       "0it [00:00, ?it/s]"
      ]
     },
     "metadata": {},
     "output_type": "display_data"
    },
    {
     "data": {
      "application/vnd.jupyter.widget-view+json": {
       "model_id": "774995ac274742aea0489131ff9c8062",
       "version_major": 2,
       "version_minor": 0
      },
      "text/plain": [
       "0it [00:00, ?it/s]"
      ]
     },
     "metadata": {},
     "output_type": "display_data"
    }
   ],
   "source": [
    "subreddits = ['AskScienceDiscussion', 'AskMen', 'AskScience', 'AskWomen', 'CompSci', 'DesMoines', 'IAmA', 'MachineLearning', 'Movies', 'MyLittlePony', 'PersonalFinance', 'TalesFromTechSupport', 'WashingtonDC']\n",
    "for sr in subreddits:\n",
    "    dh.save_to_hdf5(db, 'comments', 'data/raw/{}.h5'.format(sr), sr)"
   ]
  },
  {
   "cell_type": "code",
   "execution_count": 12,
   "metadata": {},
   "outputs": [
    {
     "data": {
      "application/vnd.jupyter.widget-view+json": {
       "model_id": "4238e8c1297442c997972b4df3b5e97a",
       "version_major": 2,
       "version_minor": 0
      },
      "text/plain": [
       "0it [00:00, ?it/s]"
      ]
     },
     "metadata": {},
     "output_type": "display_data"
    },
    {
     "data": {
      "application/vnd.jupyter.widget-view+json": {
       "model_id": "a27225f1152f4e63b422c71bb461565c",
       "version_major": 2,
       "version_minor": 0
      },
      "text/plain": [
       "0it [00:00, ?it/s]"
      ]
     },
     "metadata": {},
     "output_type": "display_data"
    },
    {
     "data": {
      "application/vnd.jupyter.widget-view+json": {
       "model_id": "fb679039bc5f4e34a3a9ef37052db68b",
       "version_major": 2,
       "version_minor": 0
      },
      "text/plain": [
       "0it [00:00, ?it/s]"
      ]
     },
     "metadata": {},
     "output_type": "display_data"
    },
    {
     "data": {
      "application/vnd.jupyter.widget-view+json": {
       "model_id": "2454e0cb06924b97b276668a092d20b7",
       "version_major": 2,
       "version_minor": 0
      },
      "text/plain": [
       "0it [00:00, ?it/s]"
      ]
     },
     "metadata": {},
     "output_type": "display_data"
    },
    {
     "data": {
      "application/vnd.jupyter.widget-view+json": {
       "model_id": "73edea32cdeb43c4a9ef76061fe9f58f",
       "version_major": 2,
       "version_minor": 0
      },
      "text/plain": [
       "0it [00:00, ?it/s]"
      ]
     },
     "metadata": {},
     "output_type": "display_data"
    },
    {
     "data": {
      "application/vnd.jupyter.widget-view+json": {
       "model_id": "1ce9ec7ddb9046f09ed9a845e0dffb5a",
       "version_major": 2,
       "version_minor": 0
      },
      "text/plain": [
       "0it [00:00, ?it/s]"
      ]
     },
     "metadata": {},
     "output_type": "display_data"
    },
    {
     "data": {
      "application/vnd.jupyter.widget-view+json": {
       "model_id": "8dd3b1c15aa04489ae52fa79302e3a0c",
       "version_major": 2,
       "version_minor": 0
      },
      "text/plain": [
       "0it [00:00, ?it/s]"
      ]
     },
     "metadata": {},
     "output_type": "display_data"
    },
    {
     "data": {
      "application/vnd.jupyter.widget-view+json": {
       "model_id": "ef02243d67a6486b97316af8228690ac",
       "version_major": 2,
       "version_minor": 0
      },
      "text/plain": [
       "0it [00:00, ?it/s]"
      ]
     },
     "metadata": {},
     "output_type": "display_data"
    }
   ],
   "source": [
    "subreddits = ['askscience', 'compsci', 'desmoines', 'movies', 'mylittlepony', 'personalfinance', 'talesfromtechsupport', 'washingtondc']\n",
    "for sr in subreddits:\n",
    "    dh.save_to_hdf5(db, 'comments', 'data/raw/{}.h5'.format(sr), sr)"
   ]
  },
  {
   "cell_type": "code",
   "execution_count": 6,
   "metadata": {},
   "outputs": [
    {
     "name": "stdout",
     "output_type": "stream",
     "text": [
      "                   author       id   parent_id\n",
      "0               [deleted]  c696o5c   t3_10002q\n",
      "1             doctorquien  c6979au  t1_c69788m\n",
      "2             willanthony  c697bcr  t1_c6979au\n",
      "3             doctorquien  c697djv  t1_c697bcr\n",
      "4          DonkeyDickDoak  c696q84   t3_1000ce\n",
      "...                   ...      ...         ...\n",
      "9995          puntcuncher  c69fymz   t3_101058\n",
      "9996                 85IQ  c69gmr7   t3_101058\n",
      "9997              lazyFer  c69fuou   t3_10105g\n",
      "9998  YetAnotherRandomGuy  c69g19h   t3_10106o\n",
      "9999            [deleted]  c69gtn9   t3_10106o\n",
      "\n",
      "[10000 rows x 3 columns]\n"
     ]
    },
    {
     "data": {
      "application/vnd.jupyter.widget-view+json": {
       "model_id": "ee586b8cf65141dd9d942b57a87b1aef",
       "version_major": 2,
       "version_minor": 0
      },
      "text/plain": [
       "  0%|          | 0/10000 [00:00<?, ?it/s]"
      ]
     },
     "metadata": {},
     "output_type": "display_data"
    },
    {
     "name": "stdout",
     "output_type": "stream",
     "text": [
      "               author       id parent_id  user_id parent_author\n",
      "0           [deleted]  c696o5c    10002q     1558           NaN\n",
      "4      DonkeyDickDoak  c696q84    1000ce      382           NaN\n",
      "5          CRYMTYPHON  c696srf    1000ce      224           NaN\n",
      "19    1000000students  c696wf6    1000en        5           NaN\n",
      "6            IrishJoe  c696ydr    1000ce      673           NaN\n",
      "...               ...      ...       ...      ...           ...\n",
      "1750        [deleted]  c6z1boi   c6z07ro     1558           NaN\n",
      "1751           curien  c6z8gv1   c6z1boi     1890           NaN\n",
      "1752        [deleted]  c6zbsp6   c6z8gv1     1558           NaN\n",
      "1753        [deleted]  c79p7m3   c6z8gv1     1558           NaN\n",
      "9069  iPeeLavaLampGoo  c7qkbij   c69jdun     2265           NaN\n",
      "\n",
      "[10000 rows x 5 columns]\n"
     ]
    }
   ],
   "source": [
    "df = pd.read_hdf('data/raw/politics.h5',key = 'df',stop=10000)\n",
    "print(df)\n",
    "df = dh.processRaw(df, rem_bots=False, rem_del=False)\n",
    "print(df)\n",
    "df[['author','id','parent_id', 'parent_author']] = df[['author','id','parent_id', 'parent_author']].astype(object)\n",
    "df[['user_id']] = df[['user_id']].astype(int)\n",
    "#df.to_hdf('data/proc/politics.h5', key='df')"
   ]
  },
  {
   "cell_type": "code",
   "execution_count": 20,
   "metadata": {},
   "outputs": [
    {
     "name": "stderr",
     "output_type": "stream",
     "text": [
      "0it [00:00, ?it/s]"
     ]
    },
    {
     "name": "stdout",
     "output_type": "stream",
     "text": [
      "                author       id   parent_id\n",
      "0            [deleted]  c696o5c   t3_10002q\n",
      "1          doctorquien  c6979au  t1_c69788m\n",
      "2          willanthony  c697bcr  t1_c6979au\n",
      "3          doctorquien  c697djv  t1_c697bcr\n",
      "4       DonkeyDickDoak  c696q84   t3_1000ce\n",
      "...                ...      ...         ...\n",
      "999995    BrianDawkins  c6xjwrd  t1_c6xjuww\n",
      "999996       Caelestia  c6xk9av  t1_c6xjuww\n",
      "999997    BrianDawkins  c6xjw76  t1_c6xjv6a\n",
      "999998       [deleted]  c6xk1sl  t1_c6xjvhx\n",
      "999999   Frantic_Child  c6xjxa0  t1_c6xjw76\n",
      "\n",
      "[987876 rows x 3 columns]\n"
     ]
    },
    {
     "name": "stderr",
     "output_type": "stream",
     "text": [
      "1it [00:09,  9.81s/it]"
     ]
    },
    {
     "name": "stdout",
     "output_type": "stream",
     "text": [
      "                     author       id   parent_id\n",
      "0       Unwanted_Commentary  c6xjxvh  t1_c6xjwrd\n",
      "1                 [deleted]  c6xk12w  t1_c6xjxa0\n",
      "2             AdelleChattre  c6xk1mz  t1_c6xjxa0\n",
      "3                     wwabc  c6xkdri  t1_c6xjxa0\n",
      "4                   Mookhaz  c6xkerr  t1_c6xjxa0\n",
      "...                     ...      ...         ...\n",
      "999995          eaturbrainz  c7s814p  t1_c7s3lgf\n",
      "999996         peabodygreen  c7s82zb  t1_c7s3lgf\n",
      "999997   TracyMorganFreeman  c7s3w50  t1_c7s3ll9\n",
      "999998         Crunkenstien  c7s9ed7  t1_c7s3lu8\n",
      "999999  Paranoidexboyfriend  c7sbo71  t1_c7s3lu8\n",
      "\n",
      "[988768 rows x 3 columns]\n"
     ]
    },
    {
     "name": "stderr",
     "output_type": "stream",
     "text": [
      "2it [00:19,  9.93s/it]"
     ]
    },
    {
     "name": "stdout",
     "output_type": "stream",
     "text": [
      "                      author       id   parent_id\n",
      "0                 Perseus109  c7s534y  t1_c7s3lyl\n",
      "1                  [deleted]  c7s535e  t1_c7s3lyl\n",
      "2             p71interceptor  c7s5pcc  t1_c7s3lyl\n",
      "3                   amesseck  c7s5rxe  t1_c7s3lyl\n",
      "4           Original_Lucifer  c7s6jcd  t1_c7s3lyl\n",
      "...                      ...      ...         ...\n",
      "999995             [deleted]  c8tuwjl  t1_c8tpc2u\n",
      "999996  ThisIsMyJetPackWHEEE  c8twuim  t1_c8tpc2u\n",
      "999997         guyonthissite  c8tq1bp  t1_c8tppkp\n",
      "999998          I_Hate_Nerds  c8ts86n  t1_c8tq1bp\n",
      "999999             [deleted]  c8tsp88  t1_c8tscch\n",
      "\n",
      "[986225 rows x 3 columns]\n"
     ]
    },
    {
     "name": "stderr",
     "output_type": "stream",
     "text": [
      "3it [00:29,  9.74s/it]"
     ]
    },
    {
     "name": "stdout",
     "output_type": "stream",
     "text": [
      "                  author       id   parent_id\n",
      "0          Triassic_Bark  c8u3nyo  t1_c8twuim\n",
      "1              pfalcon42  c8tzj2e  t1_c8tyu0c\n",
      "2              [deleted]  c8u6mbr  t1_c8tzj2e\n",
      "3              pfalcon42  c8u7a7p  t1_c8u6mbr\n",
      "4             Zoshchenko  c8tldqj   t3_1a2wq2\n",
      "...                  ...      ...         ...\n",
      "999994           marx051  ca23g0j  t1_ca23e4y\n",
      "999995         [deleted]  ca255ka  t1_ca23ea7\n",
      "999996     Oscar_obvious  ca23r5g  t1_ca23eef\n",
      "999998  Chicken_McNigger  ca23wwp  t1_ca23r5g\n",
      "999999         [deleted]  ca23xry  t1_ca23vrv\n",
      "\n",
      "[984523 rows x 3 columns]\n"
     ]
    },
    {
     "name": "stderr",
     "output_type": "stream",
     "text": [
      "4it [00:38,  9.55s/it]"
     ]
    },
    {
     "name": "stdout",
     "output_type": "stream",
     "text": [
      "                  author       id   parent_id\n",
      "0          Oscar_obvious  ca24u70  t1_ca23wwp\n",
      "1       IllusiveObserver  ca277cy  t1_ca23wwp\n",
      "2                  Inuma  ca2ad3g  t1_ca23wwp\n",
      "3                th4tguy  ca26pt7  t1_ca246ic\n",
      "4                marx051  ca24q1c  t1_ca247ao\n",
      "...                  ...      ...         ...\n",
      "999995          phattsao  cbeviv7   t3_1jfqzz\n",
      "999996    InOtherThreads  cbez9zs   t3_1jfqzz\n",
      "999997         kawikzguy  cbf3xcu   t3_1jfqzz\n",
      "999998          ratcheer  cbea6nd  t1_cbe7wp7\n",
      "999999         [deleted]  cbe7wp7   t3_1jfrbj\n",
      "\n",
      "[984891 rows x 3 columns]\n"
     ]
    },
    {
     "name": "stderr",
     "output_type": "stream",
     "text": [
      "5it [00:48,  9.85s/it]"
     ]
    },
    {
     "name": "stdout",
     "output_type": "stream",
     "text": [
      "               author       id   parent_id\n",
      "0            Rowlansm  cbe9vna  t1_cbe7iso\n",
      "1          cakeislove  cbeajoy  t1_cbe7iso\n",
      "2          supersober  cbedvhy  t1_cbe7iso\n",
      "3       i_am_the_fish  cbefd7b  t1_cbe7iso\n",
      "4           FaroutIGE  cbebf1i  t1_cbe7rvg\n",
      "...               ...      ...         ...\n",
      "999995   fuk_dapolice  cd462v9  t1_cd42xo1\n",
      "999996    Whiskytoast  cd430un  t1_cd42xq6\n",
      "999997   HeroOfCanton  cd434qh  t1_cd42xsn\n",
      "999998       derphurr  cd4amin  t1_cd42xsn\n",
      "999999  userknamework  cd43wcv  t1_cd42xxe\n",
      "\n",
      "[982479 rows x 3 columns]\n"
     ]
    },
    {
     "name": "stderr",
     "output_type": "stream",
     "text": [
      "6it [00:58,  9.68s/it]"
     ]
    },
    {
     "name": "stdout",
     "output_type": "stream",
     "text": [
      "                   author       id   parent_id\n",
      "0       pinata_penis_pump  cd43qdz  t1_cd42yl1\n",
      "1                   RsubG  cd44tx1  t1_cd42yxk\n",
      "2            howardmoon68  cd445dj  t1_cd42z00\n",
      "3                nerfdude  cd4531k  t1_cd42z32\n",
      "4              Ninjaboots  cd45fwj  t1_cd42z32\n",
      "...                   ...      ...         ...\n",
      "999995       thirtydating  cg19na3  t1_cg0u2hf\n",
      "999996            MrBooks  cg1bu03  t1_cg19na3\n",
      "999997       thirtydating  cg1iy4x  t1_cg1bu03\n",
      "999998            MrBooks  cg1k283  t1_cg1iy4x\n",
      "999999       thirtydating  cg1leyg  t1_cg1k283\n",
      "\n",
      "[983657 rows x 3 columns]\n"
     ]
    },
    {
     "name": "stderr",
     "output_type": "stream",
     "text": [
      "7it [01:07,  9.46s/it]"
     ]
    },
    {
     "name": "stdout",
     "output_type": "stream",
     "text": [
      "              author       id   parent_id\n",
      "0            MrBooks  cg23wlp  t1_cg1leyg\n",
      "1       thirtydating  cg24bjg  t1_cg23wlp\n",
      "2            MrBooks  cg24sgc  t1_cg24bjg\n",
      "3       thirtydating  cg2dipt  t1_cg24sgc\n",
      "4            MrBooks  cg2hdzv  t1_cg2dipt\n",
      "...              ...      ...         ...\n",
      "999995    forgeofgod  cj4dwhi  t1_cj49lb7\n",
      "999996        Sluuha  cj51wte  t1_cj4bjl6\n",
      "999997        KopOut  cj3pgto   t3_2bblxa\n",
      "999998     [deleted]  cj3qc8v   t3_2bblxa\n",
      "999999       Sidwill  cj3qmpl   t3_2bblxa\n",
      "\n",
      "[981350 rows x 3 columns]\n"
     ]
    },
    {
     "name": "stderr",
     "output_type": "stream",
     "text": [
      "8it [01:16,  9.49s/it]"
     ]
    },
    {
     "name": "stdout",
     "output_type": "stream",
     "text": [
      "             author       id   parent_id\n",
      "0       dkliberator  cj3uaab   t3_2bblxa\n",
      "1          atchijov  cj3vmr8   t3_2bblxa\n",
      "2           wwjd117  cj45y0g   t3_2bblxa\n",
      "3       FortHouston  cj3oxtw   t3_2bbm7q\n",
      "4         0xD153A53  cj47xw5  t1_cj3q702\n",
      "...             ...      ...         ...\n",
      "999995   darkangelx  cmoln0d   t3_2omatc\n",
      "999996   BloodyNine  cmolru9   t3_2omatc\n",
      "999997   Fuqasshole  cmolv00   t3_2omatc\n",
      "999998       Loki-L  cmom5wj   t3_2omatc\n",
      "999999    [deleted]  cmom7xe   t3_2omatc\n",
      "\n",
      "[977159 rows x 3 columns]\n"
     ]
    },
    {
     "name": "stderr",
     "output_type": "stream",
     "text": [
      "9it [01:27,  9.95s/it]"
     ]
    },
    {
     "name": "stdout",
     "output_type": "stream",
     "text": [
      "                author       id   parent_id\n",
      "0            vespadano  cmomjgo   t3_2omatc\n",
      "1        swingmemallet  cmomtxg   t3_2omatc\n",
      "2       odoroustobacco  cmooz3q   t3_2omatc\n",
      "3            Lemondish  cmop6i4   t3_2omatc\n",
      "4             Cayvmann  cmopdl1   t3_2omatc\n",
      "...                ...      ...         ...\n",
      "999995          RiPont  cqlfppp  t1_cql8the\n",
      "999996      Pr0toplasm  cqlm0zj  t1_cql8the\n",
      "999997     Footwarrior  cqlepf3  t1_cql8voc\n",
      "999998      funky_duck  cql98u2  t1_cql91rq\n",
      "999999  travelagent007  cqla1g4  t1_cql92xu\n",
      "\n",
      "[980282 rows x 3 columns]\n"
     ]
    },
    {
     "name": "stderr",
     "output_type": "stream",
     "text": [
      "10it [01:37,  9.74s/it]"
     ]
    },
    {
     "name": "stdout",
     "output_type": "stream",
     "text": [
      "                    author       id   parent_id\n",
      "0            Demonthehusky  cqlclqz  t1_cql95p6\n",
      "1           Bethistopheles  cqlv0po  t1_cql95p6\n",
      "2       Youknowlikemagnets  cql9bgf  t1_cql98oo\n",
      "3            SampsonRustic  cql9p4r  t1_cql98u2\n",
      "4          Vermonty_Python  cqlhpa2  t1_cql98u2\n",
      "...                    ...      ...         ...\n",
      "999995              shoka2  ctul6k4  t1_ctukst9\n",
      "999996            Ajax2580  ctult3i  t1_ctukst9\n",
      "999997      dmkicksballs13  ctumdpn  t1_ctukst9\n",
      "999998               lee61  ctumoeo  t1_ctukst9\n",
      "999999          Slackerboy  ctumwxi  t1_ctukst9\n",
      "\n",
      "[977391 rows x 3 columns]\n"
     ]
    },
    {
     "name": "stderr",
     "output_type": "stream",
     "text": [
      "11it [01:46,  9.54s/it]"
     ]
    },
    {
     "name": "stdout",
     "output_type": "stream",
     "text": [
      "                   author       id   parent_id\n",
      "0       OperationDepuzzle  ctuncos  t1_ctukst9\n",
      "1                ventimus  ctuq9uq  t1_ctukst9\n",
      "2              strumpster  ctukyun  t1_ctuktgy\n",
      "3              Slackerboy  ctumveo  t1_ctuktgy\n",
      "4              Alienm00se  ctun6df  t1_ctuktgy\n",
      "...                   ...      ...         ...\n",
      "999995            nmanjee  cw13juo  t1_cw12wca\n",
      "999996       DigUpStupid1  cw16lbg  t1_cw12xjc\n",
      "999997     Minn-ee-sottaa  cw13l70  t1_cw13juo\n",
      "999998            nmanjee  cw14z4o  t1_cw13l70\n",
      "999999   4chinisbetterkek  cw18por  t1_cw16lbg\n",
      "\n",
      "[980892 rows x 3 columns]\n"
     ]
    },
    {
     "name": "stderr",
     "output_type": "stream",
     "text": [
      "12it [01:56,  9.74s/it]"
     ]
    },
    {
     "name": "stdout",
     "output_type": "stream",
     "text": [
      "                  author       id   parent_id\n",
      "0           DigUpStupid1  cw1bqmm  t1_cw18por\n",
      "1       4chinisbetterkek  cw1c933  t1_cw1bqmm\n",
      "2           DigUpStupid1  cw1cqkr  t1_cw1c933\n",
      "3       4chinisbetterkek  cw1cvcu  t1_cw1cqkr\n",
      "4        The1andonlyZack  cw0z174   t3_3ow6hr\n",
      "...                  ...      ...         ...\n",
      "999995             njara  cy2wg64  t1_cy2wdl6\n",
      "999996           taosk8r  cy36xfx  t1_cy2wg64\n",
      "999997           taosk8r  cy36ymw  t1_cy2wg64\n",
      "999998             njara  cy377mf  t1_cy36xfx\n",
      "999999           taosk8r  cy4033q  t1_cy377mf\n",
      "\n",
      "[980297 rows x 3 columns]\n"
     ]
    },
    {
     "name": "stderr",
     "output_type": "stream",
     "text": [
      "13it [02:07, 10.04s/it]"
     ]
    },
    {
     "name": "stdout",
     "output_type": "stream",
     "text": [
      "                      author       id   parent_id\n",
      "0                      njara  cy40nre  t1_cy4033q\n",
      "1                    taosk8r  cy4333k  t1_cy40nre\n",
      "2                 RojoSangre  cxwqb93   t3_3wjxu7\n",
      "3       ThisIsNotAPhotograph  cxwqf96   t3_3wjxu7\n",
      "4                   Sleekery  cxwqfbp   t3_3wjxu7\n",
      "...                      ...      ...         ...\n",
      "999995      TheManWhoPanders  czf42kk  t1_czers19\n",
      "999996       utmostgentleman  czes0jb  t1_czers7e\n",
      "999997         Apollo_Screed  czesfc6  t1_czers7e\n",
      "999998       TrippleTonyHawk  czf1b59  t1_czersn6\n",
      "999999    spoiled_generation  czeruwk  t1_czerssz\n",
      "\n",
      "[980515 rows x 3 columns]\n"
     ]
    },
    {
     "name": "stderr",
     "output_type": "stream",
     "text": [
      "14it [02:16,  9.76s/it]"
     ]
    },
    {
     "name": "stdout",
     "output_type": "stream",
     "text": [
      "                  author       id   parent_id\n",
      "0           icarus-_-sky  czet4b7  t1_czersw9\n",
      "1         ramblingpariah  czetu0n  t1_czersw9\n",
      "2           sweetmachuca  czeub5j  t1_czerswv\n",
      "3            arbitrary19  czevny8  t1_czerswv\n",
      "4               DoctorXX  czew7o2  t1_czerswv\n",
      "...                  ...      ...         ...\n",
      "999995              ArkL  d07hdvd  t1_d07h3sj\n",
      "999996         [deleted]  d07h7zr  t1_d07h4nq\n",
      "999997         spikey666  d07hbam  t1_d07h7zr\n",
      "999998  no_coats_for_you  d07he22  t1_d07h9nv\n",
      "999999         spikey666  d07hfnb  t1_d07hams\n",
      "\n",
      "[980447 rows x 3 columns]\n"
     ]
    },
    {
     "name": "stderr",
     "output_type": "stream",
     "text": [
      "15it [02:25,  9.72s/it]"
     ]
    },
    {
     "name": "stdout",
     "output_type": "stream",
     "text": [
      "                    author       id   parent_id\n",
      "0         no_coats_for_you  d07hzhc  t1_d07hdvd\n",
      "1          RightWingReject  d07hjrd  t1_d07he22\n",
      "2            HighAndOnline  d07hjzh  t1_d07hfnb\n",
      "3                   abbzug  d07hr8r  t1_d07hfnb\n",
      "4               urnbabyurn  d07jnra  t1_d07hild\n",
      "...                    ...      ...         ...\n",
      "999995       Cycloptichorn  d0uvnnw  t1_d0uuw0y\n",
      "999996        skotkozb0237  d0uvuh8  t1_d0uuw0y\n",
      "999997  UndividedDiversity  d0uy12c  t1_d0uuw0y\n",
      "999998         myprimetime  d0uydlw  t1_d0uuw0y\n",
      "999999     BurnedOut_ITGuy  d0uz1a4  t1_d0uuw0y\n",
      "\n",
      "[979999 rows x 3 columns]\n"
     ]
    },
    {
     "name": "stderr",
     "output_type": "stream",
     "text": [
      "16it [02:35,  9.71s/it]"
     ]
    },
    {
     "name": "stdout",
     "output_type": "stream",
     "text": [
      "                     author       id   parent_id\n",
      "0        redditmodz_eatcock  d0v0gmn  t1_d0uuw0y\n",
      "1            BernieTron2000  d0v1n93  t1_d0uuw0y\n",
      "2                  scarfox1  d0v1tg3  t1_d0uuw0y\n",
      "3           CallRespiratory  d0v422p  t1_d0uuw0y\n",
      "4               RealityRush  d0v645c  t1_d0uuw0y\n",
      "...                     ...      ...         ...\n",
      "999995            iaruoksid  d1j8wmx   t3_4clerf\n",
      "999996  sausage_ditka_bulls  d1j97ae   t3_4clerf\n",
      "999997            [deleted]  d1j9g4n   t3_4clerf\n",
      "999998            [deleted]  d1j9hpj   t3_4clerf\n",
      "999999                duqit  d1j9q80   t3_4clerf\n",
      "\n",
      "[980166 rows x 3 columns]\n"
     ]
    },
    {
     "name": "stderr",
     "output_type": "stream",
     "text": [
      "17it [02:46, 10.00s/it]"
     ]
    },
    {
     "name": "stdout",
     "output_type": "stream",
     "text": [
      "                     author       id   parent_id\n",
      "0                   CykoTom  d1jatbr   t3_4clerf\n",
      "1                 Oh_Henry1  d1javgj   t3_4clerf\n",
      "2             chainersedict  d1jaz4a   t3_4clerf\n",
      "3              SalBaeSueBae  d1jbcxe   t3_4clerf\n",
      "4                 DarthPops  d1jc0cu   t3_4clerf\n",
      "...                     ...      ...         ...\n",
      "999995         redditor4258  d2dbcau  t1_d2dasg9\n",
      "999996          Shelltonius  d2e7fzh  t1_d2dauca\n",
      "999997          Bernie_BTFO  d2dbdbw  t1_d2daujd\n",
      "999998  RedditConsciousness  d2digix  t1_d2daup6\n",
      "999999  DisregardDisComment  d2dbfb6  t1_d2dazir\n",
      "\n",
      "[979905 rows x 3 columns]\n"
     ]
    },
    {
     "name": "stderr",
     "output_type": "stream",
     "text": [
      "18it [02:55,  9.86s/it]"
     ]
    },
    {
     "name": "stdout",
     "output_type": "stream",
     "text": [
      "                 author       id   parent_id\n",
      "0         TheFlyingBoat  d2dblne  t1_d2dazir\n",
      "1               afkas17  d2dlfez  t1_d2dazir\n",
      "2       powercorruption  d2db856  t1_d2dazk7\n",
      "3            irishspuds  d2df7ql  t1_d2dazux\n",
      "4       midnightketoker  d2dg6ze  t1_d2dazux\n",
      "...                 ...      ...         ...\n",
      "999995      saddlebrown  d375yjv  t1_d36te55\n",
      "999996        Ambiwlans  d36u8ln  t1_d36te6c\n",
      "999997          Thegg11  d36uiqa  t1_d36te6c\n",
      "999998            tinlo  d36tn6r  t1_d36te96\n",
      "999999       pinko_snob  d36tttc  t1_d36te96\n",
      "\n",
      "[981048 rows x 3 columns]\n"
     ]
    },
    {
     "name": "stderr",
     "output_type": "stream",
     "text": [
      "19it [03:04,  9.63s/it]"
     ]
    },
    {
     "name": "stdout",
     "output_type": "stream",
     "text": [
      "                      author       id   parent_id\n",
      "0               helpful_hank  d36vwbk  t1_d36te96\n",
      "1                 Dcajunpimp  d36xffw  t1_d36te96\n",
      "2                  dust4ngel  d36yzll  t1_d36te96\n",
      "3              Extrospective  d37087r  t1_d36te96\n",
      "4              scottieducati  d370lw2  t1_d36te96\n",
      "...                      ...      ...         ...\n",
      "999995    Mayor_of_tittycity  d40flhl  t1_d40fc96\n",
      "999996               RyanMTB  d40gbii  t1_d40fcha\n",
      "999997  ShitSandwichOfficial  d40ffhv  t1_d40fco2\n",
      "999998              Serantos  d40g8c2  t1_d40fdhv\n",
      "999999       SaveTheSpycrabs  d40fn9c  t1_d40fdz7\n",
      "\n",
      "[981994 rows x 3 columns]\n"
     ]
    },
    {
     "name": "stderr",
     "output_type": "stream",
     "text": [
      "20it [03:14,  9.67s/it]"
     ]
    },
    {
     "name": "stdout",
     "output_type": "stream",
     "text": [
      "                      author       id   parent_id\n",
      "0                 Reddirator  d40i7ws  t1_d40ffv1\n",
      "1                   WhiskeyT  d40fhgx  t1_d40ffya\n",
      "2                       Luph  d40firk  t1_d40ffya\n",
      "3              Give_me_an_M3  d40flde  t1_d40ffya\n",
      "4            SaveTheSpycrabs  d40flee  t1_d40ffya\n",
      "...                      ...      ...         ...\n",
      "999995         deeprogrammed  d4tdqc6   t3_4qj0my\n",
      "999996             [deleted]  d4tenx7   t3_4qj0my\n",
      "999997              Odlemart  d4ti5zx   t3_4qj0my\n",
      "999998       Plugawy_Nedznik  d4tp24a  t1_d4tec3q\n",
      "999999  ithinkhitlerwasoktbh  d4tft22  t1_d4tf0q8\n",
      "\n",
      "[980699 rows x 3 columns]\n"
     ]
    },
    {
     "name": "stderr",
     "output_type": "stream",
     "text": [
      "21it [03:25, 10.08s/it]"
     ]
    },
    {
     "name": "stdout",
     "output_type": "stream",
     "text": [
      "                      author       id   parent_id\n",
      "0            ItsYaBoyBeasley  d4tg7x3  t1_d4tfh97\n",
      "1                  [deleted]  d4txfay  t1_d4tfh97\n",
      "2                    misscee  d4tg325  t1_d4tft22\n",
      "3                      totts  d4tlgz5  t1_d4tg325\n",
      "4                  firemogle  d4u0484  t1_d4tlgz5\n",
      "...                      ...      ...         ...\n",
      "999995           airoderinde  d5lwb7p   t3_4tzclz\n",
      "999996  TedsEmporiumEmporium  d5lwb8b   t3_4tzclz\n",
      "999997               Media-n  d5lwb8l   t3_4tzclz\n",
      "999998                 BatiH  d5lwb8t   t3_4tzclz\n",
      "999999             beach-bum  d5lwb9b   t3_4tzclz\n",
      "\n",
      "[980762 rows x 3 columns]\n"
     ]
    },
    {
     "name": "stderr",
     "output_type": "stream",
     "text": [
      "22it [03:35,  9.85s/it]"
     ]
    },
    {
     "name": "stdout",
     "output_type": "stream",
     "text": [
      "              author       id   parent_id\n",
      "0         jodatoufin  d5lwbaa   t3_4tzclz\n",
      "1          [deleted]  d5lwbav   t3_4tzclz\n",
      "2          tuxedotim  d5lwbby   t3_4tzclz\n",
      "3          [deleted]  d5lwbcd   t3_4tzclz\n",
      "4             thatpj  d5lwbch   t3_4tzclz\n",
      "...              ...      ...         ...\n",
      "999995      JackOCat  d60pgwo  t1_d60owl4\n",
      "999996     [deleted]  d60q5q4  t1_d60owl4\n",
      "999997     [deleted]  d60sxvm  t1_d60owl4\n",
      "999998      OninWar_  d60syat  t1_d60owl4\n",
      "999999  The_Vibrator  d60p2f1  t1_d60oxiz\n",
      "\n",
      "[980994 rows x 3 columns]\n"
     ]
    },
    {
     "name": "stderr",
     "output_type": "stream",
     "text": [
      "23it [03:44,  9.64s/it]"
     ]
    },
    {
     "name": "stdout",
     "output_type": "stream",
     "text": [
      "                 author       id   parent_id\n",
      "0             Norainnow  d60pett  t1_d60oxiz\n",
      "2               Pavonia  d60uqun  t1_d60p2f1\n",
      "3          The_Vibrator  d60p562  t1_d60p3ka\n",
      "5          The_Vibrator  d60p96p  t1_d60p6em\n",
      "6          The_Vibrator  d60pags  t1_d60p8k0\n",
      "...                 ...      ...         ...\n",
      "999995        [deleted]  d6shze3  t1_d6s6jv5\n",
      "999996        Yosarian2  d6sga70  t1_d6s6kil\n",
      "999997  TheSonofLiberty  d6s853f  t1_d6s6kos\n",
      "999998        IAmA_Eric  d6s6rau  t1_d6s6kvj\n",
      "999999       tau-lepton  d6s6rpu  t1_d6s6lp1\n",
      "\n",
      "[976539 rows x 3 columns]\n"
     ]
    },
    {
     "name": "stderr",
     "output_type": "stream",
     "text": [
      "24it [03:54,  9.77s/it]"
     ]
    },
    {
     "name": "stdout",
     "output_type": "stream",
     "text": [
      "                     author       id   parent_id\n",
      "0                McKingford  d6spvqm  t1_d6s6lp1\n",
      "1       OnlyRadioheadLyrics  d6s6nzj  t1_d6s6lz1\n",
      "2         skidmarkeddrawers  d6s7fk2  t1_d6s6m2s\n",
      "3                   mike410  d6scav5  t1_d6s6m2s\n",
      "4                 worldgoes  d6scfl3  t1_d6s6m2s\n",
      "...                     ...      ...         ...\n",
      "999995          sniktawekim  d7ldeym  t1_d7ld86q\n",
      "999996          MustangTech  d7lht58  t1_d7ld8d0\n",
      "999997               madjoy  d7ldbd3  t1_d7ld8ia\n",
      "999998       SurpriseDragon  d7lgszh  t1_d7ld8rh\n",
      "999999            [deleted]  d7ldqz9  t1_d7ld93v\n",
      "\n",
      "[967587 rows x 3 columns]\n"
     ]
    },
    {
     "name": "stderr",
     "output_type": "stream",
     "text": [
      "25it [04:05, 10.09s/it]"
     ]
    },
    {
     "name": "stdout",
     "output_type": "stream",
     "text": [
      "                      author       id   parent_id\n",
      "0                       laxt  d7leo4z  t1_d7ld97n\n",
      "1           A_Wild_Blue_Card  d7lf6o7  t1_d7ld97n\n",
      "2             SmileyGladhand  d7lfik9  t1_d7ld9q2\n",
      "3             RandomEmoticon  d7lf91s  t1_d7ld9qs\n",
      "4       thegreatmathturbator  d7lyysi  t1_d7ld9qs\n",
      "...                      ...      ...         ...\n",
      "999995         chunky_donuts  d855eff  t1_d8551eh\n",
      "999996             [deleted]  d858qno  t1_d8551eh\n",
      "999997    DOWNVOTED_BY_EUROS  d855mrq  t1_d8551vi\n",
      "999998         chunky_donuts  d855d7y  t1_d8552lc\n",
      "999999             high_side  d856g8s  t1_d8552lc\n",
      "\n",
      "[964635 rows x 3 columns]\n"
     ]
    },
    {
     "name": "stderr",
     "output_type": "stream",
     "text": [
      "26it [04:14,  9.88s/it]"
     ]
    },
    {
     "name": "stdout",
     "output_type": "stream",
     "text": [
      "                  author       id   parent_id\n",
      "0               frackpot  d855b1p  t1_d8553n3\n",
      "1            lucipherius  d855825  t1_d8553wl\n",
      "2               noopept2  d855iah  t1_d8556tt\n",
      "3               noopept2  d855kki  t1_d85571u\n",
      "4                Bebedvd  d855a8q  t1_d855825\n",
      "...                  ...      ...         ...\n",
      "999995             cejmp  d8oqdd4   t3_5707ea\n",
      "999996          SlamDunx  d8oqhjd   t3_5707ea\n",
      "999997        Ainsley222  d8oqwd0   t3_5707ea\n",
      "999998  the_deepest_toot  d8orerw   t3_5707ea\n",
      "999999   TooMuchToSayMan  d8ot2d8   t3_5707ea\n",
      "\n",
      "[965685 rows x 3 columns]\n"
     ]
    },
    {
     "name": "stderr",
     "output_type": "stream",
     "text": [
      "27it [04:23,  9.75s/it]"
     ]
    },
    {
     "name": "stdout",
     "output_type": "stream",
     "text": [
      "                 author       id   parent_id\n",
      "0       realworldeditor  d8ouhf0   t3_5707ea\n",
      "1        noelterugibson  d8p8bcf   t3_5707ea\n",
      "2         Mars_Darinder  d8pyhij   t3_5707ea\n",
      "3         stagefuknfour  d8o2h5z  t1_d8nv8j2\n",
      "5             jellolegz  d8nv8j2   t3_5707iv\n",
      "...                 ...      ...         ...\n",
      "999987    bassististist  d97bnf4   t3_59c6uj\n",
      "999988      iuodgeekmom  d97cgft   t3_59c6uj\n",
      "999989         thejoshu  d97dhp2   t3_59c6uj\n",
      "999990        zacdenver  d97k6f4   t3_59c6uj\n",
      "999996       pianistafj  d979nc6   t3_59c7jd\n",
      "\n",
      "[958452 rows x 3 columns]\n"
     ]
    },
    {
     "name": "stderr",
     "output_type": "stream",
     "text": [
      "28it [04:33,  9.83s/it]"
     ]
    },
    {
     "name": "stdout",
     "output_type": "stream",
     "text": [
      "                      author       id   parent_id\n",
      "1               slipstream37  d979mdn   t3_59c83k\n",
      "2                  [deleted]  d97a6ir   t3_59c83k\n",
      "3            TheMountainPass  d97fmxx   t3_59c83k\n",
      "4                  zacdenver  d97jy2v   t3_59c83k\n",
      "7                  [deleted]  d97cz3w  t1_d979jse\n",
      "...                      ...      ...         ...\n",
      "999995    CeleryStickBeating  d9qoqw5  t1_d9qlmke\n",
      "999996        Faxanadude2015  d9qohco  t1_d9qlmrd\n",
      "999997  HillarysThroatPhlegm  d9r4mv4  t1_d9qlmrd\n",
      "999998              ThaNorth  d9qpael  t1_d9qlnbb\n",
      "999999        entropy_bucket  d9qucxh  t1_d9qlnbb\n",
      "\n",
      "[958892 rows x 3 columns]\n"
     ]
    },
    {
     "name": "stderr",
     "output_type": "stream",
     "text": [
      "29it [04:44, 10.08s/it]"
     ]
    },
    {
     "name": "stdout",
     "output_type": "stream",
     "text": [
      "                   author       id   parent_id\n",
      "0                  fkdsla  d9r1pb7  t1_d9qlnbb\n",
      "1               [deleted]  d9qlthc  t1_d9qlnwl\n",
      "2               [deleted]  d9qlv1s  t1_d9qlnwl\n",
      "3                loki8481  d9qlygp  t1_d9qlnwl\n",
      "4               [deleted]  d9qlzsa  t1_d9qlnwl\n",
      "...                   ...      ...         ...\n",
      "999994   AlwaysAheadOfYou  da1643b  t1_da15qfg\n",
      "999996          [deleted]  da16mow  t1_da15rf7\n",
      "999997  DebbieHarryPotter  da170l0  t1_da15rf7\n",
      "999998    Plugawy_Nedznik  da17ao8  t1_da15rf7\n",
      "999999        JacobCrim88  da17o0r  t1_da15rf7\n",
      "\n",
      "[969905 rows x 3 columns]\n"
     ]
    },
    {
     "name": "stderr",
     "output_type": "stream",
     "text": [
      "30it [04:54, 10.06s/it]"
     ]
    },
    {
     "name": "stdout",
     "output_type": "stream",
     "text": [
      "                     author       id   parent_id\n",
      "0                 [deleted]  da18bho  t1_da15rf7\n",
      "1                dabasegawd  da1969n  t1_da15rf7\n",
      "2               trevize1138  da197kd  t1_da15rf7\n",
      "3                 [deleted]  da19sek  t1_da15rf7\n",
      "4                    dashkb  da1a6fm  t1_da15rf7\n",
      "...                     ...      ...         ...\n",
      "999995        MrsTiggyWiggy  dakvbsg  t1_daku15e\n",
      "999996    Bernies_Lakehouse  dakxzby  t1_daku15e\n",
      "999997    GrabLifeByDaPussy  dal0bqa  t1_daku15e\n",
      "999998      trashmonger3000  dal3m36  t1_daku15e\n",
      "999999  StupidRuralAmerican  dakugj8  t1_daku3v3\n",
      "\n",
      "[966239 rows x 3 columns]\n"
     ]
    },
    {
     "name": "stderr",
     "output_type": "stream",
     "text": [
      "31it [05:04,  9.94s/it]"
     ]
    },
    {
     "name": "stdout",
     "output_type": "stream",
     "text": [
      "                    author       id   parent_id\n",
      "0                [deleted]  dakv3m8  t1_daku3v3\n",
      "1       AlmightyMegidolaon  dakwkjw  t1_daku3v3\n",
      "2             piedpipernyc  dakxb6i  t1_daku3v3\n",
      "3           DeportJJAbrams  dakxo6v  t1_daku3v3\n",
      "4               l_histoire  dakwnw1  t1_daku5qd\n",
      "...                    ...      ...         ...\n",
      "999995          Fjordheksa  db7zu7h  t1_db7sxv4\n",
      "999996             anastus  db7ta73  t1_db7t32w\n",
      "999997   TheElectricShaman  db876k8  t1_db7t32w\n",
      "999998    RheagarTargaryen  db8h9wi  t1_db7t32w\n",
      "999999             Ganjake  db81uez  t1_db7t5tq\n",
      "\n",
      "[963283 rows x 3 columns]\n"
     ]
    },
    {
     "name": "stderr",
     "output_type": "stream",
     "text": [
      "32it [05:14,  9.91s/it]"
     ]
    },
    {
     "name": "stdout",
     "output_type": "stream",
     "text": [
      "                  author       id   parent_id\n",
      "0                anastus  db7teuo  t1_db7t870\n",
      "1              [deleted]  db7to6c  t1_db7taxm\n",
      "2              [deleted]  db7tnpo  t1_db7teuo\n",
      "3              [deleted]  db7ubnb  t1_db7tnpo\n",
      "4                anastus  db7tt18  t1_db7tnqs\n",
      "...                  ...      ...         ...\n",
      "999995     HRC_is_Racist  dbyxspt  t1_dbyxj3h\n",
      "999996  morbidexpression  dbz7kv0  t1_dbyxlrm\n",
      "999997            Komalt  dbz05vx  t1_dbyxlzb\n",
      "999998    PugiPugiPugi43  dbyxvlb  t1_dbyxt3n\n",
      "999999       DogfaceDino  dbyxyt8  t1_dbyxvgm\n",
      "\n",
      "[964849 rows x 3 columns]\n"
     ]
    },
    {
     "name": "stderr",
     "output_type": "stream",
     "text": [
      "33it [05:25, 10.26s/it]"
     ]
    },
    {
     "name": "stdout",
     "output_type": "stream",
     "text": [
      "                author       id   parent_id\n",
      "0           krackbaby3  dbyza1e  t1_dbyxvgm\n",
      "1            BooperOne  dbyxzsq  t1_dbyxvlb\n",
      "2          DogfaceDino  dbyy553  t1_dbyxwx0\n",
      "3       PugiPugiPugi43  dbyy1sf  t1_dbyxzsq\n",
      "4            BooperOne  dbyyiwx  t1_dbyy1sf\n",
      "...                ...      ...         ...\n",
      "999993       WarWeasle  dcmrlqk   t3_5owo18\n",
      "999994      Lee-Sensei  dco1963  t1_dcmn6l1\n",
      "999996        snakespm  dcmlzmk   t3_5owo3j\n",
      "999997        stave000  dcmn6l1   t3_5owo3j\n",
      "999999        icnoevil  dcml8wu   t3_5owo4a\n",
      "\n",
      "[962392 rows x 3 columns]\n"
     ]
    },
    {
     "name": "stderr",
     "output_type": "stream",
     "text": [
      "34it [05:34,  9.94s/it]"
     ]
    },
    {
     "name": "stdout",
     "output_type": "stream",
     "text": [
      "                  author       id   parent_id\n",
      "0              [deleted]  dcmrblk   t3_5owo4a\n",
      "3             sourapples  dcml93f   t3_5owo4d\n",
      "4        awesomeness0232  dcmlpxf  t1_dcmlbi3\n",
      "5              stuthulhu  dcmlr6o  t1_dcmlbku\n",
      "6           Hillary__Bro  dcmlswn  t1_dcmlbku\n",
      "...                  ...      ...         ...\n",
      "999994  NotFooledbyFools  dd4ct89  t1_dd4ba55\n",
      "999995      Atomicspunks  dd4bvxa  t1_dd4bj6m\n",
      "999996         NakedHero  dd4c73g  t1_dd4bth4\n",
      "999997         NakedHero  dd4chat  t1_dd4bvxa\n",
      "999998         NakedHero  dd4f9y9  t1_dd4ct89\n",
      "\n",
      "[959171 rows x 3 columns]\n"
     ]
    },
    {
     "name": "stderr",
     "output_type": "stream",
     "text": [
      "35it [05:43,  9.70s/it]"
     ]
    },
    {
     "name": "stdout",
     "output_type": "stream",
     "text": [
      "                  author       id   parent_id\n",
      "0       shegotlatinroots  dd48t5e   t3_5r41u2\n",
      "1              [deleted]  dd48tv1   t3_5r41u2\n",
      "2            pseudolocus  dd48y9o   t3_5r41u2\n",
      "3         DebussySIMiami  dd492sy   t3_5r41u2\n",
      "4             blue_whaoo  dd4932z   t3_5r41u2\n",
      "...                  ...      ...         ...\n",
      "999995         [deleted]  ddnz8ce  t1_ddnsno7\n",
      "999996      CountFarussi  ddnsrhu  t1_ddnsnty\n",
      "999997         [deleted]  ddnzbch  t1_ddnspnx\n",
      "999998  Midianite_Caller  ddo57nw  t1_ddnspnx\n",
      "999999      CountFarussi  ddnstde  t1_ddnspp7\n",
      "\n",
      "[955171 rows x 3 columns]\n"
     ]
    },
    {
     "name": "stderr",
     "output_type": "stream",
     "text": [
      "36it [05:53,  9.88s/it]"
     ]
    },
    {
     "name": "stdout",
     "output_type": "stream",
     "text": [
      "                      author       id   parent_id\n",
      "0                SnapDeeTuck  ddnszz9  t1_ddnsrhu\n",
      "1           Homerpaintbucket  ddnter6  t1_ddnsrhu\n",
      "2                 jokeaway14  ddnthw2  t1_ddnsrhu\n",
      "3               TheShadowCat  ddntjfs  t1_ddnsrhu\n",
      "4                 jokeaway14  ddntttv  t1_ddnsrhu\n",
      "...                      ...      ...         ...\n",
      "999995        spunkychickpea  dea6rz3   t3_5whvys\n",
      "999996  PotentiallySarcastic  dea6ymc   t3_5whvys\n",
      "999997          NiceSocksLOL  dea6zjz   t3_5whvys\n",
      "999998              WhimsyUU  dea7g4s   t3_5whvys\n",
      "999999         Butter_emails  dea7mie   t3_5whvys\n",
      "\n",
      "[952941 rows x 3 columns]\n"
     ]
    },
    {
     "name": "stderr",
     "output_type": "stream",
     "text": [
      "37it [06:04, 10.13s/it]"
     ]
    },
    {
     "name": "stdout",
     "output_type": "stream",
     "text": [
      "                  author       id   parent_id\n",
      "0             ChurroMan2  dea7qz4   t3_5whvys\n",
      "1         rocketbosszach  dea7tbh   t3_5whvys\n",
      "2             MapMatador  dea7yx8   t3_5whvys\n",
      "3          PaperyWhistle  dea80cz   t3_5whvys\n",
      "4             Ferrousity  dea87nc   t3_5whvys\n",
      "...                  ...      ...         ...\n",
      "999995         nfsnobody  df1n0gj  t1_df1ant9\n",
      "999996    JaysonSunshine  df1eyps  t1_df1aown\n",
      "999997   Orange_Republic  df1f0hs  t1_df1aown\n",
      "999998         glswenson  df1jc17  t1_df1aown\n",
      "999999  TheDarkAgniRises  df1lsyq  t1_df1aown\n",
      "\n",
      "[950922 rows x 3 columns]\n"
     ]
    },
    {
     "name": "stderr",
     "output_type": "stream",
     "text": [
      "38it [06:13,  9.86s/it]"
     ]
    },
    {
     "name": "stdout",
     "output_type": "stream",
     "text": [
      "                   author       id   parent_id\n",
      "0              ChuckVader  df1ekrn  t1_df1arfx\n",
      "1                NoahFect  df1lds7  t1_df1arfx\n",
      "2                n0ahbody  df1bghw  t1_df1avby\n",
      "3           IcanYOLOtwice  df1jutd  t1_df1avby\n",
      "4                  mazu74  df1kmyn  t1_df1avby\n",
      "...                   ...      ...         ...\n",
      "999995  throwawayainteasy  dfrt9f7  t1_dfrslmh\n",
      "999996         Sebatinsky  dfruvkv  t1_dfrsryy\n",
      "999997     DisarrayTheory  dfrvhv4  t1_dfrsu2e\n",
      "999998          Cocomorph  dfrxry5  t1_dfrsu2e\n",
      "999999        Funklestein  dfs1vou  t1_dfrsu2e\n",
      "\n",
      "[955889 rows x 3 columns]\n"
     ]
    },
    {
     "name": "stderr",
     "output_type": "stream",
     "text": [
      "39it [06:23,  9.74s/it]"
     ]
    },
    {
     "name": "stdout",
     "output_type": "stream",
     "text": [
      "                   author       id   parent_id\n",
      "0       throwawayainteasy  dfrt6t6  t1_dfrsvaj\n",
      "1                mazzakre  dfrvl5h  t1_dfrsvhi\n",
      "2                   mafco  dfrtg5l  t1_dfrswsf\n",
      "3             SultanObama  dfrvg8b  t1_dfrsx2i\n",
      "5             Funklestein  dfs1cyw  t1_dfrsx2i\n",
      "...                   ...      ...         ...\n",
      "999995             enlzen  c02zw2h    t3_66lw3\n",
      "999996          [deleted]  c02zzk9    t3_66lw3\n",
      "999997         Johny_Cash  c02zzka    t3_66lw3\n",
      "999998            digital  c02zupg  t1_c02zui9\n",
      "999999                api  c02zui9    t3_66lw7\n",
      "\n",
      "[954818 rows x 3 columns]\n"
     ]
    },
    {
     "name": "stderr",
     "output_type": "stream",
     "text": [
      "40it [06:33,  9.78s/it]"
     ]
    },
    {
     "name": "stdout",
     "output_type": "stream",
     "text": [
      "                 author       id   parent_id\n",
      "0           whiteyfresh  c02zurh  t1_c02zuhi\n",
      "1             wageslave  c02zxon  t1_c02zuhi\n",
      "2              h2gofast  c02zxji  t1_c02zv88\n",
      "3       eggsofamerica86  c03057l  t1_c02zxji\n",
      "4               JWEIS87  c0300bz  t1_c02zz0b\n",
      "...                 ...      ...         ...\n",
      "999995    YouKnow_Pause  dhc84d6  t1_dhc7dye\n",
      "999996     asilentsound  dhcdejj  t1_dhc7dz8\n",
      "999997           Sapian  dhc7u0w  t1_dhc7eqw\n",
      "999998        srwaddict  dhc80k3  t1_dhc7eqw\n",
      "999999  DiaDeLosMuertos  dhc89e2  t1_dhc7eqw\n",
      "\n",
      "[956447 rows x 3 columns]\n"
     ]
    },
    {
     "name": "stderr",
     "output_type": "stream",
     "text": [
      "41it [06:43, 10.11s/it]"
     ]
    },
    {
     "name": "stdout",
     "output_type": "stream",
     "text": [
      "                     author       id   parent_id\n",
      "0                   shmimey  dhc8alu  t1_dhc7eqw\n",
      "2                  Peralton  dhcalv5  t1_dhc7eqw\n",
      "3       PaulWellstonesGhost  dhcehhz  t1_dhc7eqw\n",
      "4                    602Zoo  dhcbaf7  t1_dhc7ffl\n",
      "5             TitoAndronico  dhccvve  t1_dhc7fqr\n",
      "...                     ...      ...         ...\n",
      "999995      paid_4_by_Soros  dhuihpa  t1_dhuh08b\n",
      "999996  LadiesLoveCoolComey  dhuj6m1  t1_dhuh08b\n",
      "999997  I_love_swiss_cheese  dhuknzm  t1_dhuh08b\n",
      "999998               joot78  dhuhdlr  t1_dhuh1eq\n",
      "999999            [deleted]  dhuia6n  t1_dhuh1eq\n",
      "\n",
      "[954483 rows x 3 columns]\n"
     ]
    },
    {
     "name": "stderr",
     "output_type": "stream",
     "text": [
      "42it [06:53,  9.92s/it]"
     ]
    },
    {
     "name": "stdout",
     "output_type": "stream",
     "text": [
      "                    author       id   parent_id\n",
      "0       Sprewell_Choke_Job  dhuibg1  t1_dhuh7qp\n",
      "1           ElitestElitist  dhulfzf  t1_dhuh7qp\n",
      "2          truthenragesyou  dhuo922  t1_dhuh7qp\n",
      "3        PeregrineFaulkner  dhv2c6v  t1_dhuh7qp\n",
      "4             JamesDelgado  dhunjxc  t1_dhuh9cv\n",
      "...                    ...      ...         ...\n",
      "999995        Blazemuffins  dij6q8x  t1_dij62ck\n",
      "999996            jimmithy  dij6yt1  t1_dij62ck\n",
      "999997              Dubanx  dij8v1o  t1_dij62ck\n",
      "999998          foobar1000  dij97e3  t1_dij62ck\n",
      "999999            Woomy123  dij9901  t1_dij62ck\n",
      "\n",
      "[955102 rows x 3 columns]\n"
     ]
    },
    {
     "name": "stderr",
     "output_type": "stream",
     "text": [
      "43it [07:02,  9.72s/it]"
     ]
    },
    {
     "name": "stdout",
     "output_type": "stream",
     "text": [
      "               author       id   parent_id\n",
      "0             setto__  dij9xh6  t1_dij62ck\n",
      "1           Ambiwlans  dijawsq  t1_dij62ck\n",
      "2           DominoNo-  dijbcrz  t1_dij62ck\n",
      "3          Not_A_Meme  dijc7h5  t1_dij62ck\n",
      "4        MescalPascal  dijc9ox  t1_dij62ck\n",
      "...               ...      ...         ...\n",
      "999995          pxblx  dj6lyzi  t1_dj6luip\n",
      "999996         Ruumpa  dj6lxyp  t1_dj6lukp\n",
      "999997  Shinranshonin  dj6m7ch  t1_dj6lunm\n",
      "999998    hehyougotme  dj6me6k  t1_dj6lunm\n",
      "999999        joepo32  dj6mixx  t1_dj6lunm\n",
      "\n",
      "[959783 rows x 3 columns]\n"
     ]
    },
    {
     "name": "stderr",
     "output_type": "stream",
     "text": [
      "44it [07:12,  9.77s/it]"
     ]
    },
    {
     "name": "stdout",
     "output_type": "stream",
     "text": [
      "                     author       id   parent_id\n",
      "0        EatShitRepublicans  dj6lx4d  t1_dj6luns\n",
      "1                 [deleted]  dj6lz2z  t1_dj6lunt\n",
      "2       ReadyToBeGreatAgain  dj6lz51  t1_dj6lunt\n",
      "3            jessesomething  dj6m7mr  t1_dj6lunt\n",
      "4       TheMagnificentTrump  dj6mccf  t1_dj6lunt\n",
      "...                     ...      ...         ...\n",
      "999995        crazytiredguy  c048h4n    t3_6m1s0\n",
      "999996     federal_employee  c048haw    t3_6m1s0\n",
      "999997          TundraWolf_  c048hck    t3_6m1s0\n",
      "999998             MrDectol  c048hgb    t3_6m1s0\n",
      "999999    Doomdoomkittydoom  c048hk8    t3_6m1s0\n",
      "\n",
      "[959205 rows x 3 columns]\n"
     ]
    },
    {
     "name": "stderr",
     "output_type": "stream",
     "text": [
      "45it [07:23, 10.21s/it]"
     ]
    },
    {
     "name": "stdout",
     "output_type": "stream",
     "text": [
      "                     author       id   parent_id\n",
      "0                Democrat08  c048hkz    t3_6m1s0\n",
      "1                 [deleted]  c048hlx    t3_6m1s0\n",
      "2                 jdcollins  c048hrl    t3_6m1s0\n",
      "3                 [deleted]  c048ht3    t3_6m1s0\n",
      "4                 [deleted]  c048huc    t3_6m1s0\n",
      "...                     ...      ...         ...\n",
      "999994          mar10wright  dkps3am  t1_dkprd2f\n",
      "999995             Ownerjfa  dkplc40   t3_6piob2\n",
      "999997            ricobirch  dkplx9t   t3_6piob2\n",
      "999998  TomatofaceSinclaire  dkpm5hp   t3_6piob2\n",
      "999999         Andynonomous  dkpme6s   t3_6piob2\n",
      "\n",
      "[954840 rows x 3 columns]\n"
     ]
    },
    {
     "name": "stderr",
     "output_type": "stream",
     "text": [
      "46it [07:33,  9.95s/it]"
     ]
    },
    {
     "name": "stdout",
     "output_type": "stream",
     "text": [
      "                  author       id   parent_id\n",
      "1         kinkgirlwriter  dkpo87k   t3_6piob2\n",
      "2       hoardingjeggings  dkpokg4   t3_6piob2\n",
      "3              Praeshock  dkpp28y   t3_6piob2\n",
      "4              cambrairt  dkpqamo   t3_6piob2\n",
      "5          the_dayman623  dkpqco8   t3_6piob2\n",
      "...                  ...      ...         ...\n",
      "999995          jvalordv  dlfn4dn  t1_dlfgl7d\n",
      "999996     pinsandpearls  dlfj4og  t1_dlfgtmo\n",
      "999997  Thisnameisdildos  dlfj4xh  t1_dlfgtmo\n",
      "999998         gregbraaa  dlfjl75  t1_dlfgtmo\n",
      "999999           Locke92  dlfkdce  t1_dlfgtmo\n",
      "\n",
      "[957144 rows x 3 columns]\n"
     ]
    },
    {
     "name": "stderr",
     "output_type": "stream",
     "text": [
      "47it [07:42,  9.74s/it]"
     ]
    },
    {
     "name": "stdout",
     "output_type": "stream",
     "text": [
      "               author       id   parent_id\n",
      "0           [deleted]  dlgvtke  t1_dlfh4vd\n",
      "1       SwarlsBarkley  dlfj0gk  t1_dlfh5lo\n",
      "2       kwantsu-dudes  dlfic8f  t1_dlfh5t3\n",
      "3         JuanSnow420  dlfj1os  t1_dlfh5tp\n",
      "4           dcasarinc  dlfj2al  t1_dlfh5tp\n",
      "...               ...      ...         ...\n",
      "999995    olafthebent  dm3u5id   t3_6vvqa8\n",
      "999996     Jackmack65  dm3uj5x   t3_6vvqa8\n",
      "999997      [deleted]  dm3ussv   t3_6vvqa8\n",
      "999998       TimeZarg  dm3xlb2   t3_6vvqa8\n",
      "999999   Mnementh2230  dm3yrw0   t3_6vvqa8\n",
      "\n",
      "[957128 rows x 3 columns]\n"
     ]
    },
    {
     "name": "stderr",
     "output_type": "stream",
     "text": [
      "48it [07:52,  9.84s/it]"
     ]
    },
    {
     "name": "stdout",
     "output_type": "stream",
     "text": [
      "                  author       id   parent_id\n",
      "0            bearister54  dm3z0cp   t3_6vvqa8\n",
      "1           Ipokeyoumuch  dm3z2iu   t3_6vvqa8\n",
      "2                   B789  dm3z5iw   t3_6vvqa8\n",
      "3               scott_gc  dm40059   t3_6vvqa8\n",
      "4               wellboys  dm4210z   t3_6vvqa8\n",
      "...                  ...      ...         ...\n",
      "999995  JakeFrmStateFarm  dn02e1i  t1_dmzxc38\n",
      "999996  JakeFrmStateFarm  dn02e1i  t1_dmzxc38\n",
      "999997   TheGreatHogdini  dn03q41  t1_dmzxc38\n",
      "999998   TheGreatHogdini  dn03q41  t1_dmzxc38\n",
      "999999     speedycat2014  dmzy4dg  t1_dmzxeki\n",
      "\n",
      "[957403 rows x 3 columns]\n"
     ]
    },
    {
     "name": "stderr",
     "output_type": "stream",
     "text": [
      "49it [08:03, 10.13s/it]"
     ]
    },
    {
     "name": "stdout",
     "output_type": "stream",
     "text": [
      "                  author       id   parent_id\n",
      "0           kungfoojesus  dn00d0n  t1_dmzxeki\n",
      "1              p00pyf4ce  dn00g8r  t1_dmzxeki\n",
      "3         Heirsandgraces  dn01688  t1_dmzxh8w\n",
      "4       kellyanne_segway  dn01jtd  t1_dmzxh8w\n",
      "5         whileImworking  dmzy3f0  t1_dmzxi2v\n",
      "...                  ...      ...         ...\n",
      "999995         [deleted]  c05m15x    t3_73xjh\n",
      "999996         [deleted]  c05m1ox    t3_73xjh\n",
      "999997            imquez  c05m1rl    t3_73xjh\n",
      "999998         hiredgoon  c05m1w6    t3_73xjh\n",
      "999999         [deleted]  c05m1z3    t3_73xjh\n",
      "\n",
      "[955316 rows x 3 columns]\n"
     ]
    },
    {
     "name": "stderr",
     "output_type": "stream",
     "text": [
      "50it [08:12,  9.88s/it]"
     ]
    },
    {
     "name": "stdout",
     "output_type": "stream",
     "text": [
      "                    author       id   parent_id\n",
      "0              Macdaddy357  c05m214    t3_73xjh\n",
      "1                [deleted]  c05m283    t3_73xjh\n",
      "2                [deleted]  c05m2b9    t3_73xjh\n",
      "3                [deleted]  c05m2ht    t3_73xjh\n",
      "4                     yuxt  c05m2j7    t3_73xjh\n",
      "...                    ...      ...         ...\n",
      "999995          gynganinja  dooldcn  t1_dook8c8\n",
      "999996          planet_bal  doolq0d  t1_dook8c8\n",
      "999997        farcetragedy  dooryyu  t1_dook8c8\n",
      "999998  ToddBarrysRedHands  dooxtib  t1_dook8c8\n",
      "999999              654456  doolwa2  t1_dook8le\n",
      "\n",
      "[955407 rows x 3 columns]\n"
     ]
    },
    {
     "name": "stderr",
     "output_type": "stream",
     "text": [
      "51it [08:21,  9.72s/it]"
     ]
    },
    {
     "name": "stdout",
     "output_type": "stream",
     "text": [
      "                 author       id   parent_id\n",
      "0            fingaz1856  dookc7e  t1_dook8yg\n",
      "1        ALoudMouthBaby  dookl3h  t1_dook92p\n",
      "2             Ulysses89  dookgnc  t1_dook98k\n",
      "3       Donald_saved_me  doonj0h  t1_dook98k\n",
      "4         ZombieManilow  dopfm41  t1_dook9ul\n",
      "...                 ...      ...         ...\n",
      "999993     LibertyRhyme  dpfitke  t1_dpfhrby\n",
      "999994        CpnStumpy  dpfjpk2  t1_dpfhrby\n",
      "999996    helemaalnicks  dpffz8g   t3_7b5z3f\n",
      "999997          tbag12-  dpfhjrr   t3_7b5z3f\n",
      "999999          Xavire4  dpffxey   t3_7b5z53\n",
      "\n",
      "[957978 rows x 3 columns]\n"
     ]
    },
    {
     "name": "stderr",
     "output_type": "stream",
     "text": [
      "52it [08:31,  9.78s/it]"
     ]
    },
    {
     "name": "stdout",
     "output_type": "stream",
     "text": [
      "                      author       id   parent_id\n",
      "0            RedRaiderTravis  dpfgucf  t1_dpfgjuq\n",
      "1       Wh1sk3yTang0Fo0xtr0t  dpfho5w  t1_dpfgjuq\n",
      "2           banjowashisnameo  dpfis9i  t1_dpfgjuq\n",
      "3                 honeycakes  dpfvboc  t1_dpfgjuq\n",
      "4               RaynSideways  dpgvw21  t1_dpfgjuq\n",
      "...                      ...      ...         ...\n",
      "999995      monkeyburrito411  dq8yy7g  t1_dq8bkst\n",
      "999996               Aazadan  dq8k5sr  t1_dq8bl8o\n",
      "999997         MechaSandstar  dq8bw8v  t1_dq8blov\n",
      "999998        Zachmorris4187  dq8haxt  t1_dq8bz9n\n",
      "999999   SettleDownButtercup  dq8c6n6  t1_dq8c4fk\n",
      "\n",
      "[956310 rows x 3 columns]\n"
     ]
    },
    {
     "name": "stderr",
     "output_type": "stream",
     "text": [
      "53it [08:42, 10.11s/it]"
     ]
    },
    {
     "name": "stdout",
     "output_type": "stream",
     "text": [
      "                    author       id   parent_id\n",
      "0                 ismi2016  dq8k8p5  t1_dq8c81n\n",
      "1       KarmaticArmageddon  dq8hhgc  t1_dq8cbwb\n",
      "2                   H82BL8  dq8ohvw  t1_dq8cg8g\n",
      "4                Tipiskaki  dq8fnpb  t1_dq8ct7o\n",
      "5            SamCarter_SGC  dq8e78f  t1_dq8cxpr\n",
      "...                    ...      ...         ...\n",
      "999995       OmarComingRun  dr0qn4x  t1_dr0qezq\n",
      "999996           msleeduon  dr0qta7  t1_dr0qf2j\n",
      "999997  18CharacterMaximum  dr0razl  t1_dr0qhie\n",
      "999998          snorlox888  dr14x5y  t1_dr0qpys\n",
      "999999           mizmoxiev  dr0uy4c  t1_dr0qss2\n",
      "\n",
      "[955228 rows x 3 columns]\n"
     ]
    },
    {
     "name": "stderr",
     "output_type": "stream",
     "text": [
      "54it [08:52,  9.91s/it]"
     ]
    },
    {
     "name": "stdout",
     "output_type": "stream",
     "text": [
      "                      author       id   parent_id\n",
      "0                  [deleted]  dr132hx  t1_dr0qss2\n",
      "1           fuckingshitman11  dr0r19e  t1_dr0qu84\n",
      "2       Vandelay_Latex_Sales  dr0yosj  t1_dr0r01u\n",
      "3            thisishorsepoop  dr0raqa  t1_dr0r19e\n",
      "4          SargeantSasquatch  dr0ryxj  t1_dr0r7sa\n",
      "...                      ...      ...         ...\n",
      "999994          username6789  drt9y6k  t1_drt4gzc\n",
      "999995                 doody  drtbk6g  t1_drt4gzc\n",
      "999996                 bmy78  drtehme  t1_drt4gzc\n",
      "999997     biohazardforlunch  drtgn6b  t1_drt4gzc\n",
      "999999    TrumpHasATinyPence  drtjcjq  t1_drt4gzc\n",
      "\n",
      "[956771 rows x 3 columns]\n"
     ]
    },
    {
     "name": "stderr",
     "output_type": "stream",
     "text": [
      "55it [09:01,  9.70s/it]"
     ]
    },
    {
     "name": "stdout",
     "output_type": "stream",
     "text": [
      "                    author       id   parent_id\n",
      "0           trainstation98  drt7nkj  t1_drt4j1n\n",
      "1           BaconPancakes1  drt7zx0  t1_drt4j1n\n",
      "3                    4esop  drteg4x  t1_drt4j1n\n",
      "4              ForcedRight  drtf5cl  t1_drt4j1n\n",
      "5                 dwsinpdx  dru0rcj  t1_drt4j1n\n",
      "...                    ...      ...         ...\n",
      "999995          WInslow907  dspyr5d  t1_dsptroa\n",
      "999996           [deleted]  dsq3bld  t1_dsptroa\n",
      "999997           [deleted]  dspxe9w  t1_dsptrrz\n",
      "999998  Askwhyimathrowaway  dspxhs1  t1_dsptrrz\n",
      "999999           [deleted]  dsq4ig6  t1_dsptukk\n",
      "\n",
      "[952363 rows x 3 columns]\n"
     ]
    },
    {
     "name": "stderr",
     "output_type": "stream",
     "text": [
      "56it [09:11,  9.80s/it]"
     ]
    },
    {
     "name": "stdout",
     "output_type": "stream",
     "text": [
      "                    author       id   parent_id\n",
      "0                  Candour  dsqgn9e  t1_dspu65t\n",
      "1            Ralph_Finesse  dspuyo9  t1_dspucki\n",
      "2           TheEruditeFool  dspyaqf  t1_dspul07\n",
      "3                [deleted]  dsqfk4m  t1_dspumvl\n",
      "4                 felesroo  dspuut6  t1_dspuo9p\n",
      "...                    ...      ...         ...\n",
      "999995   NextDoorNeighbrrs  dti15zj  t1_dti13sp\n",
      "999996      MeatyBalledSub  dti18el  t1_dti13sp\n",
      "999997           [deleted]  dti14fp  t1_dti13tq\n",
      "999998              nhbruh  dti15pz  t1_dti13tq\n",
      "999999  GreatOmniscientDev  dti168s  t1_dti13tq\n",
      "\n",
      "[955853 rows x 3 columns]\n"
     ]
    },
    {
     "name": "stderr",
     "output_type": "stream",
     "text": [
      "57it [09:22, 10.15s/it]"
     ]
    },
    {
     "name": "stdout",
     "output_type": "stream",
     "text": [
      "                author       id   parent_id\n",
      "0           blowmonkey  dti16s1  t1_dti13tq\n",
      "1          deekaydubya  dti174l  t1_dti13tq\n",
      "2                 SJI_  dti175x  t1_dti13tq\n",
      "3           Agent64943  dti16m2  t1_dti13uw\n",
      "4         Papasmurf345  dti16ap  t1_dti13ux\n",
      "...                ...      ...         ...\n",
      "999995  whitenoise2323  dubcoj0  t1_dubc9kc\n",
      "999996          Rbeplz  dubgve3  t1_dubc9lr\n",
      "999997         balloot  dubcl3w  t1_dubc9sw\n",
      "999998       [deleted]  dubmnaa  t1_dubcaad\n",
      "999999        work_q31  dubcorh  t1_dubcabq\n",
      "\n",
      "[956326 rows x 3 columns]\n"
     ]
    },
    {
     "name": "stderr",
     "output_type": "stream",
     "text": [
      "58it [09:31,  9.97s/it]"
     ]
    },
    {
     "name": "stdout",
     "output_type": "stream",
     "text": [
      "                  author       id   parent_id\n",
      "0              [deleted]  dubqmnn  t1_dubcaf2\n",
      "1           NAPPorcupine  dubcjlp  t1_dubcaop\n",
      "2         FBI_Taco_Truck  dubdipq  t1_dubcc6h\n",
      "3          DukeofVermont  dubemo5  t1_dubcd6n\n",
      "4         AntiCharmQuirk  dubftcy  t1_dubcg7w\n",
      "...                  ...      ...         ...\n",
      "999995    Shultzi_soldat  dv115yj   t3_816eys\n",
      "999996  LibertyRings1776  dv11nlb   t3_816eys\n",
      "999997  StackerPentecost  dv1275c   t3_816eys\n",
      "999998  LibertyRings1776  dv12c0h   t3_816eys\n",
      "999999    Jump_Yossarian  dv12zn1   t3_816eys\n",
      "\n",
      "[958652 rows x 3 columns]\n"
     ]
    },
    {
     "name": "stderr",
     "output_type": "stream",
     "text": [
      "59it [09:41,  9.75s/it]"
     ]
    },
    {
     "name": "stdout",
     "output_type": "stream",
     "text": [
      "                   author       id   parent_id\n",
      "0          Scheisser_Soze  dv1318n   t3_816eys\n",
      "1            mytwocents22  dv13cyr   t3_816eys\n",
      "2        CodgerConsulting  dv14yhl   t3_816eys\n",
      "3               fungiside  dv15ste   t3_816eys\n",
      "4               luummoonn  dv1665n   t3_816eys\n",
      "...                   ...      ...         ...\n",
      "999995          SCHOTTZIE  dvtpg9t  t1_dvtm4aq\n",
      "999996          [deleted]  dvtvnj2  t1_dvtm73h\n",
      "999997      DarkishFriend  dvtpx8t  t1_dvtm9fn\n",
      "999998      Mixmastergabe  dvtr60w  t1_dvtmcid\n",
      "999999  LaughingGaster666  dvtnlv6  t1_dvtmheq\n",
      "\n",
      "[955651 rows x 3 columns]\n"
     ]
    },
    {
     "name": "stderr",
     "output_type": "stream",
     "text": [
      "60it [09:51,  9.80s/it]"
     ]
    },
    {
     "name": "stdout",
     "output_type": "stream",
     "text": [
      "                     author       id   parent_id\n",
      "0                  w41twh4t  dvtng1e  t1_dvtmk9j\n",
      "2       jimjacksonsjamboree  dvtw4c5  t1_dvtmvps\n",
      "3                 Ulysses89  dvtndmx  t1_dvtn1j7\n",
      "4         MorboForPresident  dvtnvvx  t1_dvtn86r\n",
      "5                 [deleted]  dvu2z6h  t1_dvtng1e\n",
      "...                     ...      ...         ...\n",
      "999995        tighter_wires  dwlhlpl  t1_dwlhgvw\n",
      "999996            [deleted]  dwloipg  t1_dwlhh7d\n",
      "999997   The_Anarcheologist  dwlvz3e  t1_dwlhh7d\n",
      "999998          longhorn617  dwlho5v  t1_dwlhlpl\n",
      "999999    mastertheillusion  dwlmjkx  t1_dwlhlrn\n",
      "\n",
      "[956515 rows x 3 columns]\n"
     ]
    },
    {
     "name": "stderr",
     "output_type": "stream",
     "text": [
      "61it [10:02, 10.32s/it]"
     ]
    },
    {
     "name": "stdout",
     "output_type": "stream",
     "text": [
      "                      author       id   parent_id\n",
      "0              tighter_wires  dwlhpx6  t1_dwlho5v\n",
      "1                longhorn617  dwlkvto  t1_dwlirnw\n",
      "2                   Hippomom  dwlj3jm  t1_dwliua4\n",
      "3       xXx_THYME_LOOPER_xXx  dwlkmlq  t1_dwliua4\n",
      "4                    Prime67  dwlkaj2  t1_dwliukx\n",
      "...                      ...      ...         ...\n",
      "999995           neocontrash  c08vxxe  t1_c08vwhf\n",
      "999996           neocontrash  c08vy2n  t1_c08vwli\n",
      "999997      anonymous-coward  c08w4du  t1_c08vwll\n",
      "999998         dotnetrock101  c08vx62  t1_c08vwmf\n",
      "999999             [deleted]  c08vx89  t1_c08vwms\n",
      "\n",
      "[955485 rows x 3 columns]\n"
     ]
    },
    {
     "name": "stderr",
     "output_type": "stream",
     "text": [
      "62it [10:11, 10.01s/it]"
     ]
    },
    {
     "name": "stdout",
     "output_type": "stream",
     "text": [
      "               author       id   parent_id\n",
      "0             mrekted  c08vwr0  t1_c08vwn1\n",
      "1           [deleted]  c08vxma  t1_c08vwpy\n",
      "2            koannaok  c08vxkn  t1_c08vwr0\n",
      "3            Hoodwink  c08vyx7  t1_c08vwr0\n",
      "4         metamutator  c08vx7z  t1_c08vwrh\n",
      "...               ...      ...         ...\n",
      "999995          modom  dydv4ij  t1_dydud5d\n",
      "999996  shirleyyujest  dydwm17  t1_dydud5d\n",
      "999997    ToadProphet  dydwmr5  t1_dydud5d\n",
      "999998  viva_la_vinyl  dydwq6c  t1_dydud5d\n",
      "999999    GuyInAChair  dydyl7h  t1_dydud5d\n",
      "\n",
      "[954788 rows x 3 columns]\n"
     ]
    },
    {
     "name": "stderr",
     "output_type": "stream",
     "text": [
      "63it [10:21,  9.81s/it]"
     ]
    },
    {
     "name": "stdout",
     "output_type": "stream",
     "text": [
      "                author       id   parent_id\n",
      "0          Gustafer823  dydys8n  t1_dydud5d\n",
      "1            [deleted]  dye3d7q  t1_dydud5d\n",
      "2          Smellmyhand  dye49fr  t1_dydud5d\n",
      "3       blazze_eternal  dye4kw3  t1_dydud5d\n",
      "4            [deleted]  dye5bkd  t1_dydud5d\n",
      "...                ...      ...         ...\n",
      "999995       [deleted]  dzb9y1w   t3_8kthuc\n",
      "999996     jiggatron69  dzba2uf   t3_8kthuc\n",
      "999997          swd120  dzba3vd   t3_8kthuc\n",
      "999998           flat5  dzba7s9   t3_8kthuc\n",
      "999999       tarmactrr  dzbal9x   t3_8kthuc\n",
      "\n",
      "[956080 rows x 3 columns]\n"
     ]
    },
    {
     "name": "stderr",
     "output_type": "stream",
     "text": [
      "64it [10:31,  9.87s/it]"
     ]
    },
    {
     "name": "stdout",
     "output_type": "stream",
     "text": [
      "                   author       id   parent_id\n",
      "0               [deleted]  dzbalxj   t3_8kthuc\n",
      "1                 greiton  dzbbw75   t3_8kthuc\n",
      "2              Me-Shell94  dzbc8jm   t3_8kthuc\n",
      "3                  mces97  dzbd4eq   t3_8kthuc\n",
      "4                 OhManOk  dzbdgqu   t3_8kthuc\n",
      "...                   ...      ...         ...\n",
      "999995             Orcapa  e09lw73   t3_8pa3k1\n",
      "999996  Etna_No_Pyroclast  e09mg5h   t3_8pa3k1\n",
      "999997         blindShame  e09mj5h  t1_e09k3ms\n",
      "999998   HonkeyDonkey3000  e09kdrh  t1_e09k6uo\n",
      "999999        GirthBrooks  e09mj4m  t1_e09k6uo\n",
      "\n",
      "[956044 rows x 3 columns]\n"
     ]
    },
    {
     "name": "stderr",
     "output_type": "stream",
     "text": [
      "65it [10:41, 10.13s/it]"
     ]
    },
    {
     "name": "stdout",
     "output_type": "stream",
     "text": [
      "                      author       id   parent_id\n",
      "0       TheMysticalBaconTree  e09ktan  t1_e09kij6\n",
      "1                   Rankled2  e09mh9c  t1_e09kij6\n",
      "2                  SwingJay1  e09kxfe  t1_e09kq5h\n",
      "3                   Trez1999  e09m0xp  t1_e09kq5h\n",
      "4                  [deleted]  e09kxwr  t1_e09ktan\n",
      "...                      ...      ...         ...\n",
      "999995   an_internet_denizen  e12bq8q  t1_e124zb4\n",
      "999996          G_Wiz_Christ  e12dk52  t1_e124zb4\n",
      "999997             [deleted]  e12e2e9  t1_e124zb4\n",
      "999998         Wannabe_nerd3  e12ga6f  t1_e124zb4\n",
      "999999         MakeupDumbAss  e12gnh5  t1_e124zb4\n",
      "\n",
      "[958381 rows x 3 columns]\n"
     ]
    },
    {
     "name": "stderr",
     "output_type": "stream",
     "text": [
      "66it [10:51,  9.93s/it]"
     ]
    },
    {
     "name": "stdout",
     "output_type": "stream",
     "text": [
      "                      author       id   parent_id\n",
      "0                   TORFdot0  e12h1xk  t1_e124zb4\n",
      "1                     tejmin  e12hazk  t1_e124zb4\n",
      "2       AnnCoultersAdamsAppl  e12kt5f  t1_e124zb4\n",
      "3                    Zenlenn  e12lrwb  t1_e124zb4\n",
      "4                  [deleted]  e12lvn6  t1_e124zb4\n",
      "...                      ...      ...         ...\n",
      "999995         __NamasteMF__  e1u2fi7  t1_e1tsucj\n",
      "999996            Yackitysax  e1tzhh4  t1_e1tt0br\n",
      "999997     TravelBan4Ruskies  e1v5pbd  t1_e1tt0uw\n",
      "999998              l33tb3rt  e1tw6qx  t1_e1tt6cd\n",
      "999999         duilcnshrn453  e1tuu07  t1_e1tt6jm\n",
      "\n",
      "[959876 rows x 3 columns]\n"
     ]
    },
    {
     "name": "stderr",
     "output_type": "stream",
     "text": [
      "67it [11:00,  9.78s/it]"
     ]
    },
    {
     "name": "stdout",
     "output_type": "stream",
     "text": [
      "                      author       id   parent_id\n",
      "0                  [deleted]  e1u1bmi  t1_e1tt6jm\n",
      "1       BannedFrmPoliticsAgn  e1ttpcc  t1_e1ttd40\n",
      "2                    Nunya13  e1u2hah  t1_e1ttd4d\n",
      "3                whichwitch9  e1tyjec  t1_e1ttkvh\n",
      "4                cosmic_flux  e1u1erl  t1_e1ttkvh\n",
      "...                      ...      ...         ...\n",
      "999995            catsmurphy  e2mmgly   t3_8zzmrz\n",
      "999996             [deleted]  e2mmgn6   t3_8zzmrz\n",
      "999997             [deleted]  e2mmkhh   t3_8zzmrz\n",
      "999998               stufen1  e2mmndq   t3_8zzmrz\n",
      "999999           some_asshat  e2mmnxl   t3_8zzmrz\n",
      "\n",
      "[959432 rows x 3 columns]\n"
     ]
    },
    {
     "name": "stderr",
     "output_type": "stream",
     "text": [
      "68it [11:10,  9.84s/it]"
     ]
    },
    {
     "name": "stdout",
     "output_type": "stream",
     "text": [
      "                     author       id   parent_id\n",
      "0                 [deleted]  e2mnb15   t3_8zzmrz\n",
      "1              AndersonJake  e2mnhks   t3_8zzmrz\n",
      "2                  Ghoulv2o  e2mnit1   t3_8zzmrz\n",
      "3                overtimely  e2mnjcc   t3_8zzmrz\n",
      "4                  Kaminara  e2mobbc   t3_8zzmrz\n",
      "...                     ...      ...         ...\n",
      "999995       darkdensepubes  e3h9g2b  t1_e3h8s42\n",
      "999996  WhereMyBootstrapsAt  e3ha4h2  t1_e3h8sjz\n",
      "999997                Cirri  e3hiw9w  t1_e3h8sjz\n",
      "999998        -XanderCrews-  e3hjaxl  t1_e3h8sjz\n",
      "999999            Watcher13  e3hms6o  t1_e3h8sr1\n",
      "\n",
      "[955529 rows x 3 columns]\n"
     ]
    },
    {
     "name": "stderr",
     "output_type": "stream",
     "text": [
      "69it [11:21, 10.21s/it]"
     ]
    },
    {
     "name": "stdout",
     "output_type": "stream",
     "text": [
      "                     author       id   parent_id\n",
      "0                 1moreuser  e3i1dn9  t1_e3h8sr1\n",
      "1                 EngineBoy  e3ha2b4  t1_e3h8t3n\n",
      "2              PinkoBastard  e3hj1ww  t1_e3h8t3n\n",
      "3         MorboForPresident  e3h8ymh  t1_e3h8tye\n",
      "4                 [deleted]  e3hj75l  t1_e3h8w85\n",
      "...                     ...      ...         ...\n",
      "999995               schild  e4ecny0  t1_e4ea7ix\n",
      "999996  ConsistentArmadillo  e4ejc3o  t1_e4ea7ix\n",
      "999997            [deleted]  e4eachc  t1_e4ea9ss\n",
      "999998             syneater  e4ef8yt  t1_e4ea9ss\n",
      "999999          -nectarina-  e4ealc0  t1_e4ea9t5\n",
      "\n",
      "[956504 rows x 3 columns]\n"
     ]
    },
    {
     "name": "stderr",
     "output_type": "stream",
     "text": [
      "70it [11:31,  9.99s/it]"
     ]
    },
    {
     "name": "stdout",
     "output_type": "stream",
     "text": [
      "                     author       id   parent_id\n",
      "0                    zherok  e4eav5c  t1_e4ea9t5\n",
      "1           Barack_The_Vote  e4ekajs  t1_e4ea9t5\n",
      "2               bigdaddyowl  e4ed67q  t1_e4eaaqj\n",
      "3       kilroy-was-not-here  e4fgyz2  t1_e4eaelq\n",
      "4                  Chang-an  e4egq84  t1_e4eajz3\n",
      "...                     ...      ...         ...\n",
      "999995         godsizedhole  c0c7x6b    t3_9c5d3\n",
      "999996            [deleted]  c0c7xef    t3_9c5d3\n",
      "999997            [deleted]  c0c7z2m    t3_9c5d3\n",
      "999998            [deleted]  c0c7zjl    t3_9c5d3\n",
      "999999          cherryseeds  c0c7zzw    t3_9c5d3\n",
      "\n",
      "[954219 rows x 3 columns]\n"
     ]
    },
    {
     "name": "stderr",
     "output_type": "stream",
     "text": [
      "71it [11:40,  9.74s/it]"
     ]
    },
    {
     "name": "stdout",
     "output_type": "stream",
     "text": [
      "                author       id   parent_id\n",
      "0            [deleted]  c0c81fd    t3_9c5d3\n",
      "1            [deleted]  c0c81ff    t3_9c5d3\n",
      "2               Saiing  c0c81if    t3_9c5d3\n",
      "3         BlockyRalboa  c0c86kf    t3_9c5d3\n",
      "4         Justguessing  c0c86x3    t3_9c5d3\n",
      "...                ...      ...         ...\n",
      "999995      falcon4287  e65khdd  t1_e649qjh\n",
      "999996    Unconfidence  e64fa4e  t1_e649r5c\n",
      "999997         ibm2431  e64jnlh  t1_e649r5c\n",
      "999998      Waltenwalt  e64b91a  t1_e649u6g\n",
      "999999  DoctorHorowitz  e64aizo  t1_e649vl8\n",
      "\n",
      "[957472 rows x 3 columns]\n"
     ]
    },
    {
     "name": "stderr",
     "output_type": "stream",
     "text": [
      "72it [11:50,  9.78s/it]"
     ]
    },
    {
     "name": "stdout",
     "output_type": "stream",
     "text": [
      "                  author       id   parent_id\n",
      "0          Imaginary_Put  e64hlvd  t1_e64ahqb\n",
      "1               nickF1SH  e64lsmv  t1_e64ahqb\n",
      "2              Cerberusz  e64ayuf  t1_e64aizo\n",
      "3         DoctorHorowitz  e64b656  t1_e64atwb\n",
      "4             crows-milk  e64cnrq  t1_e64au92\n",
      "...                  ...      ...         ...\n",
      "999995  yourfriendmisery  e6rq4ra  t1_e6rlla2\n",
      "999996       Teotwawki69  e6rp5nm  t1_e6rlndj\n",
      "999997   CallTheOptimist  e6rrgzj  t1_e6rlndj\n",
      "999998      Polymemnetic  e6rs5zr  t1_e6rlpns\n",
      "999999      TreezusSaves  e6rsljh  t1_e6rlpns\n",
      "\n",
      "[961323 rows x 3 columns]\n"
     ]
    },
    {
     "name": "stderr",
     "output_type": "stream",
     "text": [
      "73it [12:01, 10.23s/it]"
     ]
    },
    {
     "name": "stdout",
     "output_type": "stream",
     "text": [
      "                      author       id   parent_id\n",
      "0            saskatchewanian  e6rv0y8  t1_e6rlqzd\n",
      "1                  [deleted]  e6rm2s4  t1_e6rlrre\n",
      "2                dismayhurta  e6rr0fo  t1_e6rls34\n",
      "3                   Dilinial  e6rrr4y  t1_e6rls34\n",
      "4                  [deleted]  e6rxhj2  t1_e6rls34\n",
      "...                      ...      ...         ...\n",
      "999994            redditacct  c0dd25x  t1_c0dd0by\n",
      "999996             Spiridian  c0dd0wp    t3_9m9mv\n",
      "999997     The_Truth_Project  e7d21na  t1_e7d0jer\n",
      "999998             [deleted]  e7dupim  t1_e7d0jer\n",
      "999999  PM_ME_USERNAME_MEMES  e7d1lir  t1_e7d0vjs\n",
      "\n",
      "[962300 rows x 3 columns]\n"
     ]
    },
    {
     "name": "stderr",
     "output_type": "stream",
     "text": [
      "74it [12:11, 10.00s/it]"
     ]
    },
    {
     "name": "stdout",
     "output_type": "stream",
     "text": [
      "                     author       id   parent_id\n",
      "0               fuglymonkey  e7d2bh9  t1_e7d0vjs\n",
      "1       i_accidently_reddit  e7d2gpd  t1_e7d1il5\n",
      "2                SenorBurns  e7d3zqs  t1_e7d1il5\n",
      "3            ChupaMeJerkwad  e7d1w6s  t1_e7d1lir\n",
      "4                 [deleted]  e7d4vlp  t1_e7d1swh\n",
      "...                     ...      ...         ...\n",
      "999995            Cunt_Shit  e8bogdx  t1_e8b03b2\n",
      "999996            [deleted]  e8ebsuy  t1_e8b03b2\n",
      "999997               RiPont  e8b0gno  t1_e8b04g1\n",
      "999998       verynearlypure  e8b53gn  t1_e8b06gp\n",
      "999999        Ellesbelles13  e8b0ko8  t1_e8b0dfm\n",
      "\n",
      "[956662 rows x 3 columns]\n"
     ]
    },
    {
     "name": "stderr",
     "output_type": "stream",
     "text": [
      "75it [12:20,  9.78s/it]"
     ]
    },
    {
     "name": "stdout",
     "output_type": "stream",
     "text": [
      "                  author       id   parent_id\n",
      "0             starmartyr  e8b0x0h  t1_e8b0dfm\n",
      "1           Spaceman2901  e8b0x8b  t1_e8b0dfm\n",
      "2        PetRockSematary  e8b112f  t1_e8b0dfm\n",
      "3        DownshiftedRare  e8b4f47  t1_e8b0dfm\n",
      "4       MartinGoldfinger  e8b6k9k  t1_e8b0dfm\n",
      "...                  ...      ...         ...\n",
      "999995         [deleted]  e956s0f  t1_e955ctw\n",
      "999996     Spara-Extreme  e95bc4e  t1_e955ctw\n",
      "999997     SpaceBaseHead  e9568gg  t1_e955skr\n",
      "999998   twolitersofcola  e9569as  t1_e9565l4\n",
      "999999          Doom_Art  e956s0d  t1_e9568gg\n",
      "\n",
      "[956968 rows x 3 columns]\n"
     ]
    },
    {
     "name": "stderr",
     "output_type": "stream",
     "text": [
      "76it [12:30,  9.89s/it]"
     ]
    },
    {
     "name": "stdout",
     "output_type": "stream",
     "text": [
      "               author       id   parent_id\n",
      "0           Squidfist  e9581oa  t1_e9568gg\n",
      "1              vorbis  e95kkr2  t1_e9568gg\n",
      "2       SpaceBaseHead  e957958  t1_e956s0d\n",
      "3            Doom_Art  e95mwr8  t1_e957958\n",
      "4       SpaceBaseHead  e958b4n  t1_e9581oa\n",
      "...               ...      ...         ...\n",
      "999995    CptNonsense  e9qr567   t3_9xa3qx\n",
      "999996       Start0ad  e9qr96w   t3_9xa3qx\n",
      "999997        Taurius  e9qrb0c   t3_9xa3qx\n",
      "999998       Miobravo  e9qrbyw   t3_9xa3qx\n",
      "999999    wickedmetal  e9qs0r3   t3_9xa3qx\n",
      "\n",
      "[961093 rows x 3 columns]\n"
     ]
    },
    {
     "name": "stderr",
     "output_type": "stream",
     "text": [
      "77it [12:41, 10.17s/it]"
     ]
    },
    {
     "name": "stdout",
     "output_type": "stream",
     "text": [
      "                     author       id   parent_id\n",
      "0                  antiward  e9qs568   t3_9xa3qx\n",
      "1        ThereminLiesTheRub  e9qs8td   t3_9xa3qx\n",
      "2                   cerebud  e9qsvqy   t3_9xa3qx\n",
      "3       Im_100percent_human  e9qtnpw   t3_9xa3qx\n",
      "4                 [deleted]  e9qttfk   t3_9xa3qx\n",
      "...                     ...      ...         ...\n",
      "999995           fuzzycuffs  eatweff   t3_a1y70l\n",
      "999996            [deleted]  eaua3oq   t3_a1y70l\n",
      "999997     FakeJakeFapper85  eauci62   t3_a1y70l\n",
      "999998               Mk1635  eav1zcz   t3_a1y70l\n",
      "999999           Nacho_Papi  eatp15j  t1_eatoq1e\n",
      "\n",
      "[955832 rows x 3 columns]\n"
     ]
    },
    {
     "name": "stderr",
     "output_type": "stream",
     "text": [
      "78it [12:50,  9.94s/it]"
     ]
    },
    {
     "name": "stdout",
     "output_type": "stream",
     "text": [
      "                    author       id   parent_id\n",
      "0           BumbleFuckDuck  eatyt0f  t1_eatoq1e\n",
      "1       BlankNothingNoDoer  eatp442  t1_eatp15j\n",
      "2                  PiBaker  eatqnvq  t1_eatp442\n",
      "3                [deleted]  eatpoeq  t1_eatpbte\n",
      "4                FartNight  eatqt8u  t1_eatpbte\n",
      "...                    ...      ...         ...\n",
      "999995          ixunbornxi  ebut9yd   t3_a6fgub\n",
      "999996           [deleted]  ebutbbg   t3_a6fgub\n",
      "999997           sephstorm  ebutgb1   t3_a6fgub\n",
      "999998    agiantyellowlump  ebuth5n   t3_a6fgub\n",
      "999999           UmpireAJS  ebutsck   t3_a6fgub\n",
      "\n",
      "[955405 rows x 3 columns]\n"
     ]
    },
    {
     "name": "stderr",
     "output_type": "stream",
     "text": [
      "79it [13:01, 10.12s/it]"
     ]
    },
    {
     "name": "stdout",
     "output_type": "stream",
     "text": [
      "                     author       id   parent_id\n",
      "0                 Psyladine  ebutu4x   t3_a6fgub\n",
      "1                drblues_51  ebutu5e   t3_a6fgub\n",
      "2             lebusandlibus  ebutvo9   t3_a6fgub\n",
      "3                  lastkiss  ebuu1r4   t3_a6fgub\n",
      "4         maybe_just_happy_  ebuu2xq   t3_a6fgub\n",
      "...                     ...      ...         ...\n",
      "999995         amazingoopah  ed1cqiu  t1_ed0swgq\n",
      "999996          MarisStella  ed1cr7f  t1_ed0swgq\n",
      "999997        youdoitimbusy  ed1d27c  t1_ed0swgq\n",
      "999998   PM_ME_WEIRD_SMILES  ed1fz2m  t1_ed0swgq\n",
      "999999  ConstantGradStudent  ed1haex  t1_ed0swgq\n",
      "\n",
      "[957477 rows x 3 columns]\n"
     ]
    },
    {
     "name": "stderr",
     "output_type": "stream",
     "text": [
      "80it [13:12, 10.35s/it]"
     ]
    },
    {
     "name": "stdout",
     "output_type": "stream",
     "text": [
      "                  author       id   parent_id\n",
      "0              [deleted]  ed1iqil  t1_ed0swgq\n",
      "1                    F90  ed1is9h  t1_ed0swgq\n",
      "2       PromiscuousMNcpl  ed1iuao  t1_ed0swgq\n",
      "3              [deleted]  ed1iv0h  t1_ed0swgq\n",
      "4       berimbolo_brutus  ed1pjpv  t1_ed0swgq\n",
      "...                  ...      ...         ...\n",
      "999995      spotted_dick  ee0zrxa  t1_ee0xfma\n",
      "999996            Aikikp  ee2d4yq  t1_ee0xfma\n",
      "999997             asius  ee1bcaq  t1_ee0xjkm\n",
      "999998            Con313  ee199c6  t1_ee0yb51\n",
      "999999         Jimhead89  ee1dk2i  t1_ee0ybnc\n",
      "\n",
      "[959851 rows x 3 columns]\n"
     ]
    },
    {
     "name": "stderr",
     "output_type": "stream",
     "text": [
      "81it [13:23, 10.62s/it]"
     ]
    },
    {
     "name": "stdout",
     "output_type": "stream",
     "text": [
      "                      author       id   parent_id\n",
      "0                 kathleen65  ee15o32  t1_ee10mih\n",
      "1            TooMuchDamnSalt  ee1l1qf  t1_ee1cbdw\n",
      "2                  [deleted]  ee1kbjr  t1_ee1hyp1\n",
      "3                  bmoregood  ee1kyvw  t1_ee1kbjr\n",
      "4                  [deleted]  ee21c20  t1_ee1kyvw\n",
      "...                      ...      ...         ...\n",
      "999994  watchmeprocrastibate  eeshi7h  t1_eesh9d2\n",
      "999995             [deleted]  eesib7u  t1_eesh9d2\n",
      "999997               d_mcc_x  eeshhll  t1_eesh9vg\n",
      "999998  Collusion_Is_Treason  eesihb9  t1_eesh9vg\n",
      "999999    KyloRenCadetStimpy  eesi2bl  t1_eesh9vh\n",
      "\n",
      "[961469 rows x 3 columns]\n"
     ]
    },
    {
     "name": "stderr",
     "output_type": "stream",
     "text": [
      "82it [13:32, 10.29s/it]"
     ]
    },
    {
     "name": "stdout",
     "output_type": "stream",
     "text": [
      "                     author       id   parent_id\n",
      "0           Flannel_Channel  eesn876  t1_eesh9vh\n",
      "1                 [deleted]  eesj7wj  t1_eesha6n\n",
      "2                 [deleted]  eeshm4d  t1_eesha88\n",
      "3       ConfirmOriginOfFire  eesylq6  t1_eeshbku\n",
      "4                   d_mcc_x  eeshf0t  t1_eeshbw9\n",
      "...                     ...      ...         ...\n",
      "999995     nooneisanonymous  efqvmm5  t1_efquoak\n",
      "999996                 Reum  efra7u4  t1_efqupob\n",
      "999997             vootator  efsg9dh  t1_efqupob\n",
      "999998                r777m  efqw50u  t1_efqur0z\n",
      "999999               Prawph  efqz1fw  t1_efquu04\n",
      "\n",
      "[960367 rows x 3 columns]\n"
     ]
    },
    {
     "name": "stderr",
     "output_type": "stream",
     "text": [
      "83it [13:42, 10.01s/it]"
     ]
    },
    {
     "name": "stdout",
     "output_type": "stream",
     "text": [
      "                   author       id   parent_id\n",
      "0               Ofthedoor  efqxal5  t1_efquuyq\n",
      "1        the_nice_version  efqv1k8  t1_efquwdg\n",
      "2                  plasix  efr18ba  t1_efqv1k8\n",
      "3            StevenMaurer  efqxs0k  t1_efqv3n3\n",
      "4                 svacct2  efr1rym  t1_efqv4hp\n",
      "...                   ...      ...         ...\n",
      "999995  Yoyoyoyowassupbro  egm485f  t1_egm3f6d\n",
      "999996            Shift84  egmfn89  t1_egm3f6d\n",
      "999997          [deleted]  egmlxp2  t1_egm3f6d\n",
      "999998          [deleted]  egm3yyx  t1_egm3iwq\n",
      "999999           jmnugent  egm433e  t1_egm3jrr\n",
      "\n",
      "[960521 rows x 3 columns]\n"
     ]
    },
    {
     "name": "stderr",
     "output_type": "stream",
     "text": [
      "84it [13:52, 10.05s/it]"
     ]
    },
    {
     "name": "stdout",
     "output_type": "stream",
     "text": [
      "                   author       id   parent_id\n",
      "0         AnotherJew69Gas  egm5yjv  t1_egm3lwt\n",
      "1             DMKavidelly  egmb5ps  t1_egm3xic\n",
      "2               Shadonic1  egm7bk9  t1_egm41t1\n",
      "3                 bnelson  egm4e86  t1_egm433e\n",
      "4             LorenzOhhhh  egm7l65  t1_egm439k\n",
      "...                   ...      ...         ...\n",
      "999995          [deleted]  ehfjdsk   t3_avhv2v\n",
      "999996        Webasauraus  ehfjdsl   t3_avhv2v\n",
      "999997       0penlyClosed  ehfjdso   t3_avhv2v\n",
      "999998  GreatWhiteBuffal0  ehfjdvh   t3_avhv2v\n",
      "999999       eatswetbread  ehfjdvn   t3_avhv2v\n",
      "\n",
      "[961649 rows x 3 columns]\n"
     ]
    },
    {
     "name": "stderr",
     "output_type": "stream",
     "text": [
      "85it [14:03, 10.36s/it]"
     ]
    },
    {
     "name": "stdout",
     "output_type": "stream",
     "text": [
      "                      author       id   parent_id\n",
      "0       pm_me_your_last_pics  ehfjdvw   t3_avhv2v\n",
      "1                  [deleted]  ehfjdw9   t3_avhv2v\n",
      "2                  numa_numa  ehfjdwf   t3_avhv2v\n",
      "3               iOnlyShoot3s  ehfjdwr   t3_avhv2v\n",
      "4                  [deleted]  ehfjdxi   t3_avhv2v\n",
      "...                      ...      ...         ...\n",
      "999995          cawkstrangla  eii42fk  t1_eiggjv6\n",
      "999996           BitRunner67  eigjlz3  t1_eiggk2g\n",
      "999997         stoned-todeth  eigla9n  t1_eiggk2g\n",
      "999998      Not_A_Stand_User  eiglcer  t1_eiggk2g\n",
      "999999          HeavyHexHead  eih3ico  t1_eiggk2g\n",
      "\n",
      "[957395 rows x 3 columns]\n"
     ]
    },
    {
     "name": "stderr",
     "output_type": "stream",
     "text": [
      "86it [14:12, 10.06s/it]"
     ]
    },
    {
     "name": "stdout",
     "output_type": "stream",
     "text": [
      "                 author       id   parent_id\n",
      "0             [deleted]  eighmic  t1_eiggm02\n",
      "1               Cladari  eignq5y  t1_eiggq7k\n",
      "2                JJJ_99  eigurwf  t1_eiggxje\n",
      "3                JJJ_99  eigjli2  t1_eighnvn\n",
      "4         Bla_bla_boobs  eigktkz  t1_eigifdt\n",
      "...                 ...      ...         ...\n",
      "999994      whiteyfresh  ejf25j6  t1_ejf1ka4\n",
      "999995  ObamaSupporter1  ejf2e9n  t1_ejf25j6\n",
      "999997        [deleted]  ejf10dg   t3_b5q1f5\n",
      "999998     skateaccount  ejf12ti   t3_b5q1f5\n",
      "999999       User767676  ejf1tqx   t3_b5q1f5\n",
      "\n",
      "[961501 rows x 3 columns]\n"
     ]
    },
    {
     "name": "stderr",
     "output_type": "stream",
     "text": [
      "87it [14:22,  9.87s/it]"
     ]
    },
    {
     "name": "stdout",
     "output_type": "stream",
     "text": [
      "                 author       id   parent_id\n",
      "0             [deleted]  ejf1vhu   t3_b5q1f5\n",
      "1           cuomobridge  ejf1z08   t3_b5q1f5\n",
      "2       SurlyShoeshiner  ejf26w1   t3_b5q1f5\n",
      "3       KzininTexas1955  ejf64hm   t3_b5q1f5\n",
      "4             [deleted]  ejf1kyf  t1_ejf183c\n",
      "...                 ...      ...         ...\n",
      "999995         Maxdpage  eknd93s  t1_ekmog4y\n",
      "999996       TheDude415  ekmr7dy  t1_ekmogo8\n",
      "999997        [deleted]  ekmter4  t1_ekmogo8\n",
      "999998        norcal902  ekmup8a  t1_ekmogo8\n",
      "999999          brkello  ekmypjb  t1_ekmogo8\n",
      "\n",
      "[959950 rows x 3 columns]\n"
     ]
    },
    {
     "name": "stderr",
     "output_type": "stream",
     "text": [
      "88it [14:32,  9.86s/it]"
     ]
    },
    {
     "name": "stdout",
     "output_type": "stream",
     "text": [
      "                      author       id   parent_id\n",
      "0                lcdramerica  ekmts8a  t1_ekmokux\n",
      "1       ImAProudRetardedFish  ekmze41  t1_ekmokux\n",
      "2          PantsMcGillicuddy  ekmp9x9  t1_ekmomhc\n",
      "3         LazyAssedConqueror  ekn2w5t  t1_ekmope3\n",
      "4               greenthumble  ekmtnb6  t1_ekmopu8\n",
      "...                      ...      ...         ...\n",
      "999994         kevingoodsell  c0msn8s  t1_c0msl5v\n",
      "999995              grelthog  c0mt6ux  t1_c0msl5v\n",
      "999996          Deep-Thought  c0mtzja  t1_c0msl5v\n",
      "999997               avens19  c0mz0f5  t1_c0msl5v\n",
      "999999             [deleted]  c0msxor  t1_c0mslcw\n",
      "\n",
      "[961526 rows x 3 columns]\n"
     ]
    },
    {
     "name": "stderr",
     "output_type": "stream",
     "text": [
      "89it [14:43, 10.15s/it]"
     ]
    },
    {
     "name": "stdout",
     "output_type": "stream",
     "text": [
      "                 author       id   parent_id\n",
      "0            huntwhales  c0mslue  t1_c0mslgo\n",
      "1               sigloiv  c0mso9w  t1_c0mslgo\n",
      "2               terronk  c0msxn5  t1_c0mslgo\n",
      "3            only_human  c0msp8k  t1_c0mslit\n",
      "4             johnleemk  c0msp9g  t1_c0mslit\n",
      "...                 ...      ...         ...\n",
      "999995          annapie  en8thh3  t1_en8ebf2\n",
      "999996        [deleted]  en9e80x  t1_en8ent7\n",
      "999997  Heritage_Cherry  en8f4fm  t1_en8eoqs\n",
      "999998     Alleyprowler  en8h5c5  t1_en8eyna\n",
      "999999          Revoran  en8fykb  t1_en8ezg8\n",
      "\n",
      "[959468 rows x 3 columns]\n"
     ]
    },
    {
     "name": "stderr",
     "output_type": "stream",
     "text": [
      "90it [14:52,  9.97s/it]"
     ]
    },
    {
     "name": "stdout",
     "output_type": "stream",
     "text": [
      "                  author       id   parent_id\n",
      "0       ihavenotime4this  en8npm0  t1_en8f659\n",
      "1              rrtangent  en8gowy  t1_en8f850\n",
      "2         RetinalFlashes  en8ma7y  t1_en8fmfg\n",
      "3           confused_ape  en8y572  t1_en8fmfg\n",
      "4              [deleted]  en8jlik  t1_en8fmr6\n",
      "...                  ...      ...         ...\n",
      "999995        henryptung  epin0r5  t1_eph5qfr\n",
      "999996         tossup418  epjc4c0  t1_eph5qfr\n",
      "999997  Balls_deep_in_it  eph72lq  t1_eph6dh6\n",
      "999998     factisfiction  ephu5cv  t1_eph6dh6\n",
      "999999            rockum  ephbm4y  t1_eph6wfi\n",
      "\n",
      "[959083 rows x 3 columns]\n"
     ]
    },
    {
     "name": "stderr",
     "output_type": "stream",
     "text": [
      "91it [15:01,  9.80s/it]"
     ]
    },
    {
     "name": "stdout",
     "output_type": "stream",
     "text": [
      "                 author       id   parent_id\n",
      "0           KEMiKAL_NSF  epjb766  t1_eph912u\n",
      "1        DubbaEwwTeeEff  ephcghj  t1_ephap21\n",
      "2            frogelixir  ephc1dq  t1_ephb7b0\n",
      "3           KEMiKAL_NSF  epjdpt7  t1_ephb7b0\n",
      "4        DubbaEwwTeeEff  ephdi7k  t1_ephbm4y\n",
      "...                 ...      ...         ...\n",
      "999995      greenwizard  c0pp1d2  t1_c0pnwbe\n",
      "999996       lasttoknow  c0po0dk  t1_c0pnxkq\n",
      "999997  makeminemaudlin  c0poia7  t1_c0pnz45\n",
      "999998  StoopidFlanders  c0poa9g  t1_c0po1s9\n",
      "999999  laughatliberals  c0pogth  t1_c0po1s9\n",
      "\n",
      "[959294 rows x 3 columns]\n"
     ]
    },
    {
     "name": "stderr",
     "output_type": "stream",
     "text": [
      "92it [15:12,  9.98s/it]"
     ]
    },
    {
     "name": "stdout",
     "output_type": "stream",
     "text": [
      "                      author       id   parent_id\n",
      "0                  [deleted]  c0poi7u  t1_c0po1s9\n",
      "1                  [deleted]  c0pol1n  t1_c0po1s9\n",
      "2            IgnatiousReilly  c0pol76  t1_c0po1s9\n",
      "3             franklindbluth  c0poejd  t1_c0po98l\n",
      "4                chicofaraby  c0poamo  t1_c0poa9g\n",
      "...                      ...      ...         ...\n",
      "999995           CNC_or_gtfo  esgkq27   t3_c7o65u\n",
      "999996  InternetConquistador  esgkt3h   t3_c7o65u\n",
      "999997         OllieBollie06  esgkxuu   t3_c7o65u\n",
      "999998         Cenzura4Shura  esgl2u0   t3_c7o65u\n",
      "999999              Gooch222  esgl7gd   t3_c7o65u\n",
      "\n",
      "[962976 rows x 3 columns]\n"
     ]
    },
    {
     "name": "stderr",
     "output_type": "stream",
     "text": [
      "93it [15:23, 10.34s/it]"
     ]
    },
    {
     "name": "stdout",
     "output_type": "stream",
     "text": [
      "                      author       id  parent_id\n",
      "0                    MBAMBA2  esglao5  t3_c7o65u\n",
      "1                Terrapinned  esglgcr  t3_c7o65u\n",
      "2       ThrowawaysStopStalks  esglkp9  t3_c7o65u\n",
      "3               Firstclass30  esglnej  t3_c7o65u\n",
      "4              gaslightranch  esglslk  t3_c7o65u\n",
      "...                      ...      ...        ...\n",
      "999995             rhudson77  etwo4em  t3_cdnhuw\n",
      "999996            themollusk  etwp3cg  t3_cdnhuw\n",
      "999997      Bender_Rodriigez  etwpwzn  t3_cdnhuw\n",
      "999998             Jimhead89  etwv4r0  t3_cdnhuw\n",
      "999999                Azlend  etwvdb0  t3_cdnhuw\n",
      "\n",
      "[961724 rows x 3 columns]\n"
     ]
    },
    {
     "name": "stderr",
     "output_type": "stream",
     "text": [
      "94it [15:33, 10.12s/it]"
     ]
    },
    {
     "name": "stdout",
     "output_type": "stream",
     "text": [
      "                    author       id   parent_id\n",
      "0       mostly_kinda_sorta  eu35wxr   t3_cdnhuw\n",
      "1        littorina_of_time  etv3r4o  t1_etv30hj\n",
      "2                 GW101590  etv5ned  t1_etv30hj\n",
      "3                [deleted]  etv9ur4  t1_etv3gr6\n",
      "4                [deleted]  etv9w3g  t1_etv3gr6\n",
      "...                    ...      ...         ...\n",
      "999995    GotThemBabyLungs  evaydd3  t1_evag3mm\n",
      "999996               mzpip  evaz4t1  t1_evag3mm\n",
      "999997        ChinaOwnsGOP  evazb07  t1_evag3mm\n",
      "999998           [deleted]  evazplj  t1_evag3mm\n",
      "999999       TheHouseofOne  evb0doi  t1_evag3mm\n",
      "\n",
      "[961781 rows x 3 columns]\n"
     ]
    },
    {
     "name": "stderr",
     "output_type": "stream",
     "text": [
      "95it [15:42,  9.87s/it]"
     ]
    },
    {
     "name": "stdout",
     "output_type": "stream",
     "text": [
      "                    author       id   parent_id\n",
      "0              fordprecept  evb175t  t1_evag3mm\n",
      "2           DragonSlash007  evb1rhz  t1_evag3mm\n",
      "3                 ToeCtter  evb2buz  t1_evag3mm\n",
      "4                  HotPie_  evb318i  t1_evag3mm\n",
      "5                [deleted]  evb46dc  t1_evag3mm\n",
      "...                    ...      ...         ...\n",
      "999995            coccytus  ewgwe8x   t3_co2rb8\n",
      "999996            90210van  ewgwi1v   t3_co2rb8\n",
      "999997           [deleted]  ewgwq2s   t3_co2rb8\n",
      "999998  SyntheticReality42  ewgwqtk   t3_co2rb8\n",
      "999999     OarsandRowlocks  ewgwxpo   t3_co2rb8\n",
      "\n",
      "[963798 rows x 3 columns]\n"
     ]
    },
    {
     "name": "stderr",
     "output_type": "stream",
     "text": [
      "96it [15:52,  9.95s/it]"
     ]
    },
    {
     "name": "stdout",
     "output_type": "stream",
     "text": [
      "                      author       id   parent_id\n",
      "0                 T1M_rEAPeR  ewgwzpo   t3_co2rb8\n",
      "1           StackerPentecost  ewgx3a6   t3_co2rb8\n",
      "2              TsukasaHimura  ewgx3yt   t3_co2rb8\n",
      "3             TheMagusMedivh  ewgx97j   t3_co2rb8\n",
      "4       MortonSaltPepperCorn  ewgxchn   t3_co2rb8\n",
      "...                      ...      ...         ...\n",
      "999993             [deleted]  exvhtpf   t3_cukn4u\n",
      "999994           Riversmooth  exvkfck   t3_cukn4u\n",
      "999997     _Born_To_Be_Mild_  c0ve1lf  t1_c0ve1fe\n",
      "999998      CthulhusCallerID  c0ve1u0  t1_c0ve1lf\n",
      "999999               IMJGalt  c0vdx9h    t3_cukom\n",
      "\n",
      "[959591 rows x 3 columns]\n"
     ]
    },
    {
     "name": "stderr",
     "output_type": "stream",
     "text": [
      "97it [16:03, 10.23s/it]"
     ]
    },
    {
     "name": "stdout",
     "output_type": "stream",
     "text": [
      "                      author       id   parent_id\n",
      "0           CthulhusCallerID  c0ve1fe    t3_cukom\n",
      "1       Hamas_kills_children  c0ve6m0    t3_cukom\n",
      "4                      mzieg  exve8h5   t3_cukoqc\n",
      "5              CarmineFields  exveoj8  t1_exveigh\n",
      "6           Roflcopterswoosh  exvnaxg  t1_exveigh\n",
      "...                      ...      ...         ...\n",
      "999995  SecondChanceUsername  ezy8hrd  t1_ezw929i\n",
      "999996                cumwad  ezy91cl  t1_ezw929i\n",
      "999997     DicksOut-4Harambe  ezw9vy1  t1_ezw95u2\n",
      "999998        Minimum_Escape  ezwhayg  t1_ezw95u2\n",
      "999999                 Rxke2  ezwsha8  t1_ezw95u2\n",
      "\n",
      "[959058 rows x 3 columns]\n"
     ]
    },
    {
     "name": "stderr",
     "output_type": "stream",
     "text": [
      "98it [16:12,  9.98s/it]"
     ]
    },
    {
     "name": "stdout",
     "output_type": "stream",
     "text": [
      "                      author       id   parent_id\n",
      "0                  Vallkyrie  ezww1sa  t1_ezw95u2\n",
      "1       democrrracy_manifest  ezx25zd  t1_ezw95u2\n",
      "2                  [deleted]  ezxko8v  t1_ezw95u2\n",
      "3                  xahhfink6  ezwb3k4  t1_ezw96ks\n",
      "4          UnspecificGravity  ezwjjzq  t1_ezw96ks\n",
      "...                      ...      ...         ...\n",
      "999995          Mister_Haste  f1et49n  t1_f1esydv\n",
      "999996            gabz102195  f1et4f6  t1_f1esydv\n",
      "999997             [deleted]  f1et4un  t1_f1esydv\n",
      "999998             [deleted]  f1et62r  t1_f1esydv\n",
      "999999             [deleted]  f1et6h1  t1_f1esydv\n",
      "\n",
      "[962226 rows x 3 columns]\n"
     ]
    },
    {
     "name": "stderr",
     "output_type": "stream",
     "text": [
      "99it [16:22,  9.80s/it]"
     ]
    },
    {
     "name": "stdout",
     "output_type": "stream",
     "text": [
      "                     author       id   parent_id\n",
      "0                 [deleted]  f1et6q3  t1_f1esydv\n",
      "1                    Blecki  f1et7cv  t1_f1esydv\n",
      "2                   maltrab  f1et7ic  t1_f1esydv\n",
      "3                 [deleted]  f1et7jl  t1_f1esydv\n",
      "4       WalesIsForTheWhales  f1et89f  t1_f1esydv\n",
      "...                     ...      ...         ...\n",
      "999995          LazamairAMD  f2q1pdu   t3_de0vli\n",
      "999996          djangofetta  f2q1v0f   t3_de0vli\n",
      "999997          Panda_Kabob  f2q4hmi   t3_de0vli\n",
      "999998            buddhahat  f2q5sq3   t3_de0vli\n",
      "999999                milqi  f2q5v02   t3_de0vli\n",
      "\n",
      "[961058 rows x 3 columns]\n"
     ]
    },
    {
     "name": "stderr",
     "output_type": "stream",
     "text": [
      "100it [16:32,  9.83s/it]"
     ]
    },
    {
     "name": "stdout",
     "output_type": "stream",
     "text": [
      "                    author       id   parent_id\n",
      "0                Fidelis29  f2q9l69   t3_de0vli\n",
      "1               OffManWall  f2qb2p2   t3_de0vli\n",
      "2             stlcarlos989  f2qdnun   t3_de0vli\n",
      "3               futuredude  f2q0jmc  t1_f2q0ect\n",
      "6             Im_no_cowboy  f2q6ams  t1_f2q1v30\n",
      "...                    ...      ...         ...\n",
      "999995     BenedictsTheory  f44agqq  t1_f448tf8\n",
      "999996  orangesarenotnasty  f44agiu  t1_f4492wh\n",
      "999997     --gumbercules--  f44aou8  t1_f4492wh\n",
      "999998     BenedictsTheory  f44b05j  t1_f4492wh\n",
      "999999     BenedictsTheory  f44aap4  t1_f449fbs\n",
      "\n",
      "[958505 rows x 3 columns]\n"
     ]
    },
    {
     "name": "stderr",
     "output_type": "stream",
     "text": [
      "101it [16:43, 10.17s/it]"
     ]
    },
    {
     "name": "stdout",
     "output_type": "stream",
     "text": [
      "                     author       id   parent_id\n",
      "0              yeschrisyes1  f493de3  t1_f449mao\n",
      "1        orangesarenotnasty  f44akuj  t1_f449shf\n",
      "2       velveteenelahrairah  f44ambh  t1_f449shf\n",
      "3                Matthmaroo  f44nwqi  t1_f449shf\n",
      "4                 Jimbob0i0  f44bpqs  t1_f449u82\n",
      "...                     ...      ...         ...\n",
      "999995          astrakhan42  f5wgz7w  t1_f5w8c8w\n",
      "999996           prituhemop  f5xsn1n  t1_f5w8c8w\n",
      "999997          ClearDark19  f5w9epw  t1_f5w8yoe\n",
      "999998     undercoverballer  f5wrlnf  t1_f5w8yoe\n",
      "999999            [deleted]  f69uf3e  t1_f5w8yoe\n",
      "\n",
      "[959168 rows x 3 columns]\n"
     ]
    },
    {
     "name": "stderr",
     "output_type": "stream",
     "text": [
      "102it [16:53, 10.16s/it]"
     ]
    },
    {
     "name": "stdout",
     "output_type": "stream",
     "text": [
      "                      author       id   parent_id\n",
      "0       RandPaulsLawnWhoopin  f5wdpr3  t1_f5w9epw\n",
      "1                terfsfugoff  f5xen4d  t1_f5w9l38\n",
      "2               dissidentpen  f5ycai4  t1_f5w9l38\n",
      "3            BoomerTakes2004  f5wl7bp  t1_f5wc55k\n",
      "4              dieselstation  f5xpjb1  t1_f5wc55k\n",
      "...                      ...      ...         ...\n",
      "999995                gitbse  f7ff9zd  t1_f7felkv\n",
      "999996            demontrain  f7feplo  t1_f7felns\n",
      "999997          horseydeucey  f7ferb6  t1_f7felns\n",
      "999998      theredditforwork  f7feru0  t1_f7felns\n",
      "999999             SSj_CODii  f7ferv9  t1_f7felns\n",
      "\n",
      "[960935 rows x 3 columns]\n"
     ]
    },
    {
     "name": "stderr",
     "output_type": "stream",
     "text": [
      "103it [17:02,  9.90s/it]"
     ]
    },
    {
     "name": "stdout",
     "output_type": "stream",
     "text": [
      "                     author       id   parent_id\n",
      "0            bits_and_bytes  f7fetur  t1_f7felns\n",
      "1                CobaltGrey  f7fezqq  t1_f7felns\n",
      "2              theleftflank  f7ff06s  t1_f7felns\n",
      "3                   prod024  f7ff5kd  t1_f7felns\n",
      "4           TheMapperOfMaps  f7ff1yi  t1_f7felqf\n",
      "...                     ...      ...         ...\n",
      "999995               gdex86  f8bxddc  t1_f8bx6g5\n",
      "999996  Hashslingingslashar  f8bxg9t  t1_f8bxbcc\n",
      "999997    deathtotheemperor  f8c15gp  t1_f8bxbcc\n",
      "999998            [deleted]  f8c3048  t1_f8bxbcc\n",
      "999999        Hanging-Chads  f8bxjji  t1_f8bxddc\n",
      "\n",
      "[965575 rows x 3 columns]\n"
     ]
    },
    {
     "name": "stderr",
     "output_type": "stream",
     "text": [
      "104it [17:12,  9.90s/it]"
     ]
    },
    {
     "name": "stdout",
     "output_type": "stream",
     "text": [
      "                     author       id   parent_id\n",
      "0                   guy7890  f8bxxn1  t1_f8bxg9t\n",
      "1          2020politics2020  f8by3yl  t1_f8bxg9t\n",
      "2                     Agnos  f8byur6  t1_f8bxg9t\n",
      "3                    gdex86  f8bxwfx  t1_f8bxjji\n",
      "4                 [deleted]  f8cnfgv  t1_f8bxjji\n",
      "...                     ...      ...         ...\n",
      "999995      BenedictsTheory  f9ypxi7  t1_f9ypnx8\n",
      "999996            [deleted]  f9yqc6r  t1_f9ypnx8\n",
      "999997            [deleted]  f9yq44e  t1_f9ypxi7\n",
      "999998  modz-are-snowflakes  f9yrbva  t1_f9yq44e\n",
      "999999      BenedictsTheory  f9yrnld  t1_f9yq44e\n",
      "\n",
      "[963690 rows x 3 columns]\n"
     ]
    },
    {
     "name": "stderr",
     "output_type": "stream",
     "text": [
      "105it [17:23, 10.32s/it]"
     ]
    },
    {
     "name": "stdout",
     "output_type": "stream",
     "text": [
      "                 author       id   parent_id\n",
      "0           LanceBarney  f9yre4q  t1_f9yq6nm\n",
      "1       secret_someones  fa620rs  t1_f9yq6nm\n",
      "2           pm_me_jojos  f9yr3ia  t1_f9yqfux\n",
      "3             jews4beer  f9yrl0a  t1_f9yrbva\n",
      "4          todd_the_bod  f9ytif8  t1_f9yre4q\n",
      "...                 ...      ...         ...\n",
      "999995      HandSack135  fbcarcz  t1_fbcank4\n",
      "999996         tomdarch  fbcarq4  t1_fbcank4\n",
      "999997   Bw22npRws99DW2  fbcbpya  t1_fbcank4\n",
      "999998        [deleted]  fbcc15r  t1_fbcank4\n",
      "999999  eyedontgetjokes  fbcd4r1  t1_fbcank4\n",
      "\n",
      "[966726 rows x 3 columns]\n"
     ]
    },
    {
     "name": "stderr",
     "output_type": "stream",
     "text": [
      "106it [17:33, 10.09s/it]"
     ]
    },
    {
     "name": "stdout",
     "output_type": "stream",
     "text": [
      "                 author       id   parent_id\n",
      "0         LonelySwinger  fbce00o  t1_fbcank4\n",
      "1       Catshit-Dogfart  fbcf8iq  t1_fbcank4\n",
      "2             [deleted]  fbctk1v  t1_fbcank4\n",
      "3            aBluntCunt  fbcbhyf  t1_fbcannf\n",
      "4           Krazy-Kat15  fbcd1r2  t1_fbcannf\n",
      "...                 ...      ...         ...\n",
      "999995   Xx_Memerino_xX  fev7t71  t1_fcxnihi\n",
      "999996             syds  fcynu1b  t1_fcxodw9\n",
      "999997      LawnShipper  fcxor8k  t1_fcxoho3\n",
      "999998       c0pypastry  fcxpdr4  t1_fcxoix7\n",
      "999999  HighestOfOrbits  fcxp825  t1_fcxor8k\n",
      "\n",
      "[967222 rows x 3 columns]\n"
     ]
    },
    {
     "name": "stderr",
     "output_type": "stream",
     "text": [
      "107it [17:42,  9.86s/it]"
     ]
    },
    {
     "name": "stdout",
     "output_type": "stream",
     "text": [
      "                   author       id   parent_id\n",
      "0           DylonNotNylon  fcxprmr  t1_fcxou8c\n",
      "1             LawnShipper  fcxp0mx  t1_fcxoyvf\n",
      "2       Sempais_nutrients  fczekmc  t1_fcxoz9d\n",
      "3            bigdrubowski  fcxpv2j  t1_fcxpdr4\n",
      "4              metaobject  fcxsng2  t1_fcxpdr4\n",
      "...                   ...      ...         ...\n",
      "999995           hamakabi  fel0qwy  t1_fekr6mh\n",
      "999996       semideclared  femxkm4  t1_fekr6mh\n",
      "999997          kyiecutie  felb6ng  t1_fekrapz\n",
      "999998         Jacked1218  fekw8ev  t1_fekrch6\n",
      "999999        Bunktavious  fekydvb  t1_fekrch6\n",
      "\n",
      "[960974 rows x 3 columns]\n"
     ]
    },
    {
     "name": "stderr",
     "output_type": "stream",
     "text": [
      "108it [17:52,  9.94s/it]"
     ]
    },
    {
     "name": "stdout",
     "output_type": "stream",
     "text": [
      "                     author       id   parent_id\n",
      "1                 [deleted]  fel4d83  t1_fekrch6\n",
      "2               Sinfirmitas  fel7ez1  t1_fekrch6\n",
      "3                 [deleted]  felwpc7  t1_fekrch6\n",
      "4                 Liito2389  fekrvz8  t1_fekrcjr\n",
      "5                  HAN-Y0LO  feksaz2  t1_fekrea1\n",
      "...                     ...      ...         ...\n",
      "999994    YoungWigglesWorth  ffv4r42   t3_evdwg7\n",
      "999995          Pluto135711  ffv75sh   t3_evdwg7\n",
      "999996              jherico  ffv8nue   t3_evdwg7\n",
      "999997           fastghosts  ffvd2bk   t3_evdwg7\n",
      "999998  Occams_shaving_soap  ffv572b  t1_ffv3r98\n",
      "\n",
      "[961842 rows x 3 columns]\n"
     ]
    },
    {
     "name": "stderr",
     "output_type": "stream",
     "text": [
      "109it [18:03, 10.24s/it]"
     ]
    },
    {
     "name": "stdout",
     "output_type": "stream",
     "text": [
      "                     author       id  parent_id\n",
      "0        Repubsareproincest  ffv32vf  t3_evdwiz\n",
      "1       USSRcontactISabsurd  ffv35k8  t3_evdwiz\n",
      "2                 [deleted]  ffv36ls  t3_evdwiz\n",
      "3          DerbyWearingDude  ffv380q  t3_evdwiz\n",
      "4                  SaltHash  ffv3r98  t3_evdwiz\n",
      "...                     ...      ...        ...\n",
      "999995            [deleted]  fgmqhrw  t3_ez9p7m\n",
      "999996            [deleted]  fgmqhu1  t3_ez9p7m\n",
      "999997           selectyour  fgmqhwp  t3_ez9p7m\n",
      "999998           wil_daven_  fgmqhwu  t3_ez9p7m\n",
      "999999  TRAITORS_GET_PRISON  fgmqi1i  t3_ez9p7m\n",
      "\n",
      "[967348 rows x 3 columns]\n"
     ]
    },
    {
     "name": "stderr",
     "output_type": "stream",
     "text": [
      "110it [18:13,  9.97s/it]"
     ]
    },
    {
     "name": "stdout",
     "output_type": "stream",
     "text": [
      "                     author       id  parent_id\n",
      "0                 Burner96R  fgmqidf  t3_ez9p7m\n",
      "1              VictimNoises  fgmqiic  t3_ez9p7m\n",
      "2           MoreShenanigans  fgmqilb  t3_ez9p7m\n",
      "3         dudeilovethisshit  fgmqipg  t3_ez9p7m\n",
      "4       whitechristianjesus  fgmqiqs  t3_ez9p7m\n",
      "...                     ...      ...        ...\n",
      "999995          ali-martini  fhh3u74  t3_f38coc\n",
      "999996           CR0Wmurder  fhh3w6v  t3_f38coc\n",
      "999997       Blackflame7762  fhh3xdl  t3_f38coc\n",
      "999998            [deleted]  fhh3zb6  t3_f38coc\n",
      "999999            [deleted]  fhh468t  t3_f38coc\n",
      "\n",
      "[963362 rows x 3 columns]\n"
     ]
    },
    {
     "name": "stderr",
     "output_type": "stream",
     "text": [
      "111it [18:22,  9.82s/it]"
     ]
    },
    {
     "name": "stdout",
     "output_type": "stream",
     "text": [
      "                      author       id  parent_id\n",
      "0       roughingupthesuspect  fhh4cpb  t3_f38coc\n",
      "1           JaylenConsidered  fhh4d2r  t3_f38coc\n",
      "2            woodfordreverse  fhh4dec  t3_f38coc\n",
      "3               kestrel1000c  fhh4iuc  t3_f38coc\n",
      "4                trogdor1234  fhh5cbx  t3_f38coc\n",
      "...                      ...      ...        ...\n",
      "999995      PainfulTruth2020  fiotb4n  t3_f900fp\n",
      "999996                DKmann  fiotlv0  t3_f900fp\n",
      "999997             lambofgun  fiou6a0  t3_f900fp\n",
      "999998             lambofgun  fiou9me  t3_f900fp\n",
      "999999               dfreinc  fiovx8i  t3_f900fp\n",
      "\n",
      "[961461 rows x 3 columns]\n"
     ]
    },
    {
     "name": "stderr",
     "output_type": "stream",
     "text": [
      "112it [18:32,  9.86s/it]"
     ]
    },
    {
     "name": "stdout",
     "output_type": "stream",
     "text": [
      "                      author       id   parent_id\n",
      "0            luigitheplumber  fioxzon   t3_f900fp\n",
      "1          HagbardCelineHere  fioywey   t3_f900fp\n",
      "2                   bold2shy  fiozfol   t3_f900fp\n",
      "3          Iamaleafinthewind  fiozm06   t3_f900fp\n",
      "4           SpinozaTheDamned  fip104t   t3_f900fp\n",
      "...                      ...      ...         ...\n",
      "999994                 zhaoz  fjfcr32  t1_fjfcfbm\n",
      "999995         Manthropology  fjfcrzl  t1_fjfcfbm\n",
      "999996             Olliebird  fjfcsjs  t1_fjfcfbm\n",
      "999997  RichestMangInBabylon  fjfcssc  t1_fjfcfbm\n",
      "999999   PomfAndCircvmstance  fjfd01h  t1_fjfcfbm\n",
      "\n",
      "[964801 rows x 3 columns]\n"
     ]
    },
    {
     "name": "stderr",
     "output_type": "stream",
     "text": [
      "113it [18:43, 10.20s/it]"
     ]
    },
    {
     "name": "stdout",
     "output_type": "stream",
     "text": [
      "                      author       id   parent_id\n",
      "0                   prashn64  fjfd6sk  t1_fjfcfbm\n",
      "1         NotBeforeMyCovfefe  fjfd934  t1_fjfcfbm\n",
      "2       pmmeyourneardeathexp  fjfchw3  t1_fjfcfee\n",
      "3           greentreesbreezy  fjfd7aw  t1_fjfcfg9\n",
      "4            AccidentalBeans  fjfciac  t1_fjfcfgq\n",
      "...                      ...      ...         ...\n",
      "999995            EvilString  fk5pnij  t1_fk5pli4\n",
      "999996             [deleted]  fk5q4t5  t1_fk5plot\n",
      "999997              Maxx1mum  fk5qnst  t1_fk5plot\n",
      "999998             [deleted]  fk5pqts  t1_fk5plq3\n",
      "999999             [deleted]  fk5q3ex  t1_fk5plse\n",
      "\n",
      "[966639 rows x 3 columns]\n"
     ]
    },
    {
     "name": "stderr",
     "output_type": "stream",
     "text": [
      "114it [18:53, 10.06s/it]"
     ]
    },
    {
     "name": "stdout",
     "output_type": "stream",
     "text": [
      "                author       id   parent_id\n",
      "0           cavsking21  fk5prr3  t1_fk5plvn\n",
      "1       cccp_redr4bbit  fk5q1bq  t1_fk5plvn\n",
      "2            [deleted]  fk5q4l3  t1_fk5plvn\n",
      "3             Maxx1mum  fk5qj8f  t1_fk5plvn\n",
      "4            [deleted]  fk5po85  t1_fk5plwj\n",
      "...                ...      ...         ...\n",
      "999995  KingLoneWolf56  fkx4gjj   t3_fky0y0\n",
      "999996      Bobbysmurg  fkx4km9   t3_fky0y0\n",
      "999997    cranberryfix  fkx64dc   t3_fky0y0\n",
      "999998       [deleted]  fkx70e0   t3_fky0y0\n",
      "999999       [deleted]  fkx79a7   t3_fky0y0\n",
      "\n",
      "[964213 rows x 3 columns]\n"
     ]
    },
    {
     "name": "stderr",
     "output_type": "stream",
     "text": [
      "115it [19:02,  9.87s/it]"
     ]
    },
    {
     "name": "stdout",
     "output_type": "stream",
     "text": [
      "                  author       id   parent_id\n",
      "0             jdickstein  fkx8om0   t3_fky0y0\n",
      "1        SasparillaTango  fkx9b07   t3_fky0y0\n",
      "2          GimmieJohnson  fkx9k2q   t3_fky0y0\n",
      "3            8BitTweeter  fkxab6e   t3_fky0y0\n",
      "4        Shoetardmcgavin  fkxacw7   t3_fky0y0\n",
      "...                  ...      ...         ...\n",
      "999995     kulrajwashere  fluhb7j  t1_fltnopj\n",
      "999996           CtotheW  fltrtuh  t1_fltnrad\n",
      "999997       meresymptom  fn6iz4r  t1_fltnrad\n",
      "999998  ImHereToFuckShit  fltok63  t1_fltnzuu\n",
      "999999       iloveyouand  fltob5r  t1_flto1i3\n",
      "\n",
      "[962754 rows x 3 columns]\n"
     ]
    },
    {
     "name": "stderr",
     "output_type": "stream",
     "text": [
      "116it [19:12,  9.90s/it]"
     ]
    },
    {
     "name": "stdout",
     "output_type": "stream",
     "text": [
      "                     author       id   parent_id\n",
      "0         anomalousgeometry  fltoatj  t1_flto39f\n",
      "1            sickofthisshit  fltokhh  t1_flto563\n",
      "2       alan-the-all-seeing  fltonl4  t1_flto5fv\n",
      "3                DinoDude23  flxale6  t1_flto7fq\n",
      "4                 Jopopping  fltoq8c  t1_fltobax\n",
      "...                     ...      ...         ...\n",
      "999995     imaginary_num6er  fmwh1p8  t1_fmw9pbh\n",
      "999996            [deleted]  fmwg9gf  t1_fmwajlt\n",
      "999997            [deleted]  fmwcx7j  t1_fmwbobf\n",
      "999998        tylerbrainerd  fmx44xw  t1_fmwdnke\n",
      "999999              Tasgall  fmxay7u  t1_fmwel64\n",
      "\n",
      "[961691 rows x 3 columns]\n"
     ]
    },
    {
     "name": "stderr",
     "output_type": "stream",
     "text": [
      "117it [19:23, 10.31s/it]"
     ]
    },
    {
     "name": "stdout",
     "output_type": "stream",
     "text": [
      "                    author       id   parent_id\n",
      "0                   MM7299  fn1plck  t1_fmwfpt9\n",
      "1                RazumStar  fmwj6vq  t1_fmwgi1h\n",
      "2       hasa_deega_eebowai  fmx0whl  t1_fmwgi1h\n",
      "3                 kvossera  fmx4pys  t1_fmwgi1h\n",
      "4                   MM7299  fn1pomx  t1_fmwgo62\n",
      "...                    ...      ...         ...\n",
      "999995           ZnSaucier  fo1qznl  t1_fo1qvtq\n",
      "999996           Pollux182  fo1sg8p  t1_fo1qvtq\n",
      "999997          Cardonutss  fo30hw0  t1_fo1qvtq\n",
      "999998         ripelivejam  fo1sh0h  t1_fo1qvw6\n",
      "999999    grandtheftbonsai  fo1suxx  t1_fo1qvw6\n",
      "\n",
      "[962857 rows x 3 columns]\n"
     ]
    },
    {
     "name": "stderr",
     "output_type": "stream",
     "text": [
      "118it [19:33, 10.13s/it]"
     ]
    },
    {
     "name": "stdout",
     "output_type": "stream",
     "text": [
      "                   author       id   parent_id\n",
      "0            ThinkOption1  fo1r66p  t1_fo1qw68\n",
      "1               RTPGiants  fo1rcgs  t1_fo1qw68\n",
      "2         ninjaoftheworld  fo1rcpp  t1_fo1qw68\n",
      "3       Alt_Because_Stuff  fo1s18s  t1_fo1qw68\n",
      "4              Shivshanks  fo1s4c1  t1_fo1qw68\n",
      "...                   ...      ...         ...\n",
      "999995          [deleted]  fphb1wy   t3_gdbfn4\n",
      "999996               awhq  fphgfj7   t3_gdbfn4\n",
      "999997          [deleted]  fphhrrm   t3_gdbfn4\n",
      "999998          [deleted]  fphieru   t3_gdbfn4\n",
      "999999          Kalkaline  fphmd95   t3_gdbfn4\n",
      "\n",
      "[960123 rows x 3 columns]\n"
     ]
    },
    {
     "name": "stderr",
     "output_type": "stream",
     "text": [
      "119it [19:42,  9.87s/it]"
     ]
    },
    {
     "name": "stdout",
     "output_type": "stream",
     "text": [
      "                      author       id   parent_id\n",
      "0                   ClewKnot  fphmjr4   t3_gdbfn4\n",
      "1                 Chasmosaur  fphmtqr   t3_gdbfn4\n",
      "2                wrathfulauk  fphn95g   t3_gdbfn4\n",
      "3                manatarms99  fphwj8y   t3_gdbfn4\n",
      "4         liberalafgetoverit  fphxk1y   t3_gdbfn4\n",
      "...                      ...      ...         ...\n",
      "999995             DigitalLD  c1ox9hs  t1_c1ox7o9\n",
      "999996      WWDanielJacksonD  c1oz6y8  t1_c1oxbzi\n",
      "999997  TallahasseWaffleHous  c1p1wa0  t1_c1oych1\n",
      "999998             _Volpina_  c1p0alw  t1_c1oz6o1\n",
      "999999                Pelokt  c1p0pq1  t1_c1oz6y8\n",
      "\n",
      "[957763 rows x 3 columns]\n"
     ]
    },
    {
     "name": "stderr",
     "output_type": "stream",
     "text": [
      "120it [19:52,  9.96s/it]"
     ]
    },
    {
     "name": "stdout",
     "output_type": "stream",
     "text": [
      "                    author       id   parent_id\n",
      "0                 semper03  c1ur9ha  t1_c1p02wm\n",
      "1           istoleyourpope  c1p13hp  t1_c1p0alw\n",
      "2         WWDanielJacksonD  c1p1iko  t1_c1p0pq1\n",
      "3                   Pelokt  c1p1lum  t1_c1p1iko\n",
      "4         WWDanielJacksonD  c1p22qq  t1_c1p1lum\n",
      "...                    ...      ...         ...\n",
      "999995           [deleted]  fsk9g2m  t1_fsk8qlk\n",
      "999996         anon2309011  fsommsi  t1_fsk8qlk\n",
      "999997  innoculousnuisance  fskcjzt  t1_fskaok3\n",
      "999998       mrwaffles2117  fskb7bd  t1_fskb1gk\n",
      "999999          WalkenTaco  fskdprc  t1_fskb7bd\n",
      "\n",
      "[957997 rows x 3 columns]\n"
     ]
    },
    {
     "name": "stderr",
     "output_type": "stream",
     "text": [
      "121it [20:04, 10.33s/it]"
     ]
    },
    {
     "name": "stdout",
     "output_type": "stream",
     "text": [
      "                      author       id   parent_id\n",
      "0       TowelCarryingTourist  fskoeuo  t1_fskc6ns\n",
      "1                    ajt9000  fskkbbx  t1_fskcjzt\n",
      "2             kartoffel_engr  fsknfwx  t1_fskdehw\n",
      "3         innoculousnuisance  fskph9y  t1_fskkbbx\n",
      "4                  [deleted]  fskl3td  t1_fskkzgt\n",
      "...                      ...      ...         ...\n",
      "999994            2pacalypso  ftqicd5   t3_h17c42\n",
      "999995           KarnageCake  ftqr4jm   t3_h17c42\n",
      "999997             SuzieQToo  ftqjn0j   t3_h17c5m\n",
      "999998             digbick-j  ftqffjg  t1_ftqf51p\n",
      "999999     StopBotAgnotology  ftqg4mx  t1_ftqf51p\n",
      "\n",
      "[955659 rows x 3 columns]\n"
     ]
    },
    {
     "name": "stderr",
     "output_type": "stream",
     "text": [
      "122it [20:13, 10.08s/it]"
     ]
    },
    {
     "name": "stdout",
     "output_type": "stream",
     "text": [
      "                     author       id   parent_id\n",
      "0            ScroogeMcDrumf  ftqhk25  t1_ftqf51p\n",
      "1                     duqit  ftqjmls  t1_ftqf51p\n",
      "2                  puroloco  ftqmq1k  t1_ftqf51p\n",
      "3                    fadeux  ftqowgn  t1_ftqf51p\n",
      "4                iggyfenton  ftraetz  t1_ftqf51p\n",
      "...                     ...      ...         ...\n",
      "999995             NimusNix  fvuqi8a  t1_fvunhqu\n",
      "999996   GruntingButtNugget  fvunr3d  t1_fvunj51\n",
      "999997  DingDongsEverywhere  fvuquy3  t1_fvunj51\n",
      "999998            [deleted]  fvw6jjb  t1_fvunjvt\n",
      "999999              mweathr  fvunq12  t1_fvunk66\n",
      "\n",
      "[955627 rows x 3 columns]\n"
     ]
    },
    {
     "name": "stderr",
     "output_type": "stream",
     "text": [
      "123it [20:23,  9.98s/it]"
     ]
    },
    {
     "name": "stdout",
     "output_type": "stream",
     "text": [
      "                      author       id   parent_id\n",
      "0                    rtheiii  fvuqzd4  t1_fvunl33\n",
      "1             NavierStoked95  fvusi5g  t1_fvunl33\n",
      "2             African_Farmer  fvuscmq  t1_fvunl7b\n",
      "3        _PM_ME_YOUR_NIPPLES  fvunpou  t1_fvunll2\n",
      "4                    mweathr  fvunn6v  t1_fvunmdm\n",
      "...                      ...      ...         ...\n",
      "999995         hindriktope52  fx8z24s   t3_hmx7bb\n",
      "999996         rollrocker551  fx9230r   t3_hmx7bb\n",
      "999997             Graaaaavy  fx92tys   t3_hmx7bb\n",
      "999998  Imadethistosaythis19  fx93akt   t3_hmx7bb\n",
      "999999             [deleted]  fx95wkd   t3_hmx7bb\n",
      "\n",
      "[954014 rows x 3 columns]\n"
     ]
    },
    {
     "name": "stderr",
     "output_type": "stream",
     "text": [
      "124it [20:33, 10.02s/it]"
     ]
    },
    {
     "name": "stdout",
     "output_type": "stream",
     "text": [
      "               author       id   parent_id\n",
      "0             bikki17  fx98tug   t3_hmx7bb\n",
      "1       songaboutadog  fx9at29   t3_hmx7bb\n",
      "2             anoiing  fx9bbns   t3_hmx7bb\n",
      "3           jbriggsnh  fx9ca1y   t3_hmx7bb\n",
      "4           imconnorw  fx9cmc3   t3_hmx7bb\n",
      "...               ...      ...         ...\n",
      "999995    MonteSS_454  fyozmol   t3_hupajv\n",
      "999996      [deleted]  c1yinch  t1_c1yimhr\n",
      "999997      [deleted]  c1yio05  t1_c1yinch\n",
      "999998      [deleted]  c1yimhr    t3_hupau\n",
      "999999         bkapps  c1yio60    t3_hupau\n",
      "\n",
      "[954565 rows x 3 columns]\n"
     ]
    },
    {
     "name": "stderr",
     "output_type": "stream",
     "text": [
      "125it [20:44, 10.32s/it]"
     ]
    },
    {
     "name": "stdout",
     "output_type": "stream",
     "text": [
      "                   author       id   parent_id\n",
      "0             chrismarois  c1yirxs    t3_hupau\n",
      "2               [deleted]  fyog8c4   t3_hupc11\n",
      "3          LizzymemoOchoa  fyoqhbk  t1_fyoeir1\n",
      "4           PoetBakerSlut  fyptjj5  t1_fyoeir1\n",
      "5               [deleted]  fyofp52  t1_fyofggv\n",
      "...                   ...      ...         ...\n",
      "999995        miskoschiff  g00krzm  t1_g00gh9b\n",
      "999996  RaiderRaiderBravo  g00o62z  t1_g00gqu2\n",
      "999997          Robertroo  g00h209  t1_g00gvpk\n",
      "999998    chickunsendwich  g00nezq  t1_g00h25l\n",
      "999999       featherfeets  g00j6l3  t1_g00h38p\n",
      "\n",
      "[955506 rows x 3 columns]\n"
     ]
    },
    {
     "name": "stderr",
     "output_type": "stream",
     "text": [
      "126it [20:54, 10.25s/it]"
     ]
    },
    {
     "name": "stdout",
     "output_type": "stream",
     "text": [
      "                    author       id   parent_id\n",
      "0                [deleted]  g00nb0o  t1_g00h38p\n",
      "1           TriumphantToad  g00r19d  t1_g00h38p\n",
      "2       onehandsomegamer21  g00lq1n  t1_g00h6w1\n",
      "3               Lief1s600d  g00ht46  t1_g00hbop\n",
      "4              miskoschiff  g00k89g  t1_g00ht46\n",
      "...                    ...      ...         ...\n",
      "999995           Rrrrandle  g1elew2   t3_i9dub6\n",
      "999996           Vinny0029  g1eno7z   t3_i9dub6\n",
      "999997           [deleted]  g1enpqr   t3_i9dub6\n",
      "999998      bantargetedads  g1eo6a5   t3_i9dub6\n",
      "999999       pinkeye_bingo  g1eogsq   t3_i9dub6\n",
      "\n",
      "[958987 rows x 3 columns]\n"
     ]
    },
    {
     "name": "stderr",
     "output_type": "stream",
     "text": [
      "127it [21:04, 10.18s/it]"
     ]
    },
    {
     "name": "stdout",
     "output_type": "stream",
     "text": [
      "                 author       id  parent_id\n",
      "0            OviliskTwo  g1eohd4  t3_i9dub6\n",
      "1           omnichronos  g1eouxs  t3_i9dub6\n",
      "2                 ZZZrp  g1ep5ih  t3_i9dub6\n",
      "3          donguyencong  g1epsxp  t3_i9dub6\n",
      "4              dmkplcow  g1eq5jw  t3_i9dub6\n",
      "...                 ...      ...        ...\n",
      "999995        mattdre88  g2x5afp  t3_igws3d\n",
      "999996        [deleted]  g2x5f2i  t3_igws3d\n",
      "999997        skooobz43  g2x5jdb  t3_igws3d\n",
      "999998  realworldeditor  g2x5lpk  t3_igws3d\n",
      "999999       ADerp2Hard  g2x5n5r  t3_igws3d\n",
      "\n",
      "[960311 rows x 3 columns]\n"
     ]
    },
    {
     "name": "stderr",
     "output_type": "stream",
     "text": [
      "128it [21:14, 10.13s/it]"
     ]
    },
    {
     "name": "stdout",
     "output_type": "stream",
     "text": [
      "                      author       id   parent_id\n",
      "0       saveamericadumptrump  g2x5rbk   t3_igws3d\n",
      "1        BangkokQrientalCity  g2x5yzt   t3_igws3d\n",
      "2               Lallipoplady  g2x63n8   t3_igws3d\n",
      "3              SkydivingCats  g2x6c2p   t3_igws3d\n",
      "4              drawingxflies  g2x6e7p   t3_igws3d\n",
      "...                      ...      ...         ...\n",
      "999995             Diogenean  c25r6fl  t1_c25ky8y\n",
      "999996             [deleted]  c25kzo9  t1_c25kyk2\n",
      "999997            danarchist  c25lha4  t1_c25kyl6\n",
      "999998            Theotropho  c25l5as  t1_c25kylt\n",
      "999999            AnnArchist  c25l36h  t1_c25kyrm\n",
      "\n",
      "[958998 rows x 3 columns]\n"
     ]
    },
    {
     "name": "stderr",
     "output_type": "stream",
     "text": [
      "129it [21:26, 10.51s/it]"
     ]
    },
    {
     "name": "stdout",
     "output_type": "stream",
     "text": [
      "                 author       id   parent_id\n",
      "0       earninandburnin  c25lapr  t1_c25kysd\n",
      "1       HandcuffCharlie  c25lwya  t1_c25kz0u\n",
      "2               auribus  c25lrlr  t1_c25kz5d\n",
      "3         Schrute_Logic  c25lruo  t1_c25kz5d\n",
      "4          darksmiles22  c25ltiw  t1_c25kz5d\n",
      "...                 ...      ...         ...\n",
      "999995       Daemonicus  c27iuwr    t3_ixlqm\n",
      "999996     silverladder  c27iwk4    t3_ixlqm\n",
      "999997      hyperferret  c27j1v0    t3_ixlqm\n",
      "999998     zombehbrainz  c27j3y9    t3_ixlqm\n",
      "999999             8chi  c27j543    t3_ixlqm\n",
      "\n",
      "[957883 rows x 3 columns]\n"
     ]
    },
    {
     "name": "stderr",
     "output_type": "stream",
     "text": [
      "130it [21:35, 10.27s/it]"
     ]
    },
    {
     "name": "stdout",
     "output_type": "stream",
     "text": [
      "                   author       id   parent_id\n",
      "0               ipauljr44  c27j5dc    t3_ixlqm\n",
      "1              Jedi-Mocro  c27j7dy    t3_ixlqm\n",
      "2                  ggbesq  c27jamr    t3_ixlqm\n",
      "3           getoffthebike  c27jb3k    t3_ixlqm\n",
      "4               novenator  c27jbsw    t3_ixlqm\n",
      "...                   ...      ...         ...\n",
      "999995  ewreytukikhuyt344  g7b6kte  t1_g7a19fn\n",
      "999996          [deleted]  g7aa442  t1_g7a1c1v\n",
      "999997            LMGDiVa  g7ad6wo  t1_g7a1c1v\n",
      "999998       gradinafrica  g7amad6  t1_g7a1c1v\n",
      "999999         Mennerheim  g7apfdt  t1_g7a1c1v\n",
      "\n",
      "[962885 rows x 3 columns]\n"
     ]
    },
    {
     "name": "stderr",
     "output_type": "stream",
     "text": [
      "131it [21:45,  9.99s/it]"
     ]
    },
    {
     "name": "stdout",
     "output_type": "stream",
     "text": [
      "                   author       id   parent_id\n",
      "0            mouthsmasher  g7atd27  t1_g7a1c1v\n",
      "1               [deleted]  g7bechw  t1_g7a1c1v\n",
      "2                 u9Nails  g7bxwz3  t1_g7a1c1v\n",
      "3               [deleted]  g7a1sbb  t1_g7a1ekp\n",
      "4               [deleted]  g7a1tdo  t1_g7a1ekp\n",
      "...                   ...      ...         ...\n",
      "999995            R00t240  g81paeq   t3_j6w0w5\n",
      "999996            EjHorou  g81pb2r   t3_j6w0w5\n",
      "999997          BuckRowdy  g81pb2t   t3_j6w0w5\n",
      "999998          [deleted]  g81pcso   t3_j6w0w5\n",
      "999999  cowleafmoosetrees  g81pea3   t3_j6w0w5\n",
      "\n",
      "[961088 rows x 3 columns]\n"
     ]
    },
    {
     "name": "stderr",
     "output_type": "stream",
     "text": [
      "132it [21:55, 10.09s/it]"
     ]
    },
    {
     "name": "stdout",
     "output_type": "stream",
     "text": [
      "               author       id  parent_id\n",
      "0           lockon345  g81pedy  t3_j6w0w5\n",
      "1           [deleted]  g81pffp  t3_j6w0w5\n",
      "2           calan1958  g81pi8c  t3_j6w0w5\n",
      "3           marchillo  g81pja4  t3_j6w0w5\n",
      "4       SteakandTrach  g81pjkw  t3_j6w0w5\n",
      "...               ...      ...        ...\n",
      "999995      dsylcetic  c2ayhe2   t3_jbx00\n",
      "999996    goldandguns  c2ayhzn   t3_jbx00\n",
      "999997          rhott  c2ayi4r   t3_jbx00\n",
      "999998       despaxes  c2ayipn   t3_jbx00\n",
      "999999         Sacoud  c2ayjp6   t3_jbx00\n",
      "\n",
      "[960375 rows x 3 columns]\n"
     ]
    },
    {
     "name": "stderr",
     "output_type": "stream",
     "text": [
      "133it [22:06, 10.39s/it]"
     ]
    },
    {
     "name": "stdout",
     "output_type": "stream",
     "text": [
      "               author       id   parent_id\n",
      "0              Fordx4  c2aymac    t3_jbx00\n",
      "1            mike1210  c2ayn2d    t3_jbx00\n",
      "2           [deleted]  c2ayoa7    t3_jbx00\n",
      "3       cleverascanbe  c2ayq79    t3_jbx00\n",
      "4              sun827  c2ayqdy    t3_jbx00\n",
      "...               ...      ...         ...\n",
      "999995   SmashBusters  g9trzus  t1_g9trpgi\n",
      "999996  happyhumorist  g9u14cs  t1_g9trpyn\n",
      "999997      toxichart  g9ty1he  t1_g9trsej\n",
      "999998       trinquin  g9tsdrw  t1_g9trsjb\n",
      "999999        jec0995  g9ts6iv  t1_g9trtn4\n",
      "\n",
      "[962436 rows x 3 columns]\n"
     ]
    },
    {
     "name": "stderr",
     "output_type": "stream",
     "text": [
      "134it [22:16, 10.18s/it]"
     ]
    },
    {
     "name": "stdout",
     "output_type": "stream",
     "text": [
      "                      author       id   parent_id\n",
      "0               SmashBusters  g9ts5cn  t1_g9truby\n",
      "1                 CrizzyBill  g9tsr1k  t1_g9trvl2\n",
      "2             donkeykong2369  g9trzja  t1_g9trvm8\n",
      "3              hoppintruck23  g9tvo8n  t1_g9trynq\n",
      "5                 rpgfool777  g9ts2k0  t1_g9trzja\n",
      "...                      ...      ...         ...\n",
      "999995         PainOfClarity  gasx7yz  t1_gasprw7\n",
      "999996  Diddly_eyed_Dipshite  gat74va  t1_gasprw7\n",
      "999997                 SETHW  gatu8mm  t1_gaspw5q\n",
      "999998              Leylinus  gast1eb  t1_gasqk8c\n",
      "999999          11thUserName  gaswqy6  t1_gasrkwp\n",
      "\n",
      "[961217 rows x 3 columns]\n"
     ]
    },
    {
     "name": "stderr",
     "output_type": "stream",
     "text": [
      "135it [22:26, 10.12s/it]"
     ]
    },
    {
     "name": "stdout",
     "output_type": "stream",
     "text": [
      "                  author       id   parent_id\n",
      "0                bwtwldt  gati4tw  t1_gasrkwp\n",
      "1               Leylinus  gassnpn  t1_gasru82\n",
      "2            emiliapazza  gat00q1  t1_gasrxzs\n",
      "3            themanoftin  gatj5h1  t1_gasrxzs\n",
      "4         brickhouse5757  gatzbjq  t1_gasrxzs\n",
      "...                  ...      ...         ...\n",
      "999995       Szimplacurt  gb4glw1   t3_jnxdj2\n",
      "999996  TeamNameRejected  gb4glw5   t3_jnxdj2\n",
      "999997         [deleted]  gb4glz2   t3_jnxdj2\n",
      "999998        Utegenthal  gb4gm0g   t3_jnxdj2\n",
      "999999    richard_golbes  gb4gm49   t3_jnxdj2\n",
      "\n",
      "[970921 rows x 3 columns]\n"
     ]
    },
    {
     "name": "stderr",
     "output_type": "stream",
     "text": [
      "136it [22:36, 10.10s/it]"
     ]
    },
    {
     "name": "stdout",
     "output_type": "stream",
     "text": [
      "                   author       id   parent_id\n",
      "0          tifanietiberio  gb4gmtd   t3_jnxdj2\n",
      "1               [deleted]  gb4gn11   t3_jnxdj2\n",
      "2                con10001  gb4gn3e   t3_jnxdj2\n",
      "3               [deleted]  gb4gne4   t3_jnxdj2\n",
      "4          StarsCanScream  gb4gng4   t3_jnxdj2\n",
      "...                   ...      ...         ...\n",
      "999994  lightbulb_orchard  gbad44x  t1_gbad1td\n",
      "999995        Kmart_Elvis  gbadd04  t1_gbad29n\n",
      "999997   NotAllPositive13  gbaf17e  t1_gbad4da\n",
      "999998           Rupperrt  gbadnly  t1_gbad55n\n",
      "999999          [deleted]  gbae3lm  t1_gbad56a\n",
      "\n",
      "[974984 rows x 3 columns]\n"
     ]
    },
    {
     "name": "stderr",
     "output_type": "stream",
     "text": [
      "137it [22:47, 10.39s/it]"
     ]
    },
    {
     "name": "stdout",
     "output_type": "stream",
     "text": [
      "                   author       id   parent_id\n",
      "0              ReadItWolf  gbaf8u1  t1_gbad56a\n",
      "1                 Vanthan  gbadcmx  t1_gbad5ln\n",
      "2                Merrimon  gbadmna  t1_gbad6zj\n",
      "3               BasroilII  gbaddep  t1_gbad780\n",
      "4            pandemicpunk  gbadfwc  t1_gbad7ds\n",
      "...                   ...      ...         ...\n",
      "999995  ticklishpandabear  gbg8003   t3_jpnm9j\n",
      "999996            kogeliz  gbg8016   t3_jpnm9j\n",
      "999997           kahsiv_r  gbg8044   t3_jpnm9j\n",
      "999998           Nexus369  gbg805k   t3_jpnm9j\n",
      "999999    geologicalnoise  gbg807g   t3_jpnm9j\n",
      "\n",
      "[974475 rows x 3 columns]\n"
     ]
    },
    {
     "name": "stderr",
     "output_type": "stream",
     "text": [
      "138it [22:56, 10.17s/it]"
     ]
    },
    {
     "name": "stdout",
     "output_type": "stream",
     "text": [
      "                      author       id   parent_id\n",
      "0                 PeachesACC  gbg807x   t3_jpnm9j\n",
      "1             okay_wait_what  gbg8081   t3_jpnm9j\n",
      "2       MySmutWritingAccount  gbg80bt   t3_jpnm9j\n",
      "3                    BossPat  gbg80bu   t3_jpnm9j\n",
      "4                TheRearMech  gbg80id   t3_jpnm9j\n",
      "...                      ...      ...         ...\n",
      "999995               Alatain  gc1m6c8  t1_gc1iok8\n",
      "999996          NinjaChemist  gc1yw0d  t1_gc1iok8\n",
      "999997           ciel_lanila  gc1js2m  t1_gc1j07o\n",
      "999998         Putmein-coach  gc1jv74  t1_gc1j07o\n",
      "999999    Left_Star_of_Chaos  gc21nim  t1_gc1j07o\n",
      "\n",
      "[963120 rows x 3 columns]\n"
     ]
    },
    {
     "name": "stderr",
     "output_type": "stream",
     "text": [
      "139it [23:06,  9.93s/it]"
     ]
    },
    {
     "name": "stdout",
     "output_type": "stream",
     "text": [
      "                    author       id   parent_id\n",
      "0        Political_What_Do  gc25arh  t1_gc1j07o\n",
      "1               8BitAtomic  gc272d7  t1_gc1j07o\n",
      "2                  Alantsu  gc2dow8  t1_gc1j07o\n",
      "3                [deleted]  gc2jd17  t1_gc1j07o\n",
      "4                 unknamed  gc2kq1c  t1_gc1j07o\n",
      "...                    ...      ...         ...\n",
      "999995     chunkupthadeuce  gd5pge0  t1_gd5oh8z\n",
      "999996            kodex184  gd5scul  t1_gd5oh8z\n",
      "999997  these_three_things  gd6if3v  t1_gd5ohgr\n",
      "999998   non-troll_account  gd74r9r  t1_gd5ohq6\n",
      "999999        Hotsoccerman  gd5ow0g  t1_gd5oica\n",
      "\n",
      "[957384 rows x 3 columns]\n"
     ]
    },
    {
     "name": "stderr",
     "output_type": "stream",
     "text": [
      "140it [23:16,  9.97s/it]"
     ]
    },
    {
     "name": "stdout",
     "output_type": "stream",
     "text": [
      "                 author       id   parent_id\n",
      "0          ElektroShokk  gd6tvsz  t1_gd5oj0h\n",
      "1          Hotsoccerman  gd5os89  t1_gd5ojbs\n",
      "2              imlost19  gd5outy  t1_gd5ol45\n",
      "3           tittyattack  gd62jxv  t1_gd5ol45\n",
      "4            dewyocelot  gd5qjty  t1_gd5olyz\n",
      "...                 ...      ...         ...\n",
      "999994  youcantsitheere  genhcxk   t3_k6pvdu\n",
      "999995      Miguel-odon  geniwau   t3_k6pvdu\n",
      "999997      Hot-Pretzel  gennf2f   t3_k6pvdu\n",
      "999998      catdaddy230  genns3u   t3_k6pvdu\n",
      "999999     olduglywoman  genojtr   t3_k6pvdu\n",
      "\n",
      "[956785 rows x 3 columns]\n"
     ]
    },
    {
     "name": "stderr",
     "output_type": "stream",
     "text": [
      "141it [23:28, 10.48s/it]"
     ]
    },
    {
     "name": "stdout",
     "output_type": "stream",
     "text": [
      "                  author       id   parent_id\n",
      "0                  lnin0  genqajq   t3_k6pvdu\n",
      "1               fappyday  genr53a   t3_k6pvdu\n",
      "2           AWhalesDiego  genr6ce   t3_k6pvdu\n",
      "3                 Boydey  genv946   t3_k6pvdu\n",
      "4       TheSoGloriousRBG  genvs91   t3_k6pvdu\n",
      "...                  ...      ...         ...\n",
      "999995        curlyfreak  gg39k4a  t1_gg38skj\n",
      "999996   edmdressagefest  gg39u23  t1_gg38skj\n",
      "999997           ontrack  gg3cybr  t1_gg38skj\n",
      "999998        severinh20  gg3ec4t  t1_gg38skj\n",
      "999999        clambrulee  gg3edz0  t1_gg38skj\n",
      "\n",
      "[957520 rows x 3 columns]\n"
     ]
    },
    {
     "name": "stderr",
     "output_type": "stream",
     "text": [
      "142it [23:37, 10.22s/it]"
     ]
    },
    {
     "name": "stdout",
     "output_type": "stream",
     "text": [
      "                author       id   parent_id\n",
      "0         UsefulSchism  gg3fjql  t1_gg38skj\n",
      "1       charleybrown72  gg3gjf2  t1_gg38skj\n",
      "2       Trainrideviews  gg3gowe  t1_gg38skj\n",
      "3            kanakot33  gg3grkx  t1_gg38skj\n",
      "4                tony8  gg3h7re  t1_gg38skj\n",
      "...                ...      ...         ...\n",
      "999995      Greyletter  c2lz4xg  t1_c2lwsmp\n",
      "999996       [deleted]  c2lwugt  t1_c2lwt3u\n",
      "999997            Lyme  c2lx15c  t1_c2lwt3u\n",
      "999998       [deleted]  c2lx3pb  t1_c2lwugt\n",
      "999999       [deleted]  c2ly6aw  t1_c2lwwbq\n",
      "\n",
      "[960711 rows x 3 columns]\n"
     ]
    },
    {
     "name": "stderr",
     "output_type": "stream",
     "text": [
      "143it [23:47, 10.00s/it]"
     ]
    },
    {
     "name": "stdout",
     "output_type": "stream",
     "text": [
      "              author       id   parent_id\n",
      "0               Uile  c2lwztu  t1_c2lwwoc\n",
      "1       spirit_spine  c2lxvoc  t1_c2lwyux\n",
      "2            sknolii  c2ly2mt  t1_c2lwyux\n",
      "3          [deleted]  c2m1iu6  t1_c2lwyux\n",
      "4            wayndom  c2lx465  t1_c2lwzn1\n",
      "...              ...      ...         ...\n",
      "999995    Bear4years  gie3k44  t1_gie3hpl\n",
      "999996  RowAwayJim91  gie3nuq  t1_gie3hru\n",
      "999997     zorinlynx  gie3yds  t1_gie3hy2\n",
      "999998    xfortrenox  gie41ct  t1_gie3hy2\n",
      "999999  Capnmarvel76  gie4d3k  t1_gie3hy2\n",
      "\n",
      "[965998 rows x 3 columns]\n"
     ]
    },
    {
     "name": "stderr",
     "output_type": "stream",
     "text": [
      "144it [23:57, 10.15s/it]"
     ]
    },
    {
     "name": "stdout",
     "output_type": "stream",
     "text": [
      "                     author       id   parent_id\n",
      "0                   Danysco  gie3vr8  t1_gie3hza\n",
      "1                Paradigm88  gie450r  t1_gie3hza\n",
      "2              Signifi-gunt  gie4edd  t1_gie3hza\n",
      "3                xfortrenox  gie4g8k  t1_gie3hza\n",
      "4              _DarkTreader  gie3s6r  t1_gie3i2o\n",
      "...                     ...      ...         ...\n",
      "999995  gimme20regular_cash  giwejm7  t1_giwe9sr\n",
      "999996        huxtiblejones  giwgfyf  t1_giwerhf\n",
      "999997            sassy4096  giwfymg  t1_giwf80l\n",
      "999998       HammockComplex  giwjpp3  t1_giwf80l\n",
      "999999           rickroll62  giwjlw5  t1_giwfymg\n",
      "\n",
      "[958658 rows x 3 columns]\n"
     ]
    },
    {
     "name": "stderr",
     "output_type": "stream",
     "text": [
      "145it [24:08, 10.40s/it]"
     ]
    },
    {
     "name": "stdout",
     "output_type": "stream",
     "text": [
      "                     author       id   parent_id\n",
      "0       purpleheadedwarrior  giwia75  t1_giwgfyf\n",
      "2                 [deleted]  giwdeao   t3_kv6d2v\n",
      "3          OnlyLoveCanBreak  giwdicw   t3_kv6d2v\n",
      "4             StayAlive2021  giwdioq   t3_kv6d2v\n",
      "5                 [deleted]  giwdnl6   t3_kv6d2v\n",
      "...                     ...      ...         ...\n",
      "999992            jisatsu80  gjncpe8  t1_gjn683g\n",
      "999993            jisatsu80  gjnc4s5  t1_gjn6fl0\n",
      "999994     sweet-banana-tea  gjnrge0  t1_gjn8uim\n",
      "999998            stayshhhh  gjnzwuj  t1_gjny3ns\n",
      "999999             gthaatar  gjohvia  t1_gjnysll\n",
      "\n",
      "[957775 rows x 3 columns]\n"
     ]
    },
    {
     "name": "stderr",
     "output_type": "stream",
     "text": [
      "146it [24:18, 10.20s/it]"
     ]
    },
    {
     "name": "stdout",
     "output_type": "stream",
     "text": [
      "                 author       id   parent_id\n",
      "1             stayshhhh  gjo35wj  t1_gjo0zay\n",
      "3             stayshhhh  gjo83kf  t1_gjo3rz1\n",
      "5             stayshhhh  gjoeneh  t1_gjo94gh\n",
      "7             [deleted]  gjomyxd  t1_gjof3uf\n",
      "9              gthaatar  gjojsqa  t1_gjoiwzr\n",
      "...                 ...      ...         ...\n",
      "999995        Krios1234  gkqna1y   t3_l4q71x\n",
      "999996     ShadowYankee  gkqnbcw   t3_l4q71x\n",
      "999997      Count_Bacon  gkqnbhq   t3_l4q71x\n",
      "999998      jailguard81  gkqnbr7   t3_l4q71x\n",
      "999999  DwayneAllen2020  gkqnced   t3_l4q71x\n",
      "\n",
      "[959335 rows x 3 columns]\n"
     ]
    },
    {
     "name": "stderr",
     "output_type": "stream",
     "text": [
      "147it [24:28, 10.09s/it]"
     ]
    },
    {
     "name": "stdout",
     "output_type": "stream",
     "text": [
      "                      author       id   parent_id\n",
      "0            LuckyCharms2000  gkqne6f   t3_l4q71x\n",
      "1                   Captgame  gkqnf7d   t3_l4q71x\n",
      "2       Inevitable-Pianist29  gkqnjh3   t3_l4q71x\n",
      "3                  3DZprints  gkqnk54   t3_l4q71x\n",
      "4               Jubejube5555  gkqnleu   t3_l4q71x\n",
      "...                      ...      ...         ...\n",
      "999995        redvillafranco  gma64d7  t1_gm91ogq\n",
      "999996         ComradeGibbon  gma6gm6  t1_gm91ogq\n",
      "999997         asskkculinary  gma7t7z  t1_gm91ogq\n",
      "999998            DocMoochal  gma8qqf  t1_gm91ogq\n",
      "999999             [deleted]  gma8sdo  t1_gm91ogq\n",
      "\n",
      "[958695 rows x 3 columns]\n"
     ]
    },
    {
     "name": "stderr",
     "output_type": "stream",
     "text": [
      "148it [24:38, 10.11s/it]"
     ]
    },
    {
     "name": "stdout",
     "output_type": "stream",
     "text": [
      "                    author       id   parent_id\n",
      "0        RottenWildflowers  gmaap2i  t1_gm91ogq\n",
      "1                 PFriends  gmaja2q  t1_gm91ogq\n",
      "2           Shiny_Shedinja  gmakzaa  t1_gm91ogq\n",
      "3                [deleted]  gmamd88  t1_gm91ogq\n",
      "4                [deleted]  gmaonqn  t1_gm91ogq\n",
      "...                    ...      ...         ...\n",
      "999995                FC37  gntvnu2  t1_gntv204\n",
      "999996                FC37  gntyl1q  t1_gntviaa\n",
      "999997  Lostinthestarscape  gntxo96  t1_gntvnu2\n",
      "999998            DaddyD68  gnwzxyz  t1_gntwrti\n",
      "999999     stolid_agnostic  gnx27sc  t1_gnwzxyz\n",
      "\n",
      "[963904 rows x 3 columns]\n"
     ]
    },
    {
     "name": "stderr",
     "output_type": "stream",
     "text": [
      "149it [24:49, 10.42s/it]"
     ]
    },
    {
     "name": "stdout",
     "output_type": "stream",
     "text": [
      "                  author       id   parent_id\n",
      "0               DaddyD68  gnx2kfl  t1_gnx27sc\n",
      "1               DaddyD68  gnx2o8t  t1_gnx2kfl\n",
      "3              [deleted]  gntjylu   t3_lm7366\n",
      "4       shoppingfortruth  gntk6nx   t3_lm7366\n",
      "5              Brad_tilf  gntlgj2   t3_lm7366\n",
      "...                  ...      ...         ...\n",
      "999995          ak47girl  c2wqoub  t1_c2wqjqg\n",
      "999996          ak47girl  c2wqri4  t1_c2wqjqg\n",
      "999997             iEons  c2wqrpp  t1_c2wqmxw\n",
      "999998         [deleted]  c2wqum5  t1_c2wqoub\n",
      "999999             iEons  c2wqu8j  t1_c2wqri4\n",
      "\n",
      "[960842 rows x 3 columns]\n"
     ]
    },
    {
     "name": "stderr",
     "output_type": "stream",
     "text": [
      "150it [24:59, 10.32s/it]"
     ]
    },
    {
     "name": "stdout",
     "output_type": "stream",
     "text": [
      "              author       id   parent_id\n",
      "0              iEons  c2wqt4l  t1_c2wqrpp\n",
      "1           ak47girl  c2wt3z9  t1_c2wqu8j\n",
      "2           ak47girl  c2wt275  t1_c2wqum5\n",
      "3             tocano  c2wsn1r  t1_c2wrf5g\n",
      "4          Fragolupe  c2wslqq  t1_c2wrwj2\n",
      "...              ...      ...         ...\n",
      "999995       kafeeds  gry8dt2   t3_mbbt6x\n",
      "999996     [deleted]  gry8f4p   t3_mbbt6x\n",
      "999997    calista241  gry92gm   t3_mbbt6x\n",
      "999998  Da_Iron_Lung  gry989w   t3_mbbt6x\n",
      "999999    hanxin1985  gry9c5w   t3_mbbt6x\n",
      "\n",
      "[960608 rows x 3 columns]\n"
     ]
    },
    {
     "name": "stderr",
     "output_type": "stream",
     "text": [
      "151it [25:09, 10.06s/it]"
     ]
    },
    {
     "name": "stdout",
     "output_type": "stream",
     "text": [
      "                 author       id  parent_id\n",
      "0         yougetshafted  gry9fme  t3_mbbt6x\n",
      "1             [deleted]  gry9jlw  t3_mbbt6x\n",
      "2             zveroshka  gry9kd2  t3_mbbt6x\n",
      "3            Cerbweasel  gry9rec  t3_mbbt6x\n",
      "4       grunderingagain  gryabgx  t3_mbbt6x\n",
      "...                 ...      ...        ...\n",
      "999995        tr4444444  c32m6b2   t3_mobu4\n",
      "999996        leutroyal  c32m89e   t3_mobu4\n",
      "999997      catzilla_ny  c32m8c1   t3_mobu4\n",
      "999998       Meatwadlle  c32m8sn   t3_mobu4\n",
      "999999           ccchan  c32m93f   t3_mobu4\n",
      "\n",
      "[961725 rows x 3 columns]\n"
     ]
    },
    {
     "name": "stderr",
     "output_type": "stream",
     "text": [
      "152it [25:19, 10.16s/it]"
     ]
    },
    {
     "name": "stdout",
     "output_type": "stream",
     "text": [
      "                    author       id   parent_id\n",
      "0         Steelhorsecowboy  c32maeu    t3_mobu4\n",
      "1                [deleted]  c32mbtl    t3_mobu4\n",
      "2         douglasmacarthur  c32mc02    t3_mobu4\n",
      "3            LadySkywalker  c32mc97    t3_mobu4\n",
      "4                [deleted]  c32mcop    t3_mobu4\n",
      "...                    ...      ...         ...\n",
      "999995  what-the-what-what  c35hp0f  t1_c35hdeu\n",
      "999996            blancs50  c35hwm7  t1_c35hdeu\n",
      "999997         Liberty2012  c35i5et  t1_c35hdeu\n",
      "999998       beaverteeth92  c35i8zm  t1_c35hdeu\n",
      "999999      ItsAConspiracy  c35jcr2  t1_c35hdeu\n",
      "\n",
      "[962035 rows x 3 columns]\n"
     ]
    },
    {
     "name": "stderr",
     "output_type": "stream",
     "text": [
      "153it [25:31, 10.65s/it]"
     ]
    },
    {
     "name": "stdout",
     "output_type": "stream",
     "text": [
      "                     author       id   parent_id\n",
      "0                 ap66crush  c35lq40  t1_c35hdeu\n",
      "1            NCPhatesTucson  c35nacw  t1_c35hdeu\n",
      "2         bmoviescreamqueen  c35sgpp  t1_c35hdeu\n",
      "3                poli_ticks  c35iafv  t1_c35hdi9\n",
      "4              GreivisIsGod  c35hgmg  t1_c35hdn2\n",
      "...                     ...      ...         ...\n",
      "999995            [deleted]  gys580w   t3_ngp87h\n",
      "999996        burritosavior  gys5g6m   t3_ngp87h\n",
      "999997  IllustratorGlad6184  gys5geo   t3_ngp87h\n",
      "999998          drvondoctor  gys5i0q   t3_ngp87h\n",
      "999999       BestLaidPlants  gys5yvo   t3_ngp87h\n",
      "\n",
      "[961889 rows x 3 columns]\n"
     ]
    },
    {
     "name": "stderr",
     "output_type": "stream",
     "text": [
      "154it [25:40, 10.36s/it]"
     ]
    },
    {
     "name": "stdout",
     "output_type": "stream",
     "text": [
      "                  author       id  parent_id\n",
      "0              [deleted]  gys61wa  t3_ngp87h\n",
      "1               poopnada  gys6ebg  t3_ngp87h\n",
      "2                Oleg101  gys6edy  t3_ngp87h\n",
      "3       ShakeMyHeadSadly  gys7g0y  t3_ngp87h\n",
      "4              [deleted]  gys7wyh  t3_ngp87h\n",
      "...                  ...      ...        ...\n",
      "999995         [deleted]  h1bid9o  t3_nwn89j\n",
      "999996   SherbertSnarfle  h1bj8py  t3_nwn89j\n",
      "999997        NoVendetta  h1bkw5v  t3_nwn89j\n",
      "999998         [deleted]  h1blmxm  t3_nwn89j\n",
      "999999         [deleted]  h1bmhle  t3_nwn89j\n",
      "\n",
      "[963914 rows x 3 columns]\n"
     ]
    },
    {
     "name": "stderr",
     "output_type": "stream",
     "text": [
      "155it [25:50, 10.08s/it]"
     ]
    },
    {
     "name": "stdout",
     "output_type": "stream",
     "text": [
      "              author       id  parent_id\n",
      "0          [deleted]  h1bn1i9  t3_nwn89j\n",
      "1       gratefuladam  h1bnl8p  t3_nwn89j\n",
      "2          Kram22598  h1bnr6u  t3_nwn89j\n",
      "3          [deleted]  h1bquwd  t3_nwn89j\n",
      "4          rthomas10  h1bre08  t3_nwn89j\n",
      "...              ...      ...        ...\n",
      "999995     [deleted]  c3j0jfk   t3_op9z0\n",
      "999996     [deleted]  c3j0jjb   t3_op9z0\n",
      "999997     [deleted]  c3j0kb7   t3_op9z0\n",
      "999998  Earthwormzim  c3j0liv   t3_op9z0\n",
      "999999  digitalnoise  c3j0lp0   t3_op9z0\n",
      "\n",
      "[965348 rows x 3 columns]\n"
     ]
    },
    {
     "name": "stderr",
     "output_type": "stream",
     "text": [
      "156it [26:00, 10.14s/it]"
     ]
    },
    {
     "name": "stdout",
     "output_type": "stream",
     "text": [
      "                   author       id   parent_id\n",
      "0                  Zwatha  c3j0lx9    t3_op9z0\n",
      "1             og_sandiego  c3j0m49    t3_op9z0\n",
      "2             Tememachine  c3j0mhf    t3_op9z0\n",
      "3               [deleted]  c3j0mjr    t3_op9z0\n",
      "4               [deleted]  c3j0myh    t3_op9z0\n",
      "...                   ...      ...         ...\n",
      "999995  bmoviescreamqueen  c46x53u  t1_c46ulsf\n",
      "999996          [deleted]  c46ur1n  t1_c46uoni\n",
      "999997          ZenZenoah  c470215  t1_c46uoth\n",
      "999998     mens_libertina  c46v06c  t1_c46uqtb\n",
      "999999        little-bird  c46v9ek  t1_c46uqvl\n",
      "\n",
      "[987154 rows x 3 columns]\n"
     ]
    },
    {
     "name": "stderr",
     "output_type": "stream",
     "text": [
      "157it [26:11, 10.38s/it]"
     ]
    },
    {
     "name": "stdout",
     "output_type": "stream",
     "text": [
      "                author       id   parent_id\n",
      "0           redditopus  c474a9d  t1_c46uqvl\n",
      "1          expat_sally  c46y28z  t1_c46urbk\n",
      "2             khantron  c46v7ac  t1_c46url3\n",
      "3          Grumpy_Kong  c46viqu  t1_c46usg5\n",
      "4              rakista  c46ymlx  t1_c46uv2o\n",
      "...                ...      ...         ...\n",
      "999995      twenafeesh  c516v7d  t1_c512tnh\n",
      "999996     jackedbeats  c517b7k  t1_c512tnh\n",
      "999997  SoleilSocrates  c517omz  t1_c512tnh\n",
      "999998          ghsteo  c517uf2  t1_c512tnh\n",
      "999999       [deleted]  c5184bx  t1_c512tnh\n",
      "\n",
      "[987561 rows x 3 columns]\n"
     ]
    },
    {
     "name": "stderr",
     "output_type": "stream",
     "text": [
      "158it [26:20, 10.08s/it]"
     ]
    },
    {
     "name": "stdout",
     "output_type": "stream",
     "text": [
      "                      author       id   parent_id\n",
      "0                  [deleted]  c518l74  t1_c512tnh\n",
      "1             charles_drawin  c518qnw  t1_c512tnh\n",
      "2         whats_ina_username  c518rht  t1_c512tnh\n",
      "3                     UpDown  c518rqe  t1_c512tnh\n",
      "4       I_am_not_a_black_guy  c518u1h  t1_c512tnh\n",
      "...                      ...      ...         ...\n",
      "999995             qisqisqis  c5tkz4q    t3_y9h3u\n",
      "999996              sirbruce  c5tl2wv    t3_y9h3u\n",
      "999997             Menace117  c5tl3kk    t3_y9h3u\n",
      "999998         glutenfree123  c5tl4x1    t3_y9h3u\n",
      "999999               Jakabov  c5tl5r6    t3_y9h3u\n",
      "\n",
      "[988066 rows x 3 columns]\n"
     ]
    },
    {
     "name": "stderr",
     "output_type": "stream",
     "text": [
      "159it [26:30,  9.83s/it]"
     ]
    },
    {
     "name": "stdout",
     "output_type": "stream",
     "text": [
      "                 author       id parent_id\n",
      "0               johny5w  c5tl61a  t3_y9h3u\n",
      "1             gloomdoom  c5tlb98  t3_y9h3u\n",
      "2             Rettet181  c5tljze  t3_y9h3u\n",
      "3            fargosucks  c5tlng9  t3_y9h3u\n",
      "4          SezitLykItiz  c5tlpkc  t3_y9h3u\n",
      "...                 ...      ...       ...\n",
      "641222        Messier77  c696olg  t3_zzzw7\n",
      "641223  ArkadiusMaximus  c696zp6  t3_zzzw7\n",
      "641224        Mysticbus  c6975ul  t3_zzzw7\n",
      "641225        markevens  c69boo4  t3_zzzw7\n",
      "641226        [deleted]  c69df27  t3_zzzw7\n",
      "\n",
      "[633386 rows x 3 columns]\n"
     ]
    },
    {
     "name": "stderr",
     "output_type": "stream",
     "text": [
      "160it [26:36,  9.98s/it]\n"
     ]
    }
   ],
   "source": [
    "iterator = pd.read_hdf('data/raw/politics.h5',key = 'df',iterator=True,chunksize=1000000)\n",
    "for i in tqdm(iterator):\n",
    "    i = dh.remove_bots(i)\n",
    "    i = pd.DataFrame(i)\n",
    "    i['parent_id'] = i['parent_id'].astype('string').str.replace('t3_','')\n",
    "    i['parent_id'] = i['parent_id'].astype('string').str.replace('t1_','')\n",
    "    i[['parent_id']] = i[['parent_id']].astype(object)\n",
    "    i = pd.DataFrame(i)\n",
    "    i.to_hdf('data/proc/politics_rem_bots_2.h5', key='df', append=True)"
   ]
  },
  {
   "cell_type": "code",
   "execution_count": 6,
   "metadata": {},
   "outputs": [
    {
     "ename": "KeyboardInterrupt",
     "evalue": "",
     "output_type": "error",
     "traceback": [
      "\u001b[1;31m---------------------------------------------------------------------------\u001b[0m",
      "\u001b[1;31mKeyboardInterrupt\u001b[0m                         Traceback (most recent call last)",
      "\u001b[1;32m~\\AppData\\Local\\Temp/ipykernel_23320/2610998596.py\u001b[0m in \u001b[0;36m<module>\u001b[1;34m\u001b[0m\n\u001b[0;32m      1\u001b[0m \u001b[0miterator\u001b[0m \u001b[1;33m=\u001b[0m \u001b[0mpd\u001b[0m\u001b[1;33m.\u001b[0m\u001b[0mread_hdf\u001b[0m\u001b[1;33m(\u001b[0m\u001b[1;34m'data/proc/politics_rem_bots_2.h5'\u001b[0m\u001b[1;33m,\u001b[0m\u001b[0mcolumns\u001b[0m\u001b[1;33m=\u001b[0m\u001b[1;33m[\u001b[0m\u001b[1;34m'author'\u001b[0m\u001b[1;33m]\u001b[0m\u001b[1;33m,\u001b[0m \u001b[0mkey\u001b[0m \u001b[1;33m=\u001b[0m \u001b[1;34m'df'\u001b[0m\u001b[1;33m,\u001b[0m\u001b[0mchunksize\u001b[0m\u001b[1;33m=\u001b[0m\u001b[1;36m10000000\u001b[0m\u001b[1;33m)\u001b[0m\u001b[1;33m\u001b[0m\u001b[1;33m\u001b[0m\u001b[0m\n\u001b[1;32m----> 2\u001b[1;33m \u001b[1;32mfor\u001b[0m \u001b[0mn\u001b[0m\u001b[1;33m,\u001b[0m\u001b[0mi\u001b[0m \u001b[1;32min\u001b[0m \u001b[0menumerate\u001b[0m\u001b[1;33m(\u001b[0m\u001b[0miterator\u001b[0m\u001b[1;33m)\u001b[0m\u001b[1;33m:\u001b[0m\u001b[1;33m\u001b[0m\u001b[1;33m\u001b[0m\u001b[0m\n\u001b[0m\u001b[0;32m      3\u001b[0m     \u001b[0msys\u001b[0m\u001b[1;33m.\u001b[0m\u001b[0mgetsizeof\u001b[0m\u001b[1;33m(\u001b[0m\u001b[0mi\u001b[0m\u001b[1;33m)\u001b[0m\u001b[1;33m\u001b[0m\u001b[1;33m\u001b[0m\u001b[0m\n\u001b[0;32m      4\u001b[0m \u001b[0mprint\u001b[0m\u001b[1;33m(\u001b[0m\u001b[0mn\u001b[0m\u001b[1;33m)\u001b[0m\u001b[1;33m\u001b[0m\u001b[1;33m\u001b[0m\u001b[0m\n",
      "\u001b[1;32mc:\\Users\\valen\\anaconda3\\lib\\site-packages\\pandas\\io\\pytables.py\u001b[0m in \u001b[0;36m__iter__\u001b[1;34m(self)\u001b[0m\n\u001b[0;32m   1907\u001b[0m         \u001b[1;32mwhile\u001b[0m \u001b[0mcurrent\u001b[0m \u001b[1;33m<\u001b[0m \u001b[0mself\u001b[0m\u001b[1;33m.\u001b[0m\u001b[0mstop\u001b[0m\u001b[1;33m:\u001b[0m\u001b[1;33m\u001b[0m\u001b[1;33m\u001b[0m\u001b[0m\n\u001b[0;32m   1908\u001b[0m             \u001b[0mstop\u001b[0m \u001b[1;33m=\u001b[0m \u001b[0mmin\u001b[0m\u001b[1;33m(\u001b[0m\u001b[0mcurrent\u001b[0m \u001b[1;33m+\u001b[0m \u001b[0mself\u001b[0m\u001b[1;33m.\u001b[0m\u001b[0mchunksize\u001b[0m\u001b[1;33m,\u001b[0m \u001b[0mself\u001b[0m\u001b[1;33m.\u001b[0m\u001b[0mstop\u001b[0m\u001b[1;33m)\u001b[0m\u001b[1;33m\u001b[0m\u001b[1;33m\u001b[0m\u001b[0m\n\u001b[1;32m-> 1909\u001b[1;33m             \u001b[0mvalue\u001b[0m \u001b[1;33m=\u001b[0m \u001b[0mself\u001b[0m\u001b[1;33m.\u001b[0m\u001b[0mfunc\u001b[0m\u001b[1;33m(\u001b[0m\u001b[1;32mNone\u001b[0m\u001b[1;33m,\u001b[0m \u001b[1;32mNone\u001b[0m\u001b[1;33m,\u001b[0m \u001b[0mself\u001b[0m\u001b[1;33m.\u001b[0m\u001b[0mcoordinates\u001b[0m\u001b[1;33m[\u001b[0m\u001b[0mcurrent\u001b[0m\u001b[1;33m:\u001b[0m\u001b[0mstop\u001b[0m\u001b[1;33m]\u001b[0m\u001b[1;33m)\u001b[0m\u001b[1;33m\u001b[0m\u001b[1;33m\u001b[0m\u001b[0m\n\u001b[0m\u001b[0;32m   1910\u001b[0m             \u001b[0mcurrent\u001b[0m \u001b[1;33m=\u001b[0m \u001b[0mstop\u001b[0m\u001b[1;33m\u001b[0m\u001b[1;33m\u001b[0m\u001b[0m\n\u001b[0;32m   1911\u001b[0m             \u001b[1;32mif\u001b[0m \u001b[0mvalue\u001b[0m \u001b[1;32mis\u001b[0m \u001b[1;32mNone\u001b[0m \u001b[1;32mor\u001b[0m \u001b[1;32mnot\u001b[0m \u001b[0mlen\u001b[0m\u001b[1;33m(\u001b[0m\u001b[0mvalue\u001b[0m\u001b[1;33m)\u001b[0m\u001b[1;33m:\u001b[0m\u001b[1;33m\u001b[0m\u001b[1;33m\u001b[0m\u001b[0m\n",
      "\u001b[1;32mc:\\Users\\valen\\anaconda3\\lib\\site-packages\\pandas\\io\\pytables.py\u001b[0m in \u001b[0;36mfunc\u001b[1;34m(_start, _stop, _where)\u001b[0m\n\u001b[0;32m    857\u001b[0m         \u001b[1;31m# function to call on iteration\u001b[0m\u001b[1;33m\u001b[0m\u001b[1;33m\u001b[0m\u001b[0m\n\u001b[0;32m    858\u001b[0m         \u001b[1;32mdef\u001b[0m \u001b[0mfunc\u001b[0m\u001b[1;33m(\u001b[0m\u001b[0m_start\u001b[0m\u001b[1;33m,\u001b[0m \u001b[0m_stop\u001b[0m\u001b[1;33m,\u001b[0m \u001b[0m_where\u001b[0m\u001b[1;33m)\u001b[0m\u001b[1;33m:\u001b[0m\u001b[1;33m\u001b[0m\u001b[1;33m\u001b[0m\u001b[0m\n\u001b[1;32m--> 859\u001b[1;33m             \u001b[1;32mreturn\u001b[0m \u001b[0ms\u001b[0m\u001b[1;33m.\u001b[0m\u001b[0mread\u001b[0m\u001b[1;33m(\u001b[0m\u001b[0mstart\u001b[0m\u001b[1;33m=\u001b[0m\u001b[0m_start\u001b[0m\u001b[1;33m,\u001b[0m \u001b[0mstop\u001b[0m\u001b[1;33m=\u001b[0m\u001b[0m_stop\u001b[0m\u001b[1;33m,\u001b[0m \u001b[0mwhere\u001b[0m\u001b[1;33m=\u001b[0m\u001b[0m_where\u001b[0m\u001b[1;33m,\u001b[0m \u001b[0mcolumns\u001b[0m\u001b[1;33m=\u001b[0m\u001b[0mcolumns\u001b[0m\u001b[1;33m)\u001b[0m\u001b[1;33m\u001b[0m\u001b[1;33m\u001b[0m\u001b[0m\n\u001b[0m\u001b[0;32m    860\u001b[0m \u001b[1;33m\u001b[0m\u001b[0m\n\u001b[0;32m    861\u001b[0m         \u001b[1;31m# create the iterator\u001b[0m\u001b[1;33m\u001b[0m\u001b[1;33m\u001b[0m\u001b[0m\n",
      "\u001b[1;32mc:\\Users\\valen\\anaconda3\\lib\\site-packages\\pandas\\io\\pytables.py\u001b[0m in \u001b[0;36mread\u001b[1;34m(self, where, columns, start, stop)\u001b[0m\n\u001b[0;32m   4529\u001b[0m             \u001b[1;32mreturn\u001b[0m \u001b[1;32mNone\u001b[0m\u001b[1;33m\u001b[0m\u001b[1;33m\u001b[0m\u001b[0m\n\u001b[0;32m   4530\u001b[0m \u001b[1;33m\u001b[0m\u001b[0m\n\u001b[1;32m-> 4531\u001b[1;33m         \u001b[0mresult\u001b[0m \u001b[1;33m=\u001b[0m \u001b[0mself\u001b[0m\u001b[1;33m.\u001b[0m\u001b[0m_read_axes\u001b[0m\u001b[1;33m(\u001b[0m\u001b[0mwhere\u001b[0m\u001b[1;33m=\u001b[0m\u001b[0mwhere\u001b[0m\u001b[1;33m,\u001b[0m \u001b[0mstart\u001b[0m\u001b[1;33m=\u001b[0m\u001b[0mstart\u001b[0m\u001b[1;33m,\u001b[0m \u001b[0mstop\u001b[0m\u001b[1;33m=\u001b[0m\u001b[0mstop\u001b[0m\u001b[1;33m)\u001b[0m\u001b[1;33m\u001b[0m\u001b[1;33m\u001b[0m\u001b[0m\n\u001b[0m\u001b[0;32m   4532\u001b[0m \u001b[1;33m\u001b[0m\u001b[0m\n\u001b[0;32m   4533\u001b[0m         info = (\n",
      "\u001b[1;32mc:\\Users\\valen\\anaconda3\\lib\\site-packages\\pandas\\io\\pytables.py\u001b[0m in \u001b[0;36m_read_axes\u001b[1;34m(self, where, start, stop)\u001b[0m\n\u001b[0;32m   3721\u001b[0m         \u001b[1;31m# create the selection\u001b[0m\u001b[1;33m\u001b[0m\u001b[1;33m\u001b[0m\u001b[0m\n\u001b[0;32m   3722\u001b[0m         \u001b[0mselection\u001b[0m \u001b[1;33m=\u001b[0m \u001b[0mSelection\u001b[0m\u001b[1;33m(\u001b[0m\u001b[0mself\u001b[0m\u001b[1;33m,\u001b[0m \u001b[0mwhere\u001b[0m\u001b[1;33m=\u001b[0m\u001b[0mwhere\u001b[0m\u001b[1;33m,\u001b[0m \u001b[0mstart\u001b[0m\u001b[1;33m=\u001b[0m\u001b[0mstart\u001b[0m\u001b[1;33m,\u001b[0m \u001b[0mstop\u001b[0m\u001b[1;33m=\u001b[0m\u001b[0mstop\u001b[0m\u001b[1;33m)\u001b[0m\u001b[1;33m\u001b[0m\u001b[1;33m\u001b[0m\u001b[0m\n\u001b[1;32m-> 3723\u001b[1;33m         \u001b[0mvalues\u001b[0m \u001b[1;33m=\u001b[0m \u001b[0mselection\u001b[0m\u001b[1;33m.\u001b[0m\u001b[0mselect\u001b[0m\u001b[1;33m(\u001b[0m\u001b[1;33m)\u001b[0m\u001b[1;33m\u001b[0m\u001b[1;33m\u001b[0m\u001b[0m\n\u001b[0m\u001b[0;32m   3724\u001b[0m \u001b[1;33m\u001b[0m\u001b[0m\n\u001b[0;32m   3725\u001b[0m         \u001b[0mresults\u001b[0m \u001b[1;33m=\u001b[0m \u001b[1;33m[\u001b[0m\u001b[1;33m]\u001b[0m\u001b[1;33m\u001b[0m\u001b[1;33m\u001b[0m\u001b[0m\n",
      "\u001b[1;32mc:\\Users\\valen\\anaconda3\\lib\\site-packages\\pandas\\io\\pytables.py\u001b[0m in \u001b[0;36mselect\u001b[1;34m(self)\u001b[0m\n\u001b[0;32m   5274\u001b[0m             )\n\u001b[0;32m   5275\u001b[0m         \u001b[1;32melif\u001b[0m \u001b[0mself\u001b[0m\u001b[1;33m.\u001b[0m\u001b[0mcoordinates\u001b[0m \u001b[1;32mis\u001b[0m \u001b[1;32mnot\u001b[0m \u001b[1;32mNone\u001b[0m\u001b[1;33m:\u001b[0m\u001b[1;33m\u001b[0m\u001b[1;33m\u001b[0m\u001b[0m\n\u001b[1;32m-> 5276\u001b[1;33m             \u001b[1;32mreturn\u001b[0m \u001b[0mself\u001b[0m\u001b[1;33m.\u001b[0m\u001b[0mtable\u001b[0m\u001b[1;33m.\u001b[0m\u001b[0mtable\u001b[0m\u001b[1;33m.\u001b[0m\u001b[0mread_coordinates\u001b[0m\u001b[1;33m(\u001b[0m\u001b[0mself\u001b[0m\u001b[1;33m.\u001b[0m\u001b[0mcoordinates\u001b[0m\u001b[1;33m)\u001b[0m\u001b[1;33m\u001b[0m\u001b[1;33m\u001b[0m\u001b[0m\n\u001b[0m\u001b[0;32m   5277\u001b[0m         \u001b[1;32mreturn\u001b[0m \u001b[0mself\u001b[0m\u001b[1;33m.\u001b[0m\u001b[0mtable\u001b[0m\u001b[1;33m.\u001b[0m\u001b[0mtable\u001b[0m\u001b[1;33m.\u001b[0m\u001b[0mread\u001b[0m\u001b[1;33m(\u001b[0m\u001b[0mstart\u001b[0m\u001b[1;33m=\u001b[0m\u001b[0mself\u001b[0m\u001b[1;33m.\u001b[0m\u001b[0mstart\u001b[0m\u001b[1;33m,\u001b[0m \u001b[0mstop\u001b[0m\u001b[1;33m=\u001b[0m\u001b[0mself\u001b[0m\u001b[1;33m.\u001b[0m\u001b[0mstop\u001b[0m\u001b[1;33m)\u001b[0m\u001b[1;33m\u001b[0m\u001b[1;33m\u001b[0m\u001b[0m\n\u001b[0;32m   5278\u001b[0m \u001b[1;33m\u001b[0m\u001b[0m\n",
      "\u001b[1;32mc:\\Users\\valen\\anaconda3\\lib\\site-packages\\tables\\table.py\u001b[0m in \u001b[0;36mread_coordinates\u001b[1;34m(self, coords, field)\u001b[0m\n\u001b[0;32m   1977\u001b[0m \u001b[1;33m\u001b[0m\u001b[0m\n\u001b[0;32m   1978\u001b[0m         \u001b[0mself\u001b[0m\u001b[1;33m.\u001b[0m\u001b[0m_g_check_open\u001b[0m\u001b[1;33m(\u001b[0m\u001b[1;33m)\u001b[0m\u001b[1;33m\u001b[0m\u001b[1;33m\u001b[0m\u001b[0m\n\u001b[1;32m-> 1979\u001b[1;33m         \u001b[0mresult\u001b[0m \u001b[1;33m=\u001b[0m \u001b[0mself\u001b[0m\u001b[1;33m.\u001b[0m\u001b[0m_read_coordinates\u001b[0m\u001b[1;33m(\u001b[0m\u001b[0mcoords\u001b[0m\u001b[1;33m,\u001b[0m \u001b[0mfield\u001b[0m\u001b[1;33m)\u001b[0m\u001b[1;33m\u001b[0m\u001b[1;33m\u001b[0m\u001b[0m\n\u001b[0m\u001b[0;32m   1980\u001b[0m         \u001b[1;32mreturn\u001b[0m \u001b[0minternal_to_flavor\u001b[0m\u001b[1;33m(\u001b[0m\u001b[0mresult\u001b[0m\u001b[1;33m,\u001b[0m \u001b[0mself\u001b[0m\u001b[1;33m.\u001b[0m\u001b[0mflavor\u001b[0m\u001b[1;33m)\u001b[0m\u001b[1;33m\u001b[0m\u001b[1;33m\u001b[0m\u001b[0m\n\u001b[0;32m   1981\u001b[0m \u001b[1;33m\u001b[0m\u001b[0m\n",
      "\u001b[1;32mc:\\Users\\valen\\anaconda3\\lib\\site-packages\\tables\\table.py\u001b[0m in \u001b[0;36m_read_coordinates\u001b[1;34m(self, coords, field)\u001b[0m\n\u001b[0;32m   1953\u001b[0m                 \u001b[1;31m# Get a contiguous and aligned coordinate array\u001b[0m\u001b[1;33m\u001b[0m\u001b[1;33m\u001b[0m\u001b[0m\n\u001b[0;32m   1954\u001b[0m                 \u001b[0mcoords\u001b[0m \u001b[1;33m=\u001b[0m \u001b[0mnumpy\u001b[0m\u001b[1;33m.\u001b[0m\u001b[0marray\u001b[0m\u001b[1;33m(\u001b[0m\u001b[0mcoords\u001b[0m\u001b[1;33m,\u001b[0m \u001b[0mdtype\u001b[0m\u001b[1;33m=\u001b[0m\u001b[0mSizeType\u001b[0m\u001b[1;33m)\u001b[0m\u001b[1;33m\u001b[0m\u001b[1;33m\u001b[0m\u001b[0m\n\u001b[1;32m-> 1955\u001b[1;33m             \u001b[0mself\u001b[0m\u001b[1;33m.\u001b[0m\u001b[0m_read_elements\u001b[0m\u001b[1;33m(\u001b[0m\u001b[0mcoords\u001b[0m\u001b[1;33m,\u001b[0m \u001b[0mresult\u001b[0m\u001b[1;33m)\u001b[0m\u001b[1;33m\u001b[0m\u001b[1;33m\u001b[0m\u001b[0m\n\u001b[0m\u001b[0;32m   1956\u001b[0m \u001b[1;33m\u001b[0m\u001b[0m\n\u001b[0;32m   1957\u001b[0m         \u001b[1;31m# Do the final conversions, if needed\u001b[0m\u001b[1;33m\u001b[0m\u001b[1;33m\u001b[0m\u001b[0m\n",
      "\u001b[1;31mKeyboardInterrupt\u001b[0m: "
     ]
    }
   ],
   "source": [
    "iterator = pd.read_hdf('data/proc/politics_rem_bots_2.h5',columns=['author'], key = 'df',chunksize=10000000)\n",
    "for n,i in enumerate(iterator):\n",
    "    sys.getsizeof(i)\n",
    "print(n)"
   ]
  }
 ],
 "metadata": {
  "kernelspec": {
   "display_name": "Python 3.9.7 ('base')",
   "language": "python",
   "name": "python3"
  },
  "language_info": {
   "codemirror_mode": {
    "name": "ipython",
    "version": 3
   },
   "file_extension": ".py",
   "mimetype": "text/x-python",
   "name": "python",
   "nbconvert_exporter": "python",
   "pygments_lexer": "ipython3",
   "version": "3.9.7"
  },
  "orig_nbformat": 4,
  "vscode": {
   "interpreter": {
    "hash": "77238a471535228e8cd55a3ca9e771a69c6c0bc66c44a56c972f9554a4042742"
   }
  }
 },
 "nbformat": 4,
 "nbformat_minor": 2
}
